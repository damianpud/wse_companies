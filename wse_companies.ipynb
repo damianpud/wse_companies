{
 "cells": [
  {
   "cell_type": "markdown",
   "metadata": {},
   "source": [
    "# Analysis of the Warsaw Stock Exchange Companies #"
   ]
  },
  {
   "cell_type": "code",
   "execution_count": 1,
   "metadata": {},
   "outputs": [],
   "source": [
    "# Import necessary libraries\n",
    "\n",
    "import os\n",
    "import requests\n",
    "import pandas as pd\n",
    "import plotly.express as px\n",
    "import plotly.graph_objects as go\n",
    "from plotly.subplots import make_subplots\n",
    "from bs4 import BeautifulSoup"
   ]
  },
  {
   "cell_type": "code",
   "execution_count": 2,
   "metadata": {},
   "outputs": [],
   "source": [
    "# Set responses to get all companies and their ratios like book value per share, earnings per share, earnings before deducting interest and taxes, debt and others from Warsaw Stock Exchange. \n",
    "\n",
    "session = requests.Session()\n",
    "response_pbv = session.get(\"https://www.biznesradar.pl/spolki-wskazniki-wartosci-rynkowej/akcje_gpw\")\n",
    "response_pbvgrah = session.get(\"https://www.biznesradar.pl/spolki-wskazniki-wartosci-rynkowej/akcje_gpw,1,CWKGrahamCurrent,2,2\")\n",
    "response_pe = session.get(\"https://www.biznesradar.pl/spolki-wskazniki-wartosci-rynkowej/akcje_gpw,1,CZCurrent,2,2\")\n",
    "response_dr = session.get(\"https://www.biznesradar.pl/spolki-wskazniki-zadluzenia/akcje_gpw\")\n",
    "response_pebit = session.get(\"https://www.biznesradar.pl/spolki-wskazniki-wartosci-rynkowej/akcje_gpw,1,CZOCurrent,2,2\")\n",
    "response_roe = session.get(\"https://www.biznesradar.pl/spolki-wskazniki-rentownosci/akcje_gpw\")\n",
    "response_income_net = session.get(\"https://www.biznesradar.pl/spolki-raporty-finansowe-rachunek-zyskow-i-strat/akcje_gpw\")\n",
    "response_income_ebit = session.get(\"https://www.biznesradar.pl/spolki-raporty-finansowe-rachunek-zyskow-i-strat/akcje_gpw,Q,IncomeEBIT,2,2,0\")\n"
   ]
  },
  {
   "cell_type": "code",
   "execution_count": 3,
   "metadata": {},
   "outputs": [
    {
     "name": "stdout",
     "output_type": "stream",
     "text": [
      "                Income EBIT y/y [%] Income EBIT q/q [%]\n",
      "Company                                                \n",
      "CPS (CYFRPLSAT)            +716.64%            +504.27%\n",
      "PKN (PKNORLEN)             +261.87%             +38.49%\n",
      "MOL                        +181.73%             +29.53%\n",
      "PZU                         +35.02%             +12.30%\n",
      "OPL (ORANGEPL)            +1137.33%            +728.57%\n",
      "               Income net y/y [%] Income net q/q [%]\n",
      "Company                                             \n",
      "PKN (PKNORLEN)            +52.36%            +23.86%\n",
      "MOL                       +63.44%            +15.85%\n",
      "PGN (PGNIG)               +95.70%            +19.91%\n",
      "PGE                        +6.03%             +9.33%\n",
      "PZU                       +15.23%            +11.37%\n",
      "                   P/E\n",
      "Company               \n",
      "MWT (MWTRADE)   888.35\n",
      "EAT (AMREST)    295.21\n",
      "MLS (MLSYSTEM)  251.52\n",
      "ERB (ERBUD)     236.36\n",
      "SEK (SEKO)      163.01\n",
      "                 P/BV Graham's\n",
      "Company                       \n",
      "INV (INVISTA)         9 785.95\n",
      "MEG (MEGARON)           397.74\n",
      "STH (STSHOLDING)        232.14\n",
      "IDM (IDMSA)             160.39\n",
      "SPH (SOPHARMA)          146.32\n",
      "                   P/EBIT\n",
      "Company                  \n",
      "RAF (RAFAMET)    2 637.49\n",
      "IDG (INDYGO)       688.72\n",
      "APE (APSENERGY)    524.56\n",
      "PKO (PKOBP)        484.01\n",
      "B24 (BRAND24)      318.47\n",
      "                   P/BV\n",
      "Company                \n",
      "GCN (GROCLIN)    142.07\n",
      "MAB (MABION)      74.72\n",
      "SHO (SHOPER)      66.31\n",
      "NXG (NEXITY)      47.28\n",
      "GPP (GRUPRACUJ)   43.81\n",
      "                Debt ratio\n",
      "Company                   \n",
      "PBG                  43.69\n",
      "DRE (DREWEX)         24.28\n",
      "FFI (FASTFIN)        10.32\n",
      "PLZ (PLAZACNTR)       7.84\n",
      "PCG (PCGUARD)         4.82\n",
      "...                    ...\n",
      "BCS (BIGCHEESE)       0.02\n",
      "VTI (VENTUREIN)       0.00\n",
      "ATS (ATLANTIS)        0.00\n",
      "IFC (IFCAPITAL)       0.00\n",
      "IMP (IMPERIO)         0.00\n",
      "\n",
      "[428 rows x 1 columns]\n",
      "                     ROE [%]\n",
      "Company                     \n",
      "STS (SATIS)      111 021.22%\n",
      "REG (REGNON)       2 150.00%\n",
      "CLE (COALENERG)    1 158.04%\n",
      "FMG                  964.39%\n",
      "VTL (VISTAL)         720.47%\n",
      "...                      ...\n",
      "OPF (OPENFIN)       -519.08%\n",
      "IPO (INTERSPPL)     -717.70%\n",
      "NXG (NEXITY)      -1 197.39%\n",
      "ADV (ADIUVO)      -1 262.01%\n",
      "GCN (GROCLIN)     -2 781.38%\n",
      "\n",
      "[401 rows x 1 columns]\n"
     ]
    }
   ],
   "source": [
    "# Let's define function to parsing table\n",
    "\n",
    "def table_parser(response, table_number, number_of_columns=None):\n",
    "    \"\"\"Function take response argument and set html.parser. Next by defined table_number picks out table \n",
    "       where are alocated records and divides table for rows. In for loop divides every row for td tags \n",
    "       and strips them to row lists. Finally to avoid empty values in rows, checks by established argument \n",
    "       number_of_columns amount of values in list. Returns list of companies ratios.\"\"\"\n",
    "    \n",
    "    soup = BeautifulSoup(response.text, 'html.parser')\n",
    "    table = soup.find_all('table')[table_number]\n",
    "    table_rows = table.find_all('tr')\n",
    "    res = []\n",
    "    for tr in table_rows:\n",
    "        td = tr.find_all('td')\n",
    "        row = [tr.text.strip() for tr in td if tr.text.strip()]\n",
    "        if number_of_columns:\n",
    "            if len(row) >= number_of_columns:\n",
    "                res.append(row)\n",
    "        else:\n",
    "            if row:\n",
    "                res.append(row)\n",
    "    return res\n",
    "\n",
    "# let's create Series\n",
    "\n",
    "df = pd.DataFrame(table_parser(response_income_ebit, 0, 7))\n",
    "df = df.drop(columns=[1, 2, 5, 6])\n",
    "df = df.rename(columns={0: \"Company\", 3: \"Income EBIT y/y [%]\", 4: \"Income EBIT q/q [%]\"})\n",
    "df_income_ebit = df.set_index(\"Company\")\n",
    "\n",
    "\n",
    "print(df_income_ebit.head())\n",
    "\n",
    "df = pd.DataFrame(table_parser(response_income_net, 0, 7))\n",
    "df = df.drop(columns=[1, 2, 5, 6])\n",
    "df = df.rename(columns={0: \"Company\", 3: \"Income net y/y [%]\", 4: \"Income net q/q [%]\"})\n",
    "df_income_net = df.set_index(\"Company\")\n",
    "\n",
    "\n",
    "print(df_income_net.head())\n",
    "\n",
    "df = pd.DataFrame(table_parser(response_pe, 0, 4))\n",
    "df = df.drop(columns=[1, 3, 4, 5, 6, 7, 8])\n",
    "df = df.rename(columns={0: \"Company\", 2: \"P/E\"})\n",
    "df_pe = df.set_index(\"Company\")\n",
    "\n",
    "print(df_pe.head())\n",
    "\n",
    "df = pd.DataFrame(table_parser(response_pbvgrah, 0, 4))\n",
    "df = df.drop(columns=[1, 3, 4, 5, 6, 7, 8])\n",
    "df = df.rename(columns={0: \"Company\", 2: \"P/BV Graham's\"})\n",
    "df_pbvgrah = df.set_index(\"Company\")\n",
    "\n",
    "print(df_pbvgrah.head())\n",
    "\n",
    "df = pd.DataFrame(table_parser(response_pebit, 0, 4))\n",
    "df = df.drop(columns=[1, 3, 4, 5, 6, 7, 8])\n",
    "df = df.rename(columns={0: \"Company\", 2: \"P/EBIT\"})\n",
    "df_pebit = df.set_index(\"Company\")\n",
    "\n",
    "print(df_pebit.head())\n",
    "\n",
    "df = pd.DataFrame(table_parser(response_pbv, 0, 4))\n",
    "df = df.drop(columns=[1, 3, 4, 5, 6, 7, 8])\n",
    "df = df.rename(columns={0: \"Company\", 2: \"P/BV\"})\n",
    "df_pbv = df.set_index(\"Company\")\n",
    "\n",
    "print(df_pbv.head())\n",
    "\n",
    "df = pd.DataFrame(table_parser(response_dr, 0, 4))\n",
    "df = df.drop(columns=[1, 3, 4, 5, 6, 7, 8])\n",
    "df = df.rename(columns={0: \"Company\", 2: \"Debt ratio\"})\n",
    "df_dr = df.set_index(\"Company\")\n",
    "\n",
    "print(df_dr)\n",
    "\n",
    "df = pd.DataFrame(table_parser(response_roe, 0, 8))\n",
    "df = df.drop(columns=[1, 3, 4, 5, 6, 7, 8])\n",
    "df = df.rename(columns={0: \"Company\", 2: \"ROE [%]\"})\n",
    "df_roe = df.set_index(\"Company\")\n",
    "print(df_roe)"
   ]
  },
  {
   "cell_type": "code",
   "execution_count": 4,
   "metadata": {},
   "outputs": [
    {
     "data": {
      "text/html": [
       "<div>\n",
       "<style scoped>\n",
       "    .dataframe tbody tr th:only-of-type {\n",
       "        vertical-align: middle;\n",
       "    }\n",
       "\n",
       "    .dataframe tbody tr th {\n",
       "        vertical-align: top;\n",
       "    }\n",
       "\n",
       "    .dataframe thead th {\n",
       "        text-align: right;\n",
       "    }\n",
       "</style>\n",
       "<table border=\"1\" class=\"dataframe\">\n",
       "  <thead>\n",
       "    <tr style=\"text-align: right;\">\n",
       "      <th></th>\n",
       "      <th>P/BV</th>\n",
       "      <th>P/E</th>\n",
       "      <th>Debt ratio</th>\n",
       "      <th>P/BV Graham's</th>\n",
       "      <th>P/EBIT</th>\n",
       "      <th>ROE [%]</th>\n",
       "      <th>Income net y/y [%]</th>\n",
       "      <th>Income net q/q [%]</th>\n",
       "      <th>Income EBIT y/y [%]</th>\n",
       "      <th>Income EBIT q/q [%]</th>\n",
       "    </tr>\n",
       "    <tr>\n",
       "      <th>Company</th>\n",
       "      <th></th>\n",
       "      <th></th>\n",
       "      <th></th>\n",
       "      <th></th>\n",
       "      <th></th>\n",
       "      <th></th>\n",
       "      <th></th>\n",
       "      <th></th>\n",
       "      <th></th>\n",
       "      <th></th>\n",
       "    </tr>\n",
       "  </thead>\n",
       "  <tbody>\n",
       "    <tr>\n",
       "      <th>STS (SATIS)</th>\n",
       "      <td>39.32</td>\n",
       "      <td>0.04</td>\n",
       "      <td>0.89</td>\n",
       "      <td>77.07</td>\n",
       "      <td>0.04</td>\n",
       "      <td>111 021.22%</td>\n",
       "      <td>+10.10%</td>\n",
       "      <td>-29.97%</td>\n",
       "      <td>-34.01%</td>\n",
       "      <td>-100.07%</td>\n",
       "    </tr>\n",
       "    <tr>\n",
       "      <th>LVC (LIVECHAT)</th>\n",
       "      <td>33.01</td>\n",
       "      <td>27.48</td>\n",
       "      <td>0.22</td>\n",
       "      <td>57.06</td>\n",
       "      <td>25.61</td>\n",
       "      <td>120.13%</td>\n",
       "      <td>+29.11%</td>\n",
       "      <td>+13.80%</td>\n",
       "      <td>+49.88%</td>\n",
       "      <td>+27.42%</td>\n",
       "    </tr>\n",
       "    <tr>\n",
       "      <th>IFI (IFIRMA)</th>\n",
       "      <td>15.36</td>\n",
       "      <td>46.03</td>\n",
       "      <td>0.19</td>\n",
       "      <td>13.39</td>\n",
       "      <td>36.94</td>\n",
       "      <td>33.37%</td>\n",
       "      <td>+50.31%</td>\n",
       "      <td>+14.18%</td>\n",
       "      <td>+214.10%</td>\n",
       "      <td>+94.56%</td>\n",
       "    </tr>\n",
       "    <tr>\n",
       "      <th>CDR (CDPROJEKT)</th>\n",
       "      <td>10.03</td>\n",
       "      <td>16.64</td>\n",
       "      <td>0.15</td>\n",
       "      <td>20.40</td>\n",
       "      <td>16.56</td>\n",
       "      <td>60.30%</td>\n",
       "      <td>+38.23%</td>\n",
       "      <td>-47.07%</td>\n",
       "      <td>-44.59%</td>\n",
       "      <td>-80.31%</td>\n",
       "    </tr>\n",
       "    <tr>\n",
       "      <th>CRJ (CREEPYJAR)</th>\n",
       "      <td>8.77</td>\n",
       "      <td>19.45</td>\n",
       "      <td>0.05</td>\n",
       "      <td>9.68</td>\n",
       "      <td>19.60</td>\n",
       "      <td>45.09%</td>\n",
       "      <td>+85.67%</td>\n",
       "      <td>+7.81%</td>\n",
       "      <td>+860.44%</td>\n",
       "      <td>+13.19%</td>\n",
       "    </tr>\n",
       "    <tr>\n",
       "      <th>TEN (TSGAMES)</th>\n",
       "      <td>7.71</td>\n",
       "      <td>17.35</td>\n",
       "      <td>0.31</td>\n",
       "      <td>82.45</td>\n",
       "      <td>15.09</td>\n",
       "      <td>44.44%</td>\n",
       "      <td>-17.47%</td>\n",
       "      <td>-10.27%</td>\n",
       "      <td>-53.07%</td>\n",
       "      <td>-19.38%</td>\n",
       "    </tr>\n",
       "    <tr>\n",
       "      <th>MBR (MOBRUK)</th>\n",
       "      <td>7.68</td>\n",
       "      <td>12.20</td>\n",
       "      <td>0.25</td>\n",
       "      <td>22.34</td>\n",
       "      <td>9.49</td>\n",
       "      <td>62.98%</td>\n",
       "      <td>+31.94%</td>\n",
       "      <td>-5.55%</td>\n",
       "      <td>+20.49%</td>\n",
       "      <td>+10.60%</td>\n",
       "    </tr>\n",
       "    <tr>\n",
       "      <th>PSW (PGSSOFT)</th>\n",
       "      <td>7.47</td>\n",
       "      <td>13.39</td>\n",
       "      <td>0.32</td>\n",
       "      <td>9.95</td>\n",
       "      <td>12.38</td>\n",
       "      <td>55.78%</td>\n",
       "      <td>+60.96%</td>\n",
       "      <td>+14.79%</td>\n",
       "      <td>+143.45%</td>\n",
       "      <td>+26.46%</td>\n",
       "    </tr>\n",
       "    <tr>\n",
       "      <th>PLW (PLAYWAY)</th>\n",
       "      <td>7.22</td>\n",
       "      <td>22.52</td>\n",
       "      <td>0.09</td>\n",
       "      <td>11.81</td>\n",
       "      <td>21.56</td>\n",
       "      <td>32.08%</td>\n",
       "      <td>+92.29%</td>\n",
       "      <td>+24.50%</td>\n",
       "      <td>+106.55%</td>\n",
       "      <td>+42.38%</td>\n",
       "    </tr>\n",
       "    <tr>\n",
       "      <th>11B (11BIT)</th>\n",
       "      <td>6.93</td>\n",
       "      <td>56.78</td>\n",
       "      <td>0.09</td>\n",
       "      <td>12.49</td>\n",
       "      <td>53.34</td>\n",
       "      <td>12.21%</td>\n",
       "      <td>-25.41%</td>\n",
       "      <td>-35.92%</td>\n",
       "      <td>-55.08%</td>\n",
       "      <td>-64.51%</td>\n",
       "    </tr>\n",
       "  </tbody>\n",
       "</table>\n",
       "</div>"
      ],
      "text/plain": [
       "                  P/BV    P/E Debt ratio P/BV Graham's P/EBIT      ROE [%]  \\\n",
       "Company                                                                      \n",
       "STS (SATIS)      39.32   0.04       0.89         77.07   0.04  111 021.22%   \n",
       "LVC (LIVECHAT)   33.01  27.48       0.22         57.06  25.61      120.13%   \n",
       "IFI (IFIRMA)     15.36  46.03       0.19         13.39  36.94       33.37%   \n",
       "CDR (CDPROJEKT)  10.03  16.64       0.15         20.40  16.56       60.30%   \n",
       "CRJ (CREEPYJAR)   8.77  19.45       0.05          9.68  19.60       45.09%   \n",
       "TEN (TSGAMES)     7.71  17.35       0.31         82.45  15.09       44.44%   \n",
       "MBR (MOBRUK)      7.68  12.20       0.25         22.34   9.49       62.98%   \n",
       "PSW (PGSSOFT)     7.47  13.39       0.32          9.95  12.38       55.78%   \n",
       "PLW (PLAYWAY)     7.22  22.52       0.09         11.81  21.56       32.08%   \n",
       "11B (11BIT)       6.93  56.78       0.09         12.49  53.34       12.21%   \n",
       "\n",
       "                Income net y/y [%] Income net q/q [%] Income EBIT y/y [%]  \\\n",
       "Company                                                                     \n",
       "STS (SATIS)                +10.10%            -29.97%             -34.01%   \n",
       "LVC (LIVECHAT)             +29.11%            +13.80%             +49.88%   \n",
       "IFI (IFIRMA)               +50.31%            +14.18%            +214.10%   \n",
       "CDR (CDPROJEKT)            +38.23%            -47.07%             -44.59%   \n",
       "CRJ (CREEPYJAR)            +85.67%             +7.81%            +860.44%   \n",
       "TEN (TSGAMES)              -17.47%            -10.27%             -53.07%   \n",
       "MBR (MOBRUK)               +31.94%             -5.55%             +20.49%   \n",
       "PSW (PGSSOFT)              +60.96%            +14.79%            +143.45%   \n",
       "PLW (PLAYWAY)              +92.29%            +24.50%            +106.55%   \n",
       "11B (11BIT)                -25.41%            -35.92%             -55.08%   \n",
       "\n",
       "                Income EBIT q/q [%]  \n",
       "Company                              \n",
       "STS (SATIS)                -100.07%  \n",
       "LVC (LIVECHAT)              +27.42%  \n",
       "IFI (IFIRMA)                +94.56%  \n",
       "CDR (CDPROJEKT)             -80.31%  \n",
       "CRJ (CREEPYJAR)             +13.19%  \n",
       "TEN (TSGAMES)               -19.38%  \n",
       "MBR (MOBRUK)                +10.60%  \n",
       "PSW (PGSSOFT)               +26.46%  \n",
       "PLW (PLAYWAY)               +42.38%  \n",
       "11B (11BIT)                 -64.51%  "
      ]
     },
     "execution_count": 4,
     "metadata": {},
     "output_type": "execute_result"
    }
   ],
   "source": [
    "# We will join tables\n",
    "\n",
    "df = pd.concat([df_pbv, df_pe, df_dr, df_pbvgrah, df_pebit, df_roe, df_income_net, df_income_ebit], axis=1, join=\"inner\")\n",
    "\n",
    "# Let's take a look on data\n",
    "\n",
    "df.head(10)"
   ]
  },
  {
   "cell_type": "code",
   "execution_count": 5,
   "metadata": {},
   "outputs": [
    {
     "data": {
      "text/plain": [
       "P/BV                   0\n",
       "P/E                    0\n",
       "Debt ratio             0\n",
       "P/BV Graham's          0\n",
       "P/EBIT                 0\n",
       "ROE [%]                0\n",
       "Income net y/y [%]     0\n",
       "Income net q/q [%]     0\n",
       "Income EBIT y/y [%]    0\n",
       "Income EBIT q/q [%]    0\n",
       "dtype: int64"
      ]
     },
     "execution_count": 5,
     "metadata": {},
     "output_type": "execute_result"
    }
   ],
   "source": [
    "df.isnull().sum()"
   ]
  },
  {
   "cell_type": "code",
   "execution_count": 6,
   "metadata": {},
   "outputs": [
    {
     "name": "stdout",
     "output_type": "stream",
     "text": [
      "<class 'pandas.core.frame.DataFrame'>\n",
      "Index: 154 entries, STS (SATIS) to AAT (ALTA)\n",
      "Data columns (total 10 columns):\n",
      " #   Column               Non-Null Count  Dtype \n",
      "---  ------               --------------  ----- \n",
      " 0   P/BV                 154 non-null    object\n",
      " 1   P/E                  154 non-null    object\n",
      " 2   Debt ratio           154 non-null    object\n",
      " 3   P/BV Graham's        154 non-null    object\n",
      " 4   P/EBIT               154 non-null    object\n",
      " 5   ROE [%]              154 non-null    object\n",
      " 6   Income net y/y [%]   154 non-null    object\n",
      " 7   Income net q/q [%]   154 non-null    object\n",
      " 8   Income EBIT y/y [%]  154 non-null    object\n",
      " 9   Income EBIT q/q [%]  154 non-null    object\n",
      "dtypes: object(10)\n",
      "memory usage: 13.2+ KB\n"
     ]
    }
   ],
   "source": [
    "df.info()"
   ]
  },
  {
   "cell_type": "code",
   "execution_count": 7,
   "metadata": {},
   "outputs": [],
   "source": [
    "# We want to change our data types from object to float so first have to get rid of space, '+', and '%'\n",
    "\n",
    "df['P/E'] = df['P/E'].str.replace(' ','', regex=False)\n",
    "df['P/BV'] = df['P/BV'].str.replace(' ','', regex=False)\n",
    "df['Debt ratio'] = df['Debt ratio'].str.replace(' ','', regex=False)\n",
    "df[\"P/BV Graham's\"] = df[\"P/BV Graham's\"].str.replace(' ','', regex=False)\n",
    "df['P/EBIT'] = df['P/EBIT'].str.replace(' ','', regex=False)\n",
    "df['ROE [%]'] = df['ROE [%]'].str.replace(r'[\\s+%]', '', regex=True)\n",
    "\n",
    "df['Income net y/y [%]'] = df['Income net y/y [%]'].str.replace(r'[\\s+%+]', '', regex=True)\n",
    "df['Income net q/q [%]'] = df['Income net q/q [%]'].str.replace(r'[\\s+%+]', '', regex=True)\n",
    "\n",
    "df['Income EBIT y/y [%]'] = df['Income EBIT y/y [%]'].str.replace(r'[\\s+%+]', '', regex=True)\n",
    "df['Income EBIT q/q [%]'] = df['Income EBIT q/q [%]'].str.replace(r'[\\s+%+]', '', regex=True)\n",
    "\n",
    "df = df.astype(float)"
   ]
  },
  {
   "cell_type": "code",
   "execution_count": 8,
   "metadata": {},
   "outputs": [
    {
     "name": "stdout",
     "output_type": "stream",
     "text": [
      "<class 'pandas.core.frame.DataFrame'>\n",
      "Index: 154 entries, STS (SATIS) to AAT (ALTA)\n",
      "Data columns (total 10 columns):\n",
      " #   Column               Non-Null Count  Dtype  \n",
      "---  ------               --------------  -----  \n",
      " 0   P/BV                 154 non-null    float64\n",
      " 1   P/E                  154 non-null    float64\n",
      " 2   Debt ratio           154 non-null    float64\n",
      " 3   P/BV Graham's        154 non-null    float64\n",
      " 4   P/EBIT               154 non-null    float64\n",
      " 5   ROE [%]              154 non-null    float64\n",
      " 6   Income net y/y [%]   154 non-null    float64\n",
      " 7   Income net q/q [%]   154 non-null    float64\n",
      " 8   Income EBIT y/y [%]  154 non-null    float64\n",
      " 9   Income EBIT q/q [%]  154 non-null    float64\n",
      "dtypes: float64(10)\n",
      "memory usage: 13.2+ KB\n"
     ]
    }
   ],
   "source": [
    "df.info()"
   ]
  },
  {
   "cell_type": "code",
   "execution_count": 9,
   "metadata": {},
   "outputs": [
    {
     "name": "stdout",
     "output_type": "stream",
     "text": [
      "<class 'pandas.core.frame.DataFrame'>\n",
      "Index: 10 entries, MXC (MAXCOM) to MVP (MARVIPOL)\n",
      "Data columns (total 10 columns):\n",
      " #   Column               Non-Null Count  Dtype  \n",
      "---  ------               --------------  -----  \n",
      " 0   P/BV                 10 non-null     float64\n",
      " 1   P/E                  10 non-null     float64\n",
      " 2   Debt ratio           10 non-null     float64\n",
      " 3   P/BV Graham's        10 non-null     float64\n",
      " 4   P/EBIT               10 non-null     float64\n",
      " 5   ROE [%]              10 non-null     float64\n",
      " 6   Income net y/y [%]   10 non-null     float64\n",
      " 7   Income net q/q [%]   10 non-null     float64\n",
      " 8   Income EBIT y/y [%]  10 non-null     float64\n",
      " 9   Income EBIT q/q [%]  10 non-null     float64\n",
      "dtypes: float64(10)\n",
      "memory usage: 880.0+ bytes\n"
     ]
    }
   ],
   "source": [
    "# Now We can specify ratios that We are interested\n",
    "\n",
    "df = df.loc[df['P/E'] <= 10].sort_values(by='P/E', ascending=False)\n",
    "df = df.loc[df['P/BV'] <= 1]\n",
    "df = df.loc[df['Debt ratio'] <= 1]\n",
    "df = df.loc[df[\"P/BV Graham's\"] <= 3]\n",
    "df = df.loc[df['P/EBIT'] <= 10]\n",
    "\n",
    "df = df.loc[df['Income net y/y [%]'] > 0]\n",
    "df = df.loc[df['Income net q/q [%]'] > 0]\n",
    "\n",
    "df = df.loc[df['Income EBIT y/y [%]'] > 0]\n",
    "df = df.loc[df['Income EBIT q/q [%]'] > 0]\n",
    "\n",
    "df.info()"
   ]
  },
  {
   "cell_type": "code",
   "execution_count": 10,
   "metadata": {},
   "outputs": [
    {
     "data": {
      "text/html": [
       "<div>\n",
       "<style scoped>\n",
       "    .dataframe tbody tr th:only-of-type {\n",
       "        vertical-align: middle;\n",
       "    }\n",
       "\n",
       "    .dataframe tbody tr th {\n",
       "        vertical-align: top;\n",
       "    }\n",
       "\n",
       "    .dataframe thead th {\n",
       "        text-align: right;\n",
       "    }\n",
       "</style>\n",
       "<table border=\"1\" class=\"dataframe\">\n",
       "  <thead>\n",
       "    <tr style=\"text-align: right;\">\n",
       "      <th></th>\n",
       "      <th>P/BV</th>\n",
       "      <th>P/E</th>\n",
       "      <th>Debt ratio</th>\n",
       "      <th>P/BV Graham's</th>\n",
       "      <th>P/EBIT</th>\n",
       "      <th>ROE [%]</th>\n",
       "      <th>Income net y/y [%]</th>\n",
       "      <th>Income net q/q [%]</th>\n",
       "      <th>Income EBIT y/y [%]</th>\n",
       "      <th>Income EBIT q/q [%]</th>\n",
       "    </tr>\n",
       "    <tr>\n",
       "      <th>Company</th>\n",
       "      <th></th>\n",
       "      <th></th>\n",
       "      <th></th>\n",
       "      <th></th>\n",
       "      <th></th>\n",
       "      <th></th>\n",
       "      <th></th>\n",
       "      <th></th>\n",
       "      <th></th>\n",
       "      <th></th>\n",
       "    </tr>\n",
       "  </thead>\n",
       "  <tbody>\n",
       "    <tr>\n",
       "      <th>MXC (MAXCOM)</th>\n",
       "      <td>0.49</td>\n",
       "      <td>9.76</td>\n",
       "      <td>0.39</td>\n",
       "      <td>0.57</td>\n",
       "      <td>5.28</td>\n",
       "      <td>5.06</td>\n",
       "      <td>6.61</td>\n",
       "      <td>16.31</td>\n",
       "      <td>34.04</td>\n",
       "      <td>103.73</td>\n",
       "    </tr>\n",
       "    <tr>\n",
       "      <th>WAS (WASKO)</th>\n",
       "      <td>0.61</td>\n",
       "      <td>8.52</td>\n",
       "      <td>0.43</td>\n",
       "      <td>1.71</td>\n",
       "      <td>5.77</td>\n",
       "      <td>7.12</td>\n",
       "      <td>38.56</td>\n",
       "      <td>29.95</td>\n",
       "      <td>264.09</td>\n",
       "      <td>48.84</td>\n",
       "    </tr>\n",
       "    <tr>\n",
       "      <th>IMP (IMPERIO)</th>\n",
       "      <td>0.95</td>\n",
       "      <td>6.67</td>\n",
       "      <td>0.00</td>\n",
       "      <td>0.95</td>\n",
       "      <td>5.94</td>\n",
       "      <td>14.23</td>\n",
       "      <td>221.69</td>\n",
       "      <td>167.00</td>\n",
       "      <td>1606.28</td>\n",
       "      <td>2072.67</td>\n",
       "    </tr>\n",
       "    <tr>\n",
       "      <th>ABE (ABPL)</th>\n",
       "      <td>0.84</td>\n",
       "      <td>6.65</td>\n",
       "      <td>0.67</td>\n",
       "      <td>1.22</td>\n",
       "      <td>4.99</td>\n",
       "      <td>12.71</td>\n",
       "      <td>7.76</td>\n",
       "      <td>4.78</td>\n",
       "      <td>23.06</td>\n",
       "      <td>1.97</td>\n",
       "    </tr>\n",
       "    <tr>\n",
       "      <th>HEL (HELIO)</th>\n",
       "      <td>0.87</td>\n",
       "      <td>5.92</td>\n",
       "      <td>0.47</td>\n",
       "      <td>1.50</td>\n",
       "      <td>4.54</td>\n",
       "      <td>14.68</td>\n",
       "      <td>26.60</td>\n",
       "      <td>5.97</td>\n",
       "      <td>142.14</td>\n",
       "      <td>99.02</td>\n",
       "    </tr>\n",
       "    <tr>\n",
       "      <th>NTT (NTTSYSTEM)</th>\n",
       "      <td>0.48</td>\n",
       "      <td>5.15</td>\n",
       "      <td>0.49</td>\n",
       "      <td>0.76</td>\n",
       "      <td>3.60</td>\n",
       "      <td>9.29</td>\n",
       "      <td>32.86</td>\n",
       "      <td>24.60</td>\n",
       "      <td>53.82</td>\n",
       "      <td>43.10</td>\n",
       "    </tr>\n",
       "    <tr>\n",
       "      <th>INP (INPRO)</th>\n",
       "      <td>0.84</td>\n",
       "      <td>4.50</td>\n",
       "      <td>0.46</td>\n",
       "      <td>1.27</td>\n",
       "      <td>3.12</td>\n",
       "      <td>18.66</td>\n",
       "      <td>53.46</td>\n",
       "      <td>29.47</td>\n",
       "      <td>124.40</td>\n",
       "      <td>73.15</td>\n",
       "    </tr>\n",
       "    <tr>\n",
       "      <th>FSG (FASING)</th>\n",
       "      <td>0.28</td>\n",
       "      <td>4.29</td>\n",
       "      <td>0.42</td>\n",
       "      <td>0.65</td>\n",
       "      <td>2.73</td>\n",
       "      <td>6.54</td>\n",
       "      <td>49.67</td>\n",
       "      <td>13.43</td>\n",
       "      <td>778.46</td>\n",
       "      <td>18.96</td>\n",
       "    </tr>\n",
       "    <tr>\n",
       "      <th>STP (STALPROD)</th>\n",
       "      <td>0.50</td>\n",
       "      <td>3.72</td>\n",
       "      <td>0.24</td>\n",
       "      <td>1.23</td>\n",
       "      <td>3.13</td>\n",
       "      <td>13.51</td>\n",
       "      <td>50.75</td>\n",
       "      <td>7.36</td>\n",
       "      <td>181.45</td>\n",
       "      <td>22.79</td>\n",
       "    </tr>\n",
       "    <tr>\n",
       "      <th>MVP (MARVIPOL)</th>\n",
       "      <td>0.60</td>\n",
       "      <td>3.46</td>\n",
       "      <td>0.61</td>\n",
       "      <td>1.18</td>\n",
       "      <td>2.86</td>\n",
       "      <td>17.47</td>\n",
       "      <td>63.78</td>\n",
       "      <td>666.78</td>\n",
       "      <td>32.93</td>\n",
       "      <td>51.08</td>\n",
       "    </tr>\n",
       "  </tbody>\n",
       "</table>\n",
       "</div>"
      ],
      "text/plain": [
       "                 P/BV   P/E  Debt ratio  P/BV Graham's  P/EBIT  ROE [%]  \\\n",
       "Company                                                                   \n",
       "MXC (MAXCOM)     0.49  9.76        0.39           0.57    5.28     5.06   \n",
       "WAS (WASKO)      0.61  8.52        0.43           1.71    5.77     7.12   \n",
       "IMP (IMPERIO)    0.95  6.67        0.00           0.95    5.94    14.23   \n",
       "ABE (ABPL)       0.84  6.65        0.67           1.22    4.99    12.71   \n",
       "HEL (HELIO)      0.87  5.92        0.47           1.50    4.54    14.68   \n",
       "NTT (NTTSYSTEM)  0.48  5.15        0.49           0.76    3.60     9.29   \n",
       "INP (INPRO)      0.84  4.50        0.46           1.27    3.12    18.66   \n",
       "FSG (FASING)     0.28  4.29        0.42           0.65    2.73     6.54   \n",
       "STP (STALPROD)   0.50  3.72        0.24           1.23    3.13    13.51   \n",
       "MVP (MARVIPOL)   0.60  3.46        0.61           1.18    2.86    17.47   \n",
       "\n",
       "                 Income net y/y [%]  Income net q/q [%]  Income EBIT y/y [%]  \\\n",
       "Company                                                                        \n",
       "MXC (MAXCOM)                   6.61               16.31                34.04   \n",
       "WAS (WASKO)                   38.56               29.95               264.09   \n",
       "IMP (IMPERIO)                221.69              167.00              1606.28   \n",
       "ABE (ABPL)                     7.76                4.78                23.06   \n",
       "HEL (HELIO)                   26.60                5.97               142.14   \n",
       "NTT (NTTSYSTEM)               32.86               24.60                53.82   \n",
       "INP (INPRO)                   53.46               29.47               124.40   \n",
       "FSG (FASING)                  49.67               13.43               778.46   \n",
       "STP (STALPROD)                50.75                7.36               181.45   \n",
       "MVP (MARVIPOL)                63.78              666.78                32.93   \n",
       "\n",
       "                 Income EBIT q/q [%]  \n",
       "Company                               \n",
       "MXC (MAXCOM)                  103.73  \n",
       "WAS (WASKO)                    48.84  \n",
       "IMP (IMPERIO)                2072.67  \n",
       "ABE (ABPL)                      1.97  \n",
       "HEL (HELIO)                    99.02  \n",
       "NTT (NTTSYSTEM)                43.10  \n",
       "INP (INPRO)                    73.15  \n",
       "FSG (FASING)                   18.96  \n",
       "STP (STALPROD)                 22.79  \n",
       "MVP (MARVIPOL)                 51.08  "
      ]
     },
     "execution_count": 10,
     "metadata": {},
     "output_type": "execute_result"
    }
   ],
   "source": [
    "# Let's take a look on output\n",
    "df.head(40)"
   ]
  },
  {
   "cell_type": "code",
   "execution_count": 28,
   "metadata": {},
   "outputs": [],
   "source": [
    "# Now we can find out more information about one of the company above. We will set response to further analysis.\n",
    "\n",
    "company = \"ABE\"\n",
    "response_company = session.get(f\"https://www.biznesradar.pl/raporty-finansowe-rachunek-zyskow-i-strat/{company}\")\n",
    "soup = BeautifulSoup(response_company.text, 'html.parser')"
   ]
  },
  {
   "cell_type": "code",
   "execution_count": 29,
   "metadata": {},
   "outputs": [
    {
     "data": {
      "application/vnd.plotly.v1+json": {
       "config": {
        "plotlyServerURL": "https://plot.ly"
       },
       "data": [
        {
         "name": "revenues",
         "type": "bar",
         "x": [
          "2005(gru 05)",
          "2006(gru 06)",
          "2007(cze 08)",
          "2008(cze 09)",
          "2009(cze 10)",
          "2010(cze 11)",
          "2011(cze 12)",
          "2012(cze 13)",
          "2013(cze 14)",
          "2014(cze 15)",
          "2015(cze 16)",
          "2016(cze 17)",
          "2017(cze 18)",
          "2018(cze 19)",
          "2019(cze 20)",
          "2020(cze 21)",
          "O4K(wrz 21)*"
         ],
         "xaxis": "x",
         "y": [
          983377,
          1233211,
          3003828,
          2839738,
          2882109,
          3562156,
          4342487,
          5430433,
          5758184,
          6793162,
          7553068,
          8278017,
          8236563,
          8793327,
          10206877,
          13074310,
          13298043
         ],
         "yaxis": "y"
        },
        {
         "name": "y/y dynamic [%]",
         "type": "scatter",
         "x": [
          "2005(gru 05)",
          "2006(gru 06)",
          "2007(cze 08)",
          "2008(cze 09)",
          "2009(cze 10)",
          "2010(cze 11)",
          "2011(cze 12)",
          "2012(cze 13)",
          "2013(cze 14)",
          "2014(cze 15)",
          "2015(cze 16)",
          "2016(cze 17)",
          "2017(cze 18)",
          "2018(cze 19)",
          "2019(cze 20)",
          "2020(cze 21)",
          "O4K(wrz 21)*"
         ],
         "xaxis": "x",
         "y": [
          0,
          25.41,
          143.58,
          -5.46,
          1.49,
          23.6,
          21.91,
          25.05,
          6.04,
          17.97,
          11.19,
          9.6,
          -0.5,
          6.76,
          16.08,
          28.09,
          21.72
         ],
         "yaxis": "y2"
        },
        {
         "name": "y/y sector dynamic [%]",
         "type": "scatter",
         "x": [
          "2005(gru 05)",
          "2006(gru 06)",
          "2007(cze 08)",
          "2008(cze 09)",
          "2009(cze 10)",
          "2010(cze 11)",
          "2011(cze 12)",
          "2012(cze 13)",
          "2013(cze 14)",
          "2014(cze 15)",
          "2015(cze 16)",
          "2016(cze 17)",
          "2017(cze 18)",
          "2018(cze 19)",
          "2019(cze 20)",
          "2020(cze 21)",
          "O4K(wrz 21)*"
         ],
         "xaxis": "x",
         "y": [
          0,
          20.22,
          23,
          15.99,
          -15.04,
          13.14,
          19.17,
          0.86,
          3.22,
          4.16,
          6.77,
          6.67,
          10.38,
          13,
          6.99,
          12.95,
          15.6
         ],
         "yaxis": "y2"
        }
       ],
       "layout": {
        "template": {
         "data": {
          "bar": [
           {
            "error_x": {
             "color": "#2a3f5f"
            },
            "error_y": {
             "color": "#2a3f5f"
            },
            "marker": {
             "line": {
              "color": "#E5ECF6",
              "width": 0.5
             },
             "pattern": {
              "fillmode": "overlay",
              "size": 10,
              "solidity": 0.2
             }
            },
            "type": "bar"
           }
          ],
          "barpolar": [
           {
            "marker": {
             "line": {
              "color": "#E5ECF6",
              "width": 0.5
             },
             "pattern": {
              "fillmode": "overlay",
              "size": 10,
              "solidity": 0.2
             }
            },
            "type": "barpolar"
           }
          ],
          "carpet": [
           {
            "aaxis": {
             "endlinecolor": "#2a3f5f",
             "gridcolor": "white",
             "linecolor": "white",
             "minorgridcolor": "white",
             "startlinecolor": "#2a3f5f"
            },
            "baxis": {
             "endlinecolor": "#2a3f5f",
             "gridcolor": "white",
             "linecolor": "white",
             "minorgridcolor": "white",
             "startlinecolor": "#2a3f5f"
            },
            "type": "carpet"
           }
          ],
          "choropleth": [
           {
            "colorbar": {
             "outlinewidth": 0,
             "ticks": ""
            },
            "type": "choropleth"
           }
          ],
          "contour": [
           {
            "colorbar": {
             "outlinewidth": 0,
             "ticks": ""
            },
            "colorscale": [
             [
              0,
              "#0d0887"
             ],
             [
              0.1111111111111111,
              "#46039f"
             ],
             [
              0.2222222222222222,
              "#7201a8"
             ],
             [
              0.3333333333333333,
              "#9c179e"
             ],
             [
              0.4444444444444444,
              "#bd3786"
             ],
             [
              0.5555555555555556,
              "#d8576b"
             ],
             [
              0.6666666666666666,
              "#ed7953"
             ],
             [
              0.7777777777777778,
              "#fb9f3a"
             ],
             [
              0.8888888888888888,
              "#fdca26"
             ],
             [
              1,
              "#f0f921"
             ]
            ],
            "type": "contour"
           }
          ],
          "contourcarpet": [
           {
            "colorbar": {
             "outlinewidth": 0,
             "ticks": ""
            },
            "type": "contourcarpet"
           }
          ],
          "heatmap": [
           {
            "colorbar": {
             "outlinewidth": 0,
             "ticks": ""
            },
            "colorscale": [
             [
              0,
              "#0d0887"
             ],
             [
              0.1111111111111111,
              "#46039f"
             ],
             [
              0.2222222222222222,
              "#7201a8"
             ],
             [
              0.3333333333333333,
              "#9c179e"
             ],
             [
              0.4444444444444444,
              "#bd3786"
             ],
             [
              0.5555555555555556,
              "#d8576b"
             ],
             [
              0.6666666666666666,
              "#ed7953"
             ],
             [
              0.7777777777777778,
              "#fb9f3a"
             ],
             [
              0.8888888888888888,
              "#fdca26"
             ],
             [
              1,
              "#f0f921"
             ]
            ],
            "type": "heatmap"
           }
          ],
          "heatmapgl": [
           {
            "colorbar": {
             "outlinewidth": 0,
             "ticks": ""
            },
            "colorscale": [
             [
              0,
              "#0d0887"
             ],
             [
              0.1111111111111111,
              "#46039f"
             ],
             [
              0.2222222222222222,
              "#7201a8"
             ],
             [
              0.3333333333333333,
              "#9c179e"
             ],
             [
              0.4444444444444444,
              "#bd3786"
             ],
             [
              0.5555555555555556,
              "#d8576b"
             ],
             [
              0.6666666666666666,
              "#ed7953"
             ],
             [
              0.7777777777777778,
              "#fb9f3a"
             ],
             [
              0.8888888888888888,
              "#fdca26"
             ],
             [
              1,
              "#f0f921"
             ]
            ],
            "type": "heatmapgl"
           }
          ],
          "histogram": [
           {
            "marker": {
             "pattern": {
              "fillmode": "overlay",
              "size": 10,
              "solidity": 0.2
             }
            },
            "type": "histogram"
           }
          ],
          "histogram2d": [
           {
            "colorbar": {
             "outlinewidth": 0,
             "ticks": ""
            },
            "colorscale": [
             [
              0,
              "#0d0887"
             ],
             [
              0.1111111111111111,
              "#46039f"
             ],
             [
              0.2222222222222222,
              "#7201a8"
             ],
             [
              0.3333333333333333,
              "#9c179e"
             ],
             [
              0.4444444444444444,
              "#bd3786"
             ],
             [
              0.5555555555555556,
              "#d8576b"
             ],
             [
              0.6666666666666666,
              "#ed7953"
             ],
             [
              0.7777777777777778,
              "#fb9f3a"
             ],
             [
              0.8888888888888888,
              "#fdca26"
             ],
             [
              1,
              "#f0f921"
             ]
            ],
            "type": "histogram2d"
           }
          ],
          "histogram2dcontour": [
           {
            "colorbar": {
             "outlinewidth": 0,
             "ticks": ""
            },
            "colorscale": [
             [
              0,
              "#0d0887"
             ],
             [
              0.1111111111111111,
              "#46039f"
             ],
             [
              0.2222222222222222,
              "#7201a8"
             ],
             [
              0.3333333333333333,
              "#9c179e"
             ],
             [
              0.4444444444444444,
              "#bd3786"
             ],
             [
              0.5555555555555556,
              "#d8576b"
             ],
             [
              0.6666666666666666,
              "#ed7953"
             ],
             [
              0.7777777777777778,
              "#fb9f3a"
             ],
             [
              0.8888888888888888,
              "#fdca26"
             ],
             [
              1,
              "#f0f921"
             ]
            ],
            "type": "histogram2dcontour"
           }
          ],
          "mesh3d": [
           {
            "colorbar": {
             "outlinewidth": 0,
             "ticks": ""
            },
            "type": "mesh3d"
           }
          ],
          "parcoords": [
           {
            "line": {
             "colorbar": {
              "outlinewidth": 0,
              "ticks": ""
             }
            },
            "type": "parcoords"
           }
          ],
          "pie": [
           {
            "automargin": true,
            "type": "pie"
           }
          ],
          "scatter": [
           {
            "marker": {
             "colorbar": {
              "outlinewidth": 0,
              "ticks": ""
             }
            },
            "type": "scatter"
           }
          ],
          "scatter3d": [
           {
            "line": {
             "colorbar": {
              "outlinewidth": 0,
              "ticks": ""
             }
            },
            "marker": {
             "colorbar": {
              "outlinewidth": 0,
              "ticks": ""
             }
            },
            "type": "scatter3d"
           }
          ],
          "scattercarpet": [
           {
            "marker": {
             "colorbar": {
              "outlinewidth": 0,
              "ticks": ""
             }
            },
            "type": "scattercarpet"
           }
          ],
          "scattergeo": [
           {
            "marker": {
             "colorbar": {
              "outlinewidth": 0,
              "ticks": ""
             }
            },
            "type": "scattergeo"
           }
          ],
          "scattergl": [
           {
            "marker": {
             "colorbar": {
              "outlinewidth": 0,
              "ticks": ""
             }
            },
            "type": "scattergl"
           }
          ],
          "scattermapbox": [
           {
            "marker": {
             "colorbar": {
              "outlinewidth": 0,
              "ticks": ""
             }
            },
            "type": "scattermapbox"
           }
          ],
          "scatterpolar": [
           {
            "marker": {
             "colorbar": {
              "outlinewidth": 0,
              "ticks": ""
             }
            },
            "type": "scatterpolar"
           }
          ],
          "scatterpolargl": [
           {
            "marker": {
             "colorbar": {
              "outlinewidth": 0,
              "ticks": ""
             }
            },
            "type": "scatterpolargl"
           }
          ],
          "scatterternary": [
           {
            "marker": {
             "colorbar": {
              "outlinewidth": 0,
              "ticks": ""
             }
            },
            "type": "scatterternary"
           }
          ],
          "surface": [
           {
            "colorbar": {
             "outlinewidth": 0,
             "ticks": ""
            },
            "colorscale": [
             [
              0,
              "#0d0887"
             ],
             [
              0.1111111111111111,
              "#46039f"
             ],
             [
              0.2222222222222222,
              "#7201a8"
             ],
             [
              0.3333333333333333,
              "#9c179e"
             ],
             [
              0.4444444444444444,
              "#bd3786"
             ],
             [
              0.5555555555555556,
              "#d8576b"
             ],
             [
              0.6666666666666666,
              "#ed7953"
             ],
             [
              0.7777777777777778,
              "#fb9f3a"
             ],
             [
              0.8888888888888888,
              "#fdca26"
             ],
             [
              1,
              "#f0f921"
             ]
            ],
            "type": "surface"
           }
          ],
          "table": [
           {
            "cells": {
             "fill": {
              "color": "#EBF0F8"
             },
             "line": {
              "color": "white"
             }
            },
            "header": {
             "fill": {
              "color": "#C8D4E3"
             },
             "line": {
              "color": "white"
             }
            },
            "type": "table"
           }
          ]
         },
         "layout": {
          "annotationdefaults": {
           "arrowcolor": "#2a3f5f",
           "arrowhead": 0,
           "arrowwidth": 1
          },
          "autotypenumbers": "strict",
          "coloraxis": {
           "colorbar": {
            "outlinewidth": 0,
            "ticks": ""
           }
          },
          "colorscale": {
           "diverging": [
            [
             0,
             "#8e0152"
            ],
            [
             0.1,
             "#c51b7d"
            ],
            [
             0.2,
             "#de77ae"
            ],
            [
             0.3,
             "#f1b6da"
            ],
            [
             0.4,
             "#fde0ef"
            ],
            [
             0.5,
             "#f7f7f7"
            ],
            [
             0.6,
             "#e6f5d0"
            ],
            [
             0.7,
             "#b8e186"
            ],
            [
             0.8,
             "#7fbc41"
            ],
            [
             0.9,
             "#4d9221"
            ],
            [
             1,
             "#276419"
            ]
           ],
           "sequential": [
            [
             0,
             "#0d0887"
            ],
            [
             0.1111111111111111,
             "#46039f"
            ],
            [
             0.2222222222222222,
             "#7201a8"
            ],
            [
             0.3333333333333333,
             "#9c179e"
            ],
            [
             0.4444444444444444,
             "#bd3786"
            ],
            [
             0.5555555555555556,
             "#d8576b"
            ],
            [
             0.6666666666666666,
             "#ed7953"
            ],
            [
             0.7777777777777778,
             "#fb9f3a"
            ],
            [
             0.8888888888888888,
             "#fdca26"
            ],
            [
             1,
             "#f0f921"
            ]
           ],
           "sequentialminus": [
            [
             0,
             "#0d0887"
            ],
            [
             0.1111111111111111,
             "#46039f"
            ],
            [
             0.2222222222222222,
             "#7201a8"
            ],
            [
             0.3333333333333333,
             "#9c179e"
            ],
            [
             0.4444444444444444,
             "#bd3786"
            ],
            [
             0.5555555555555556,
             "#d8576b"
            ],
            [
             0.6666666666666666,
             "#ed7953"
            ],
            [
             0.7777777777777778,
             "#fb9f3a"
            ],
            [
             0.8888888888888888,
             "#fdca26"
            ],
            [
             1,
             "#f0f921"
            ]
           ]
          },
          "colorway": [
           "#636efa",
           "#EF553B",
           "#00cc96",
           "#ab63fa",
           "#FFA15A",
           "#19d3f3",
           "#FF6692",
           "#B6E880",
           "#FF97FF",
           "#FECB52"
          ],
          "font": {
           "color": "#2a3f5f"
          },
          "geo": {
           "bgcolor": "white",
           "lakecolor": "white",
           "landcolor": "#E5ECF6",
           "showlakes": true,
           "showland": true,
           "subunitcolor": "white"
          },
          "hoverlabel": {
           "align": "left"
          },
          "hovermode": "closest",
          "mapbox": {
           "style": "light"
          },
          "paper_bgcolor": "white",
          "plot_bgcolor": "#E5ECF6",
          "polar": {
           "angularaxis": {
            "gridcolor": "white",
            "linecolor": "white",
            "ticks": ""
           },
           "bgcolor": "#E5ECF6",
           "radialaxis": {
            "gridcolor": "white",
            "linecolor": "white",
            "ticks": ""
           }
          },
          "scene": {
           "xaxis": {
            "backgroundcolor": "#E5ECF6",
            "gridcolor": "white",
            "gridwidth": 2,
            "linecolor": "white",
            "showbackground": true,
            "ticks": "",
            "zerolinecolor": "white"
           },
           "yaxis": {
            "backgroundcolor": "#E5ECF6",
            "gridcolor": "white",
            "gridwidth": 2,
            "linecolor": "white",
            "showbackground": true,
            "ticks": "",
            "zerolinecolor": "white"
           },
           "zaxis": {
            "backgroundcolor": "#E5ECF6",
            "gridcolor": "white",
            "gridwidth": 2,
            "linecolor": "white",
            "showbackground": true,
            "ticks": "",
            "zerolinecolor": "white"
           }
          },
          "shapedefaults": {
           "line": {
            "color": "#2a3f5f"
           }
          },
          "ternary": {
           "aaxis": {
            "gridcolor": "white",
            "linecolor": "white",
            "ticks": ""
           },
           "baxis": {
            "gridcolor": "white",
            "linecolor": "white",
            "ticks": ""
           },
           "bgcolor": "#E5ECF6",
           "caxis": {
            "gridcolor": "white",
            "linecolor": "white",
            "ticks": ""
           }
          },
          "title": {
           "x": 0.05
          },
          "xaxis": {
           "automargin": true,
           "gridcolor": "white",
           "linecolor": "white",
           "ticks": "",
           "title": {
            "standoff": 15
           },
           "zerolinecolor": "white",
           "zerolinewidth": 2
          },
          "yaxis": {
           "automargin": true,
           "gridcolor": "white",
           "linecolor": "white",
           "ticks": "",
           "title": {
            "standoff": 15
           },
           "zerolinecolor": "white",
           "zerolinewidth": 2
          }
         }
        },
        "xaxis": {
         "anchor": "y",
         "domain": [
          0,
          0.94
         ]
        },
        "yaxis": {
         "anchor": "x",
         "domain": [
          0,
          1
         ]
        },
        "yaxis2": {
         "anchor": "x",
         "overlaying": "y",
         "side": "right"
        }
       }
      },
      "text/html": [
       "<div>                            <div id=\"1709ace1-fcc7-4c22-8e4f-728be7327424\" class=\"plotly-graph-div\" style=\"height:525px; width:100%;\"></div>            <script type=\"text/javascript\">                require([\"plotly\"], function(Plotly) {                    window.PLOTLYENV=window.PLOTLYENV || {};                                    if (document.getElementById(\"1709ace1-fcc7-4c22-8e4f-728be7327424\")) {                    Plotly.newPlot(                        \"1709ace1-fcc7-4c22-8e4f-728be7327424\",                        [{\"name\":\"revenues\",\"x\":[\"2005(gru 05)\",\"2006(gru 06)\",\"2007(cze 08)\",\"2008(cze 09)\",\"2009(cze 10)\",\"2010(cze 11)\",\"2011(cze 12)\",\"2012(cze 13)\",\"2013(cze 14)\",\"2014(cze 15)\",\"2015(cze 16)\",\"2016(cze 17)\",\"2017(cze 18)\",\"2018(cze 19)\",\"2019(cze 20)\",\"2020(cze 21)\",\"O4K(wrz 21)*\"],\"y\":[983377.0,1233211.0,3003828.0,2839738.0,2882109.0,3562156.0,4342487.0,5430433.0,5758184.0,6793162.0,7553068.0,8278017.0,8236563.0,8793327.0,10206877.0,13074310.0,13298043.0],\"type\":\"bar\",\"xaxis\":\"x\",\"yaxis\":\"y\"},{\"name\":\"y/y dynamic [%]\",\"x\":[\"2005(gru 05)\",\"2006(gru 06)\",\"2007(cze 08)\",\"2008(cze 09)\",\"2009(cze 10)\",\"2010(cze 11)\",\"2011(cze 12)\",\"2012(cze 13)\",\"2013(cze 14)\",\"2014(cze 15)\",\"2015(cze 16)\",\"2016(cze 17)\",\"2017(cze 18)\",\"2018(cze 19)\",\"2019(cze 20)\",\"2020(cze 21)\",\"O4K(wrz 21)*\"],\"y\":[0.0,25.41,143.58,-5.46,1.49,23.6,21.91,25.05,6.04,17.97,11.19,9.6,-0.5,6.76,16.08,28.09,21.72],\"type\":\"scatter\",\"xaxis\":\"x\",\"yaxis\":\"y2\"},{\"name\":\"y/y sector dynamic [%]\",\"x\":[\"2005(gru 05)\",\"2006(gru 06)\",\"2007(cze 08)\",\"2008(cze 09)\",\"2009(cze 10)\",\"2010(cze 11)\",\"2011(cze 12)\",\"2012(cze 13)\",\"2013(cze 14)\",\"2014(cze 15)\",\"2015(cze 16)\",\"2016(cze 17)\",\"2017(cze 18)\",\"2018(cze 19)\",\"2019(cze 20)\",\"2020(cze 21)\",\"O4K(wrz 21)*\"],\"y\":[0.0,20.22,23.0,15.99,-15.04,13.14,19.17,0.86,3.22,4.16,6.77,6.67,10.38,13.0,6.99,12.95,15.6],\"type\":\"scatter\",\"xaxis\":\"x\",\"yaxis\":\"y2\"}],                        {\"template\":{\"data\":{\"bar\":[{\"error_x\":{\"color\":\"#2a3f5f\"},\"error_y\":{\"color\":\"#2a3f5f\"},\"marker\":{\"line\":{\"color\":\"#E5ECF6\",\"width\":0.5},\"pattern\":{\"fillmode\":\"overlay\",\"size\":10,\"solidity\":0.2}},\"type\":\"bar\"}],\"barpolar\":[{\"marker\":{\"line\":{\"color\":\"#E5ECF6\",\"width\":0.5},\"pattern\":{\"fillmode\":\"overlay\",\"size\":10,\"solidity\":0.2}},\"type\":\"barpolar\"}],\"carpet\":[{\"aaxis\":{\"endlinecolor\":\"#2a3f5f\",\"gridcolor\":\"white\",\"linecolor\":\"white\",\"minorgridcolor\":\"white\",\"startlinecolor\":\"#2a3f5f\"},\"baxis\":{\"endlinecolor\":\"#2a3f5f\",\"gridcolor\":\"white\",\"linecolor\":\"white\",\"minorgridcolor\":\"white\",\"startlinecolor\":\"#2a3f5f\"},\"type\":\"carpet\"}],\"choropleth\":[{\"colorbar\":{\"outlinewidth\":0,\"ticks\":\"\"},\"type\":\"choropleth\"}],\"contour\":[{\"colorbar\":{\"outlinewidth\":0,\"ticks\":\"\"},\"colorscale\":[[0.0,\"#0d0887\"],[0.1111111111111111,\"#46039f\"],[0.2222222222222222,\"#7201a8\"],[0.3333333333333333,\"#9c179e\"],[0.4444444444444444,\"#bd3786\"],[0.5555555555555556,\"#d8576b\"],[0.6666666666666666,\"#ed7953\"],[0.7777777777777778,\"#fb9f3a\"],[0.8888888888888888,\"#fdca26\"],[1.0,\"#f0f921\"]],\"type\":\"contour\"}],\"contourcarpet\":[{\"colorbar\":{\"outlinewidth\":0,\"ticks\":\"\"},\"type\":\"contourcarpet\"}],\"heatmap\":[{\"colorbar\":{\"outlinewidth\":0,\"ticks\":\"\"},\"colorscale\":[[0.0,\"#0d0887\"],[0.1111111111111111,\"#46039f\"],[0.2222222222222222,\"#7201a8\"],[0.3333333333333333,\"#9c179e\"],[0.4444444444444444,\"#bd3786\"],[0.5555555555555556,\"#d8576b\"],[0.6666666666666666,\"#ed7953\"],[0.7777777777777778,\"#fb9f3a\"],[0.8888888888888888,\"#fdca26\"],[1.0,\"#f0f921\"]],\"type\":\"heatmap\"}],\"heatmapgl\":[{\"colorbar\":{\"outlinewidth\":0,\"ticks\":\"\"},\"colorscale\":[[0.0,\"#0d0887\"],[0.1111111111111111,\"#46039f\"],[0.2222222222222222,\"#7201a8\"],[0.3333333333333333,\"#9c179e\"],[0.4444444444444444,\"#bd3786\"],[0.5555555555555556,\"#d8576b\"],[0.6666666666666666,\"#ed7953\"],[0.7777777777777778,\"#fb9f3a\"],[0.8888888888888888,\"#fdca26\"],[1.0,\"#f0f921\"]],\"type\":\"heatmapgl\"}],\"histogram\":[{\"marker\":{\"pattern\":{\"fillmode\":\"overlay\",\"size\":10,\"solidity\":0.2}},\"type\":\"histogram\"}],\"histogram2d\":[{\"colorbar\":{\"outlinewidth\":0,\"ticks\":\"\"},\"colorscale\":[[0.0,\"#0d0887\"],[0.1111111111111111,\"#46039f\"],[0.2222222222222222,\"#7201a8\"],[0.3333333333333333,\"#9c179e\"],[0.4444444444444444,\"#bd3786\"],[0.5555555555555556,\"#d8576b\"],[0.6666666666666666,\"#ed7953\"],[0.7777777777777778,\"#fb9f3a\"],[0.8888888888888888,\"#fdca26\"],[1.0,\"#f0f921\"]],\"type\":\"histogram2d\"}],\"histogram2dcontour\":[{\"colorbar\":{\"outlinewidth\":0,\"ticks\":\"\"},\"colorscale\":[[0.0,\"#0d0887\"],[0.1111111111111111,\"#46039f\"],[0.2222222222222222,\"#7201a8\"],[0.3333333333333333,\"#9c179e\"],[0.4444444444444444,\"#bd3786\"],[0.5555555555555556,\"#d8576b\"],[0.6666666666666666,\"#ed7953\"],[0.7777777777777778,\"#fb9f3a\"],[0.8888888888888888,\"#fdca26\"],[1.0,\"#f0f921\"]],\"type\":\"histogram2dcontour\"}],\"mesh3d\":[{\"colorbar\":{\"outlinewidth\":0,\"ticks\":\"\"},\"type\":\"mesh3d\"}],\"parcoords\":[{\"line\":{\"colorbar\":{\"outlinewidth\":0,\"ticks\":\"\"}},\"type\":\"parcoords\"}],\"pie\":[{\"automargin\":true,\"type\":\"pie\"}],\"scatter\":[{\"marker\":{\"colorbar\":{\"outlinewidth\":0,\"ticks\":\"\"}},\"type\":\"scatter\"}],\"scatter3d\":[{\"line\":{\"colorbar\":{\"outlinewidth\":0,\"ticks\":\"\"}},\"marker\":{\"colorbar\":{\"outlinewidth\":0,\"ticks\":\"\"}},\"type\":\"scatter3d\"}],\"scattercarpet\":[{\"marker\":{\"colorbar\":{\"outlinewidth\":0,\"ticks\":\"\"}},\"type\":\"scattercarpet\"}],\"scattergeo\":[{\"marker\":{\"colorbar\":{\"outlinewidth\":0,\"ticks\":\"\"}},\"type\":\"scattergeo\"}],\"scattergl\":[{\"marker\":{\"colorbar\":{\"outlinewidth\":0,\"ticks\":\"\"}},\"type\":\"scattergl\"}],\"scattermapbox\":[{\"marker\":{\"colorbar\":{\"outlinewidth\":0,\"ticks\":\"\"}},\"type\":\"scattermapbox\"}],\"scatterpolar\":[{\"marker\":{\"colorbar\":{\"outlinewidth\":0,\"ticks\":\"\"}},\"type\":\"scatterpolar\"}],\"scatterpolargl\":[{\"marker\":{\"colorbar\":{\"outlinewidth\":0,\"ticks\":\"\"}},\"type\":\"scatterpolargl\"}],\"scatterternary\":[{\"marker\":{\"colorbar\":{\"outlinewidth\":0,\"ticks\":\"\"}},\"type\":\"scatterternary\"}],\"surface\":[{\"colorbar\":{\"outlinewidth\":0,\"ticks\":\"\"},\"colorscale\":[[0.0,\"#0d0887\"],[0.1111111111111111,\"#46039f\"],[0.2222222222222222,\"#7201a8\"],[0.3333333333333333,\"#9c179e\"],[0.4444444444444444,\"#bd3786\"],[0.5555555555555556,\"#d8576b\"],[0.6666666666666666,\"#ed7953\"],[0.7777777777777778,\"#fb9f3a\"],[0.8888888888888888,\"#fdca26\"],[1.0,\"#f0f921\"]],\"type\":\"surface\"}],\"table\":[{\"cells\":{\"fill\":{\"color\":\"#EBF0F8\"},\"line\":{\"color\":\"white\"}},\"header\":{\"fill\":{\"color\":\"#C8D4E3\"},\"line\":{\"color\":\"white\"}},\"type\":\"table\"}]},\"layout\":{\"annotationdefaults\":{\"arrowcolor\":\"#2a3f5f\",\"arrowhead\":0,\"arrowwidth\":1},\"autotypenumbers\":\"strict\",\"coloraxis\":{\"colorbar\":{\"outlinewidth\":0,\"ticks\":\"\"}},\"colorscale\":{\"diverging\":[[0,\"#8e0152\"],[0.1,\"#c51b7d\"],[0.2,\"#de77ae\"],[0.3,\"#f1b6da\"],[0.4,\"#fde0ef\"],[0.5,\"#f7f7f7\"],[0.6,\"#e6f5d0\"],[0.7,\"#b8e186\"],[0.8,\"#7fbc41\"],[0.9,\"#4d9221\"],[1,\"#276419\"]],\"sequential\":[[0.0,\"#0d0887\"],[0.1111111111111111,\"#46039f\"],[0.2222222222222222,\"#7201a8\"],[0.3333333333333333,\"#9c179e\"],[0.4444444444444444,\"#bd3786\"],[0.5555555555555556,\"#d8576b\"],[0.6666666666666666,\"#ed7953\"],[0.7777777777777778,\"#fb9f3a\"],[0.8888888888888888,\"#fdca26\"],[1.0,\"#f0f921\"]],\"sequentialminus\":[[0.0,\"#0d0887\"],[0.1111111111111111,\"#46039f\"],[0.2222222222222222,\"#7201a8\"],[0.3333333333333333,\"#9c179e\"],[0.4444444444444444,\"#bd3786\"],[0.5555555555555556,\"#d8576b\"],[0.6666666666666666,\"#ed7953\"],[0.7777777777777778,\"#fb9f3a\"],[0.8888888888888888,\"#fdca26\"],[1.0,\"#f0f921\"]]},\"colorway\":[\"#636efa\",\"#EF553B\",\"#00cc96\",\"#ab63fa\",\"#FFA15A\",\"#19d3f3\",\"#FF6692\",\"#B6E880\",\"#FF97FF\",\"#FECB52\"],\"font\":{\"color\":\"#2a3f5f\"},\"geo\":{\"bgcolor\":\"white\",\"lakecolor\":\"white\",\"landcolor\":\"#E5ECF6\",\"showlakes\":true,\"showland\":true,\"subunitcolor\":\"white\"},\"hoverlabel\":{\"align\":\"left\"},\"hovermode\":\"closest\",\"mapbox\":{\"style\":\"light\"},\"paper_bgcolor\":\"white\",\"plot_bgcolor\":\"#E5ECF6\",\"polar\":{\"angularaxis\":{\"gridcolor\":\"white\",\"linecolor\":\"white\",\"ticks\":\"\"},\"bgcolor\":\"#E5ECF6\",\"radialaxis\":{\"gridcolor\":\"white\",\"linecolor\":\"white\",\"ticks\":\"\"}},\"scene\":{\"xaxis\":{\"backgroundcolor\":\"#E5ECF6\",\"gridcolor\":\"white\",\"gridwidth\":2,\"linecolor\":\"white\",\"showbackground\":true,\"ticks\":\"\",\"zerolinecolor\":\"white\"},\"yaxis\":{\"backgroundcolor\":\"#E5ECF6\",\"gridcolor\":\"white\",\"gridwidth\":2,\"linecolor\":\"white\",\"showbackground\":true,\"ticks\":\"\",\"zerolinecolor\":\"white\"},\"zaxis\":{\"backgroundcolor\":\"#E5ECF6\",\"gridcolor\":\"white\",\"gridwidth\":2,\"linecolor\":\"white\",\"showbackground\":true,\"ticks\":\"\",\"zerolinecolor\":\"white\"}},\"shapedefaults\":{\"line\":{\"color\":\"#2a3f5f\"}},\"ternary\":{\"aaxis\":{\"gridcolor\":\"white\",\"linecolor\":\"white\",\"ticks\":\"\"},\"baxis\":{\"gridcolor\":\"white\",\"linecolor\":\"white\",\"ticks\":\"\"},\"bgcolor\":\"#E5ECF6\",\"caxis\":{\"gridcolor\":\"white\",\"linecolor\":\"white\",\"ticks\":\"\"}},\"title\":{\"x\":0.05},\"xaxis\":{\"automargin\":true,\"gridcolor\":\"white\",\"linecolor\":\"white\",\"ticks\":\"\",\"title\":{\"standoff\":15},\"zerolinecolor\":\"white\",\"zerolinewidth\":2},\"yaxis\":{\"automargin\":true,\"gridcolor\":\"white\",\"linecolor\":\"white\",\"ticks\":\"\",\"title\":{\"standoff\":15},\"zerolinecolor\":\"white\",\"zerolinewidth\":2}}},\"xaxis\":{\"anchor\":\"y\",\"domain\":[0.0,0.94]},\"yaxis\":{\"anchor\":\"x\",\"domain\":[0.0,1.0]},\"yaxis2\":{\"anchor\":\"x\",\"overlaying\":\"y\",\"side\":\"right\"}},                        {\"responsive\": true}                    ).then(function(){\n",
       "                            \n",
       "var gd = document.getElementById('1709ace1-fcc7-4c22-8e4f-728be7327424');\n",
       "var x = new MutationObserver(function (mutations, observer) {{\n",
       "        var display = window.getComputedStyle(gd).display;\n",
       "        if (!display || display === 'none') {{\n",
       "            console.log([gd, 'removed!']);\n",
       "            Plotly.purge(gd);\n",
       "            observer.disconnect();\n",
       "        }}\n",
       "}});\n",
       "\n",
       "// Listen for the removal of the full notebook cells\n",
       "var notebookContainer = gd.closest('#notebook-container');\n",
       "if (notebookContainer) {{\n",
       "    x.observe(notebookContainer, {childList: true});\n",
       "}}\n",
       "\n",
       "// Listen for the clearing of the current output cell\n",
       "var outputEl = gd.closest('.output');\n",
       "if (outputEl) {{\n",
       "    x.observe(outputEl, {childList: true});\n",
       "}}\n",
       "\n",
       "                        })                };                });            </script>        </div>"
      ]
     },
     "metadata": {},
     "output_type": "display_data"
    }
   ],
   "source": [
    "# First let's take a look how has been shaping dynamic of revenues over a years\n",
    "\n",
    "years = soup.find(class_=\"report-table\").find_all(class_=[\"thq h\", \"thq h newest\"])\n",
    "years = [record.text.strip() for record in years]\n",
    "years = [record.replace(\"\\n\", \"\") for record in years]\n",
    "years = [record.replace(\"\\t\", \"\") for record in years]\n",
    "\n",
    "revenues = soup.find(class_=\"report-table\").find_all(\"tr\", {\"data-field\": \"IncomeRevenues\"})\n",
    "\n",
    "for record in revenues: \n",
    "    values, changes = record.find_all(class_=\"value\"), record.find_all(class_=\"changeyy\")    \n",
    "    \n",
    "values = [value.text.strip() for value in values]\n",
    "changes = [change.text.strip() for change in changes]\n",
    "changes = [change.split(sep=\"~sektor\") for change in changes]\n",
    "\n",
    "dynamic = [change[0] for change in changes]\n",
    "sector_dynamic = [change[1] for change in changes]\n",
    "\n",
    "dynamic.insert(0, '0')\n",
    "sector_dynamic.insert(0, '0')\n",
    "revenues = zip(years, values, dynamic, sector_dynamic)\n",
    "\n",
    "df = pd.DataFrame(revenues)\n",
    "\n",
    "# We will change our data types from object to float so first have to replace unnecessary strings\n",
    "\n",
    "df[1] = df[1].str.replace(r'\\s+', '', regex=True)\n",
    "df[2] = df[2].str.replace(r'[\\s+r*\\/%+]', '', regex=True)\n",
    "df[3] = df[3].str.replace(r'[\\s+%+]', '', regex=True)\n",
    "\n",
    "df[1] = df[1].astype(float)\n",
    "df[2] = df[2].astype(float)\n",
    "df[3] = df[3].astype(float)\n",
    "\n",
    "df = df.rename(columns={0: \"Year\", 1: \"Revenue\", 2: \"Revenue y/y [%]\", 3: \"Sector revenue y/y [%]\"})\n",
    "\n",
    "# Let's plot diagram\n",
    "\n",
    "fig = make_subplots(specs=[[{\"secondary_y\": True}]])\n",
    "\n",
    "fig.add_trace(\n",
    "    go.Bar(x=df[\"Year\"], y=df[\"Revenue\"], name=\"revenues\"),\n",
    "    secondary_y=False,\n",
    ")\n",
    "\n",
    "fig.add_trace(\n",
    "    go.Line(x=df[\"Year\"], y=df[\"Revenue y/y [%]\"], name=\"y/y dynamic [%]\"),\n",
    "    secondary_y=True,\n",
    ")\n",
    "\n",
    "fig.add_trace(\n",
    "    go.Line(x=df[\"Year\"], y=df[\"Sector revenue y/y [%]\"], name=\"y/y sector dynamic [%]\"),\n",
    "    secondary_y=True,\n",
    ")\n",
    "\n",
    "fig.show()"
   ]
  },
  {
   "cell_type": "code",
   "execution_count": 30,
   "metadata": {},
   "outputs": [
    {
     "data": {
      "application/vnd.plotly.v1+json": {
       "config": {
        "plotlyServerURL": "https://plot.ly"
       },
       "data": [
        {
         "name": "net income",
         "type": "bar",
         "x": [
          "2005(gru 05)",
          "2006(gru 06)",
          "2007(cze 08)",
          "2008(cze 09)",
          "2009(cze 10)",
          "2010(cze 11)",
          "2011(cze 12)",
          "2012(cze 13)",
          "2013(cze 14)",
          "2014(cze 15)",
          "2015(cze 16)",
          "2016(cze 17)",
          "2017(cze 18)",
          "2018(cze 19)",
          "2019(cze 20)",
          "2020(cze 21)",
          "O4K(wrz 21)*"
         ],
         "y": [
          6033,
          9636,
          17122,
          26969,
          35160,
          52707,
          47757,
          41668,
          57297,
          68392,
          64603,
          67848,
          60952,
          57775,
          66383,
          123720,
          129541
         ]
        },
        {
         "name": "EBIT income",
         "type": "bar",
         "x": [
          "2005(gru 05)",
          "2006(gru 06)",
          "2007(cze 08)",
          "2008(cze 09)",
          "2009(cze 10)",
          "2010(cze 11)",
          "2011(cze 12)",
          "2012(cze 13)",
          "2013(cze 14)",
          "2014(cze 15)",
          "2015(cze 16)",
          "2016(cze 17)",
          "2017(cze 18)",
          "2018(cze 19)",
          "2019(cze 20)",
          "2020(cze 21)",
          "O4K(wrz 21)*"
         ],
         "y": [
          10463,
          15939,
          35412,
          76509,
          58276,
          61411,
          81314,
          64155,
          85306,
          100151,
          98634,
          101753,
          98030,
          85240,
          95542,
          165835,
          172515
         ]
        }
       ],
       "layout": {
        "bargap": 0.15,
        "bargroupgap": 0.1,
        "barmode": "group",
        "legend": {
         "bgcolor": "rgba(255, 255, 255, 0)",
         "bordercolor": "rgba(255, 255, 255, 0)",
         "x": 0,
         "y": 1
        },
        "template": {
         "data": {
          "bar": [
           {
            "error_x": {
             "color": "#2a3f5f"
            },
            "error_y": {
             "color": "#2a3f5f"
            },
            "marker": {
             "line": {
              "color": "#E5ECF6",
              "width": 0.5
             },
             "pattern": {
              "fillmode": "overlay",
              "size": 10,
              "solidity": 0.2
             }
            },
            "type": "bar"
           }
          ],
          "barpolar": [
           {
            "marker": {
             "line": {
              "color": "#E5ECF6",
              "width": 0.5
             },
             "pattern": {
              "fillmode": "overlay",
              "size": 10,
              "solidity": 0.2
             }
            },
            "type": "barpolar"
           }
          ],
          "carpet": [
           {
            "aaxis": {
             "endlinecolor": "#2a3f5f",
             "gridcolor": "white",
             "linecolor": "white",
             "minorgridcolor": "white",
             "startlinecolor": "#2a3f5f"
            },
            "baxis": {
             "endlinecolor": "#2a3f5f",
             "gridcolor": "white",
             "linecolor": "white",
             "minorgridcolor": "white",
             "startlinecolor": "#2a3f5f"
            },
            "type": "carpet"
           }
          ],
          "choropleth": [
           {
            "colorbar": {
             "outlinewidth": 0,
             "ticks": ""
            },
            "type": "choropleth"
           }
          ],
          "contour": [
           {
            "colorbar": {
             "outlinewidth": 0,
             "ticks": ""
            },
            "colorscale": [
             [
              0,
              "#0d0887"
             ],
             [
              0.1111111111111111,
              "#46039f"
             ],
             [
              0.2222222222222222,
              "#7201a8"
             ],
             [
              0.3333333333333333,
              "#9c179e"
             ],
             [
              0.4444444444444444,
              "#bd3786"
             ],
             [
              0.5555555555555556,
              "#d8576b"
             ],
             [
              0.6666666666666666,
              "#ed7953"
             ],
             [
              0.7777777777777778,
              "#fb9f3a"
             ],
             [
              0.8888888888888888,
              "#fdca26"
             ],
             [
              1,
              "#f0f921"
             ]
            ],
            "type": "contour"
           }
          ],
          "contourcarpet": [
           {
            "colorbar": {
             "outlinewidth": 0,
             "ticks": ""
            },
            "type": "contourcarpet"
           }
          ],
          "heatmap": [
           {
            "colorbar": {
             "outlinewidth": 0,
             "ticks": ""
            },
            "colorscale": [
             [
              0,
              "#0d0887"
             ],
             [
              0.1111111111111111,
              "#46039f"
             ],
             [
              0.2222222222222222,
              "#7201a8"
             ],
             [
              0.3333333333333333,
              "#9c179e"
             ],
             [
              0.4444444444444444,
              "#bd3786"
             ],
             [
              0.5555555555555556,
              "#d8576b"
             ],
             [
              0.6666666666666666,
              "#ed7953"
             ],
             [
              0.7777777777777778,
              "#fb9f3a"
             ],
             [
              0.8888888888888888,
              "#fdca26"
             ],
             [
              1,
              "#f0f921"
             ]
            ],
            "type": "heatmap"
           }
          ],
          "heatmapgl": [
           {
            "colorbar": {
             "outlinewidth": 0,
             "ticks": ""
            },
            "colorscale": [
             [
              0,
              "#0d0887"
             ],
             [
              0.1111111111111111,
              "#46039f"
             ],
             [
              0.2222222222222222,
              "#7201a8"
             ],
             [
              0.3333333333333333,
              "#9c179e"
             ],
             [
              0.4444444444444444,
              "#bd3786"
             ],
             [
              0.5555555555555556,
              "#d8576b"
             ],
             [
              0.6666666666666666,
              "#ed7953"
             ],
             [
              0.7777777777777778,
              "#fb9f3a"
             ],
             [
              0.8888888888888888,
              "#fdca26"
             ],
             [
              1,
              "#f0f921"
             ]
            ],
            "type": "heatmapgl"
           }
          ],
          "histogram": [
           {
            "marker": {
             "pattern": {
              "fillmode": "overlay",
              "size": 10,
              "solidity": 0.2
             }
            },
            "type": "histogram"
           }
          ],
          "histogram2d": [
           {
            "colorbar": {
             "outlinewidth": 0,
             "ticks": ""
            },
            "colorscale": [
             [
              0,
              "#0d0887"
             ],
             [
              0.1111111111111111,
              "#46039f"
             ],
             [
              0.2222222222222222,
              "#7201a8"
             ],
             [
              0.3333333333333333,
              "#9c179e"
             ],
             [
              0.4444444444444444,
              "#bd3786"
             ],
             [
              0.5555555555555556,
              "#d8576b"
             ],
             [
              0.6666666666666666,
              "#ed7953"
             ],
             [
              0.7777777777777778,
              "#fb9f3a"
             ],
             [
              0.8888888888888888,
              "#fdca26"
             ],
             [
              1,
              "#f0f921"
             ]
            ],
            "type": "histogram2d"
           }
          ],
          "histogram2dcontour": [
           {
            "colorbar": {
             "outlinewidth": 0,
             "ticks": ""
            },
            "colorscale": [
             [
              0,
              "#0d0887"
             ],
             [
              0.1111111111111111,
              "#46039f"
             ],
             [
              0.2222222222222222,
              "#7201a8"
             ],
             [
              0.3333333333333333,
              "#9c179e"
             ],
             [
              0.4444444444444444,
              "#bd3786"
             ],
             [
              0.5555555555555556,
              "#d8576b"
             ],
             [
              0.6666666666666666,
              "#ed7953"
             ],
             [
              0.7777777777777778,
              "#fb9f3a"
             ],
             [
              0.8888888888888888,
              "#fdca26"
             ],
             [
              1,
              "#f0f921"
             ]
            ],
            "type": "histogram2dcontour"
           }
          ],
          "mesh3d": [
           {
            "colorbar": {
             "outlinewidth": 0,
             "ticks": ""
            },
            "type": "mesh3d"
           }
          ],
          "parcoords": [
           {
            "line": {
             "colorbar": {
              "outlinewidth": 0,
              "ticks": ""
             }
            },
            "type": "parcoords"
           }
          ],
          "pie": [
           {
            "automargin": true,
            "type": "pie"
           }
          ],
          "scatter": [
           {
            "marker": {
             "colorbar": {
              "outlinewidth": 0,
              "ticks": ""
             }
            },
            "type": "scatter"
           }
          ],
          "scatter3d": [
           {
            "line": {
             "colorbar": {
              "outlinewidth": 0,
              "ticks": ""
             }
            },
            "marker": {
             "colorbar": {
              "outlinewidth": 0,
              "ticks": ""
             }
            },
            "type": "scatter3d"
           }
          ],
          "scattercarpet": [
           {
            "marker": {
             "colorbar": {
              "outlinewidth": 0,
              "ticks": ""
             }
            },
            "type": "scattercarpet"
           }
          ],
          "scattergeo": [
           {
            "marker": {
             "colorbar": {
              "outlinewidth": 0,
              "ticks": ""
             }
            },
            "type": "scattergeo"
           }
          ],
          "scattergl": [
           {
            "marker": {
             "colorbar": {
              "outlinewidth": 0,
              "ticks": ""
             }
            },
            "type": "scattergl"
           }
          ],
          "scattermapbox": [
           {
            "marker": {
             "colorbar": {
              "outlinewidth": 0,
              "ticks": ""
             }
            },
            "type": "scattermapbox"
           }
          ],
          "scatterpolar": [
           {
            "marker": {
             "colorbar": {
              "outlinewidth": 0,
              "ticks": ""
             }
            },
            "type": "scatterpolar"
           }
          ],
          "scatterpolargl": [
           {
            "marker": {
             "colorbar": {
              "outlinewidth": 0,
              "ticks": ""
             }
            },
            "type": "scatterpolargl"
           }
          ],
          "scatterternary": [
           {
            "marker": {
             "colorbar": {
              "outlinewidth": 0,
              "ticks": ""
             }
            },
            "type": "scatterternary"
           }
          ],
          "surface": [
           {
            "colorbar": {
             "outlinewidth": 0,
             "ticks": ""
            },
            "colorscale": [
             [
              0,
              "#0d0887"
             ],
             [
              0.1111111111111111,
              "#46039f"
             ],
             [
              0.2222222222222222,
              "#7201a8"
             ],
             [
              0.3333333333333333,
              "#9c179e"
             ],
             [
              0.4444444444444444,
              "#bd3786"
             ],
             [
              0.5555555555555556,
              "#d8576b"
             ],
             [
              0.6666666666666666,
              "#ed7953"
             ],
             [
              0.7777777777777778,
              "#fb9f3a"
             ],
             [
              0.8888888888888888,
              "#fdca26"
             ],
             [
              1,
              "#f0f921"
             ]
            ],
            "type": "surface"
           }
          ],
          "table": [
           {
            "cells": {
             "fill": {
              "color": "#EBF0F8"
             },
             "line": {
              "color": "white"
             }
            },
            "header": {
             "fill": {
              "color": "#C8D4E3"
             },
             "line": {
              "color": "white"
             }
            },
            "type": "table"
           }
          ]
         },
         "layout": {
          "annotationdefaults": {
           "arrowcolor": "#2a3f5f",
           "arrowhead": 0,
           "arrowwidth": 1
          },
          "autotypenumbers": "strict",
          "coloraxis": {
           "colorbar": {
            "outlinewidth": 0,
            "ticks": ""
           }
          },
          "colorscale": {
           "diverging": [
            [
             0,
             "#8e0152"
            ],
            [
             0.1,
             "#c51b7d"
            ],
            [
             0.2,
             "#de77ae"
            ],
            [
             0.3,
             "#f1b6da"
            ],
            [
             0.4,
             "#fde0ef"
            ],
            [
             0.5,
             "#f7f7f7"
            ],
            [
             0.6,
             "#e6f5d0"
            ],
            [
             0.7,
             "#b8e186"
            ],
            [
             0.8,
             "#7fbc41"
            ],
            [
             0.9,
             "#4d9221"
            ],
            [
             1,
             "#276419"
            ]
           ],
           "sequential": [
            [
             0,
             "#0d0887"
            ],
            [
             0.1111111111111111,
             "#46039f"
            ],
            [
             0.2222222222222222,
             "#7201a8"
            ],
            [
             0.3333333333333333,
             "#9c179e"
            ],
            [
             0.4444444444444444,
             "#bd3786"
            ],
            [
             0.5555555555555556,
             "#d8576b"
            ],
            [
             0.6666666666666666,
             "#ed7953"
            ],
            [
             0.7777777777777778,
             "#fb9f3a"
            ],
            [
             0.8888888888888888,
             "#fdca26"
            ],
            [
             1,
             "#f0f921"
            ]
           ],
           "sequentialminus": [
            [
             0,
             "#0d0887"
            ],
            [
             0.1111111111111111,
             "#46039f"
            ],
            [
             0.2222222222222222,
             "#7201a8"
            ],
            [
             0.3333333333333333,
             "#9c179e"
            ],
            [
             0.4444444444444444,
             "#bd3786"
            ],
            [
             0.5555555555555556,
             "#d8576b"
            ],
            [
             0.6666666666666666,
             "#ed7953"
            ],
            [
             0.7777777777777778,
             "#fb9f3a"
            ],
            [
             0.8888888888888888,
             "#fdca26"
            ],
            [
             1,
             "#f0f921"
            ]
           ]
          },
          "colorway": [
           "#636efa",
           "#EF553B",
           "#00cc96",
           "#ab63fa",
           "#FFA15A",
           "#19d3f3",
           "#FF6692",
           "#B6E880",
           "#FF97FF",
           "#FECB52"
          ],
          "font": {
           "color": "#2a3f5f"
          },
          "geo": {
           "bgcolor": "white",
           "lakecolor": "white",
           "landcolor": "#E5ECF6",
           "showlakes": true,
           "showland": true,
           "subunitcolor": "white"
          },
          "hoverlabel": {
           "align": "left"
          },
          "hovermode": "closest",
          "mapbox": {
           "style": "light"
          },
          "paper_bgcolor": "white",
          "plot_bgcolor": "#E5ECF6",
          "polar": {
           "angularaxis": {
            "gridcolor": "white",
            "linecolor": "white",
            "ticks": ""
           },
           "bgcolor": "#E5ECF6",
           "radialaxis": {
            "gridcolor": "white",
            "linecolor": "white",
            "ticks": ""
           }
          },
          "scene": {
           "xaxis": {
            "backgroundcolor": "#E5ECF6",
            "gridcolor": "white",
            "gridwidth": 2,
            "linecolor": "white",
            "showbackground": true,
            "ticks": "",
            "zerolinecolor": "white"
           },
           "yaxis": {
            "backgroundcolor": "#E5ECF6",
            "gridcolor": "white",
            "gridwidth": 2,
            "linecolor": "white",
            "showbackground": true,
            "ticks": "",
            "zerolinecolor": "white"
           },
           "zaxis": {
            "backgroundcolor": "#E5ECF6",
            "gridcolor": "white",
            "gridwidth": 2,
            "linecolor": "white",
            "showbackground": true,
            "ticks": "",
            "zerolinecolor": "white"
           }
          },
          "shapedefaults": {
           "line": {
            "color": "#2a3f5f"
           }
          },
          "ternary": {
           "aaxis": {
            "gridcolor": "white",
            "linecolor": "white",
            "ticks": ""
           },
           "baxis": {
            "gridcolor": "white",
            "linecolor": "white",
            "ticks": ""
           },
           "bgcolor": "#E5ECF6",
           "caxis": {
            "gridcolor": "white",
            "linecolor": "white",
            "ticks": ""
           }
          },
          "title": {
           "x": 0.05
          },
          "xaxis": {
           "automargin": true,
           "gridcolor": "white",
           "linecolor": "white",
           "ticks": "",
           "title": {
            "standoff": 15
           },
           "zerolinecolor": "white",
           "zerolinewidth": 2
          },
          "yaxis": {
           "automargin": true,
           "gridcolor": "white",
           "linecolor": "white",
           "ticks": "",
           "title": {
            "standoff": 15
           },
           "zerolinecolor": "white",
           "zerolinewidth": 2
          }
         }
        },
        "title": {
         "text": "Net and EBIT income"
        },
        "xaxis": {
         "tickfont": {
          "size": 14
         }
        },
        "yaxis": {
         "tickfont": {
          "size": 14
         },
         "title": {
          "font": {
           "size": 16
          },
          "text": "PLN"
         }
        }
       }
      },
      "text/html": [
       "<div>                            <div id=\"f5917033-0d1e-47a7-9f50-95fd69171b06\" class=\"plotly-graph-div\" style=\"height:525px; width:100%;\"></div>            <script type=\"text/javascript\">                require([\"plotly\"], function(Plotly) {                    window.PLOTLYENV=window.PLOTLYENV || {};                                    if (document.getElementById(\"f5917033-0d1e-47a7-9f50-95fd69171b06\")) {                    Plotly.newPlot(                        \"f5917033-0d1e-47a7-9f50-95fd69171b06\",                        [{\"name\":\"net income\",\"x\":[\"2005(gru 05)\",\"2006(gru 06)\",\"2007(cze 08)\",\"2008(cze 09)\",\"2009(cze 10)\",\"2010(cze 11)\",\"2011(cze 12)\",\"2012(cze 13)\",\"2013(cze 14)\",\"2014(cze 15)\",\"2015(cze 16)\",\"2016(cze 17)\",\"2017(cze 18)\",\"2018(cze 19)\",\"2019(cze 20)\",\"2020(cze 21)\",\"O4K(wrz 21)*\"],\"y\":[6033.0,9636.0,17122.0,26969.0,35160.0,52707.0,47757.0,41668.0,57297.0,68392.0,64603.0,67848.0,60952.0,57775.0,66383.0,123720.0,129541.0],\"type\":\"bar\"},{\"name\":\"EBIT income\",\"x\":[\"2005(gru 05)\",\"2006(gru 06)\",\"2007(cze 08)\",\"2008(cze 09)\",\"2009(cze 10)\",\"2010(cze 11)\",\"2011(cze 12)\",\"2012(cze 13)\",\"2013(cze 14)\",\"2014(cze 15)\",\"2015(cze 16)\",\"2016(cze 17)\",\"2017(cze 18)\",\"2018(cze 19)\",\"2019(cze 20)\",\"2020(cze 21)\",\"O4K(wrz 21)*\"],\"y\":[10463.0,15939.0,35412.0,76509.0,58276.0,61411.0,81314.0,64155.0,85306.0,100151.0,98634.0,101753.0,98030.0,85240.0,95542.0,165835.0,172515.0],\"type\":\"bar\"}],                        {\"template\":{\"data\":{\"bar\":[{\"error_x\":{\"color\":\"#2a3f5f\"},\"error_y\":{\"color\":\"#2a3f5f\"},\"marker\":{\"line\":{\"color\":\"#E5ECF6\",\"width\":0.5},\"pattern\":{\"fillmode\":\"overlay\",\"size\":10,\"solidity\":0.2}},\"type\":\"bar\"}],\"barpolar\":[{\"marker\":{\"line\":{\"color\":\"#E5ECF6\",\"width\":0.5},\"pattern\":{\"fillmode\":\"overlay\",\"size\":10,\"solidity\":0.2}},\"type\":\"barpolar\"}],\"carpet\":[{\"aaxis\":{\"endlinecolor\":\"#2a3f5f\",\"gridcolor\":\"white\",\"linecolor\":\"white\",\"minorgridcolor\":\"white\",\"startlinecolor\":\"#2a3f5f\"},\"baxis\":{\"endlinecolor\":\"#2a3f5f\",\"gridcolor\":\"white\",\"linecolor\":\"white\",\"minorgridcolor\":\"white\",\"startlinecolor\":\"#2a3f5f\"},\"type\":\"carpet\"}],\"choropleth\":[{\"colorbar\":{\"outlinewidth\":0,\"ticks\":\"\"},\"type\":\"choropleth\"}],\"contour\":[{\"colorbar\":{\"outlinewidth\":0,\"ticks\":\"\"},\"colorscale\":[[0.0,\"#0d0887\"],[0.1111111111111111,\"#46039f\"],[0.2222222222222222,\"#7201a8\"],[0.3333333333333333,\"#9c179e\"],[0.4444444444444444,\"#bd3786\"],[0.5555555555555556,\"#d8576b\"],[0.6666666666666666,\"#ed7953\"],[0.7777777777777778,\"#fb9f3a\"],[0.8888888888888888,\"#fdca26\"],[1.0,\"#f0f921\"]],\"type\":\"contour\"}],\"contourcarpet\":[{\"colorbar\":{\"outlinewidth\":0,\"ticks\":\"\"},\"type\":\"contourcarpet\"}],\"heatmap\":[{\"colorbar\":{\"outlinewidth\":0,\"ticks\":\"\"},\"colorscale\":[[0.0,\"#0d0887\"],[0.1111111111111111,\"#46039f\"],[0.2222222222222222,\"#7201a8\"],[0.3333333333333333,\"#9c179e\"],[0.4444444444444444,\"#bd3786\"],[0.5555555555555556,\"#d8576b\"],[0.6666666666666666,\"#ed7953\"],[0.7777777777777778,\"#fb9f3a\"],[0.8888888888888888,\"#fdca26\"],[1.0,\"#f0f921\"]],\"type\":\"heatmap\"}],\"heatmapgl\":[{\"colorbar\":{\"outlinewidth\":0,\"ticks\":\"\"},\"colorscale\":[[0.0,\"#0d0887\"],[0.1111111111111111,\"#46039f\"],[0.2222222222222222,\"#7201a8\"],[0.3333333333333333,\"#9c179e\"],[0.4444444444444444,\"#bd3786\"],[0.5555555555555556,\"#d8576b\"],[0.6666666666666666,\"#ed7953\"],[0.7777777777777778,\"#fb9f3a\"],[0.8888888888888888,\"#fdca26\"],[1.0,\"#f0f921\"]],\"type\":\"heatmapgl\"}],\"histogram\":[{\"marker\":{\"pattern\":{\"fillmode\":\"overlay\",\"size\":10,\"solidity\":0.2}},\"type\":\"histogram\"}],\"histogram2d\":[{\"colorbar\":{\"outlinewidth\":0,\"ticks\":\"\"},\"colorscale\":[[0.0,\"#0d0887\"],[0.1111111111111111,\"#46039f\"],[0.2222222222222222,\"#7201a8\"],[0.3333333333333333,\"#9c179e\"],[0.4444444444444444,\"#bd3786\"],[0.5555555555555556,\"#d8576b\"],[0.6666666666666666,\"#ed7953\"],[0.7777777777777778,\"#fb9f3a\"],[0.8888888888888888,\"#fdca26\"],[1.0,\"#f0f921\"]],\"type\":\"histogram2d\"}],\"histogram2dcontour\":[{\"colorbar\":{\"outlinewidth\":0,\"ticks\":\"\"},\"colorscale\":[[0.0,\"#0d0887\"],[0.1111111111111111,\"#46039f\"],[0.2222222222222222,\"#7201a8\"],[0.3333333333333333,\"#9c179e\"],[0.4444444444444444,\"#bd3786\"],[0.5555555555555556,\"#d8576b\"],[0.6666666666666666,\"#ed7953\"],[0.7777777777777778,\"#fb9f3a\"],[0.8888888888888888,\"#fdca26\"],[1.0,\"#f0f921\"]],\"type\":\"histogram2dcontour\"}],\"mesh3d\":[{\"colorbar\":{\"outlinewidth\":0,\"ticks\":\"\"},\"type\":\"mesh3d\"}],\"parcoords\":[{\"line\":{\"colorbar\":{\"outlinewidth\":0,\"ticks\":\"\"}},\"type\":\"parcoords\"}],\"pie\":[{\"automargin\":true,\"type\":\"pie\"}],\"scatter\":[{\"marker\":{\"colorbar\":{\"outlinewidth\":0,\"ticks\":\"\"}},\"type\":\"scatter\"}],\"scatter3d\":[{\"line\":{\"colorbar\":{\"outlinewidth\":0,\"ticks\":\"\"}},\"marker\":{\"colorbar\":{\"outlinewidth\":0,\"ticks\":\"\"}},\"type\":\"scatter3d\"}],\"scattercarpet\":[{\"marker\":{\"colorbar\":{\"outlinewidth\":0,\"ticks\":\"\"}},\"type\":\"scattercarpet\"}],\"scattergeo\":[{\"marker\":{\"colorbar\":{\"outlinewidth\":0,\"ticks\":\"\"}},\"type\":\"scattergeo\"}],\"scattergl\":[{\"marker\":{\"colorbar\":{\"outlinewidth\":0,\"ticks\":\"\"}},\"type\":\"scattergl\"}],\"scattermapbox\":[{\"marker\":{\"colorbar\":{\"outlinewidth\":0,\"ticks\":\"\"}},\"type\":\"scattermapbox\"}],\"scatterpolar\":[{\"marker\":{\"colorbar\":{\"outlinewidth\":0,\"ticks\":\"\"}},\"type\":\"scatterpolar\"}],\"scatterpolargl\":[{\"marker\":{\"colorbar\":{\"outlinewidth\":0,\"ticks\":\"\"}},\"type\":\"scatterpolargl\"}],\"scatterternary\":[{\"marker\":{\"colorbar\":{\"outlinewidth\":0,\"ticks\":\"\"}},\"type\":\"scatterternary\"}],\"surface\":[{\"colorbar\":{\"outlinewidth\":0,\"ticks\":\"\"},\"colorscale\":[[0.0,\"#0d0887\"],[0.1111111111111111,\"#46039f\"],[0.2222222222222222,\"#7201a8\"],[0.3333333333333333,\"#9c179e\"],[0.4444444444444444,\"#bd3786\"],[0.5555555555555556,\"#d8576b\"],[0.6666666666666666,\"#ed7953\"],[0.7777777777777778,\"#fb9f3a\"],[0.8888888888888888,\"#fdca26\"],[1.0,\"#f0f921\"]],\"type\":\"surface\"}],\"table\":[{\"cells\":{\"fill\":{\"color\":\"#EBF0F8\"},\"line\":{\"color\":\"white\"}},\"header\":{\"fill\":{\"color\":\"#C8D4E3\"},\"line\":{\"color\":\"white\"}},\"type\":\"table\"}]},\"layout\":{\"annotationdefaults\":{\"arrowcolor\":\"#2a3f5f\",\"arrowhead\":0,\"arrowwidth\":1},\"autotypenumbers\":\"strict\",\"coloraxis\":{\"colorbar\":{\"outlinewidth\":0,\"ticks\":\"\"}},\"colorscale\":{\"diverging\":[[0,\"#8e0152\"],[0.1,\"#c51b7d\"],[0.2,\"#de77ae\"],[0.3,\"#f1b6da\"],[0.4,\"#fde0ef\"],[0.5,\"#f7f7f7\"],[0.6,\"#e6f5d0\"],[0.7,\"#b8e186\"],[0.8,\"#7fbc41\"],[0.9,\"#4d9221\"],[1,\"#276419\"]],\"sequential\":[[0.0,\"#0d0887\"],[0.1111111111111111,\"#46039f\"],[0.2222222222222222,\"#7201a8\"],[0.3333333333333333,\"#9c179e\"],[0.4444444444444444,\"#bd3786\"],[0.5555555555555556,\"#d8576b\"],[0.6666666666666666,\"#ed7953\"],[0.7777777777777778,\"#fb9f3a\"],[0.8888888888888888,\"#fdca26\"],[1.0,\"#f0f921\"]],\"sequentialminus\":[[0.0,\"#0d0887\"],[0.1111111111111111,\"#46039f\"],[0.2222222222222222,\"#7201a8\"],[0.3333333333333333,\"#9c179e\"],[0.4444444444444444,\"#bd3786\"],[0.5555555555555556,\"#d8576b\"],[0.6666666666666666,\"#ed7953\"],[0.7777777777777778,\"#fb9f3a\"],[0.8888888888888888,\"#fdca26\"],[1.0,\"#f0f921\"]]},\"colorway\":[\"#636efa\",\"#EF553B\",\"#00cc96\",\"#ab63fa\",\"#FFA15A\",\"#19d3f3\",\"#FF6692\",\"#B6E880\",\"#FF97FF\",\"#FECB52\"],\"font\":{\"color\":\"#2a3f5f\"},\"geo\":{\"bgcolor\":\"white\",\"lakecolor\":\"white\",\"landcolor\":\"#E5ECF6\",\"showlakes\":true,\"showland\":true,\"subunitcolor\":\"white\"},\"hoverlabel\":{\"align\":\"left\"},\"hovermode\":\"closest\",\"mapbox\":{\"style\":\"light\"},\"paper_bgcolor\":\"white\",\"plot_bgcolor\":\"#E5ECF6\",\"polar\":{\"angularaxis\":{\"gridcolor\":\"white\",\"linecolor\":\"white\",\"ticks\":\"\"},\"bgcolor\":\"#E5ECF6\",\"radialaxis\":{\"gridcolor\":\"white\",\"linecolor\":\"white\",\"ticks\":\"\"}},\"scene\":{\"xaxis\":{\"backgroundcolor\":\"#E5ECF6\",\"gridcolor\":\"white\",\"gridwidth\":2,\"linecolor\":\"white\",\"showbackground\":true,\"ticks\":\"\",\"zerolinecolor\":\"white\"},\"yaxis\":{\"backgroundcolor\":\"#E5ECF6\",\"gridcolor\":\"white\",\"gridwidth\":2,\"linecolor\":\"white\",\"showbackground\":true,\"ticks\":\"\",\"zerolinecolor\":\"white\"},\"zaxis\":{\"backgroundcolor\":\"#E5ECF6\",\"gridcolor\":\"white\",\"gridwidth\":2,\"linecolor\":\"white\",\"showbackground\":true,\"ticks\":\"\",\"zerolinecolor\":\"white\"}},\"shapedefaults\":{\"line\":{\"color\":\"#2a3f5f\"}},\"ternary\":{\"aaxis\":{\"gridcolor\":\"white\",\"linecolor\":\"white\",\"ticks\":\"\"},\"baxis\":{\"gridcolor\":\"white\",\"linecolor\":\"white\",\"ticks\":\"\"},\"bgcolor\":\"#E5ECF6\",\"caxis\":{\"gridcolor\":\"white\",\"linecolor\":\"white\",\"ticks\":\"\"}},\"title\":{\"x\":0.05},\"xaxis\":{\"automargin\":true,\"gridcolor\":\"white\",\"linecolor\":\"white\",\"ticks\":\"\",\"title\":{\"standoff\":15},\"zerolinecolor\":\"white\",\"zerolinewidth\":2},\"yaxis\":{\"automargin\":true,\"gridcolor\":\"white\",\"linecolor\":\"white\",\"ticks\":\"\",\"title\":{\"standoff\":15},\"zerolinecolor\":\"white\",\"zerolinewidth\":2}}},\"xaxis\":{\"tickfont\":{\"size\":14}},\"yaxis\":{\"title\":{\"text\":\"PLN\",\"font\":{\"size\":16}},\"tickfont\":{\"size\":14}},\"legend\":{\"x\":0,\"y\":1.0,\"bgcolor\":\"rgba(255, 255, 255, 0)\",\"bordercolor\":\"rgba(255, 255, 255, 0)\"},\"title\":{\"text\":\"Net and EBIT income\"},\"barmode\":\"group\",\"bargap\":0.15,\"bargroupgap\":0.1},                        {\"responsive\": true}                    ).then(function(){\n",
       "                            \n",
       "var gd = document.getElementById('f5917033-0d1e-47a7-9f50-95fd69171b06');\n",
       "var x = new MutationObserver(function (mutations, observer) {{\n",
       "        var display = window.getComputedStyle(gd).display;\n",
       "        if (!display || display === 'none') {{\n",
       "            console.log([gd, 'removed!']);\n",
       "            Plotly.purge(gd);\n",
       "            observer.disconnect();\n",
       "        }}\n",
       "}});\n",
       "\n",
       "// Listen for the removal of the full notebook cells\n",
       "var notebookContainer = gd.closest('#notebook-container');\n",
       "if (notebookContainer) {{\n",
       "    x.observe(notebookContainer, {childList: true});\n",
       "}}\n",
       "\n",
       "// Listen for the clearing of the current output cell\n",
       "var outputEl = gd.closest('.output');\n",
       "if (outputEl) {{\n",
       "    x.observe(outputEl, {childList: true});\n",
       "}}\n",
       "\n",
       "                        })                };                });            </script>        </div>"
      ]
     },
     "metadata": {},
     "output_type": "display_data"
    },
    {
     "data": {
      "application/vnd.plotly.v1+json": {
       "config": {
        "plotlyServerURL": "https://plot.ly"
       },
       "data": [
        {
         "name": "net income",
         "type": "bar",
         "x": [
          "2005(gru 05)",
          "2006(gru 06)",
          "2007(cze 08)",
          "2008(cze 09)",
          "2009(cze 10)",
          "2010(cze 11)",
          "2011(cze 12)",
          "2012(cze 13)",
          "2013(cze 14)",
          "2014(cze 15)",
          "2015(cze 16)",
          "2016(cze 17)",
          "2017(cze 18)",
          "2018(cze 19)",
          "2019(cze 20)",
          "2020(cze 21)",
          "O4K(wrz 21)*"
         ],
         "xaxis": "x",
         "y": [
          6033,
          9636,
          17122,
          26969,
          35160,
          52707,
          47757,
          41668,
          57297,
          68392,
          64603,
          67848,
          60952,
          57775,
          66383,
          123720,
          129541
         ],
         "yaxis": "y"
        },
        {
         "name": "y/y income net dynamic [%]",
         "type": "scatter",
         "x": [
          "2005(gru 05)",
          "2006(gru 06)",
          "2007(cze 08)",
          "2008(cze 09)",
          "2009(cze 10)",
          "2010(cze 11)",
          "2011(cze 12)",
          "2012(cze 13)",
          "2013(cze 14)",
          "2014(cze 15)",
          "2015(cze 16)",
          "2016(cze 17)",
          "2017(cze 18)",
          "2018(cze 19)",
          "2019(cze 20)",
          "2020(cze 21)",
          "O4K(wrz 21)*"
         ],
         "xaxis": "x",
         "y": [
          0,
          59.72,
          77.69,
          57.51,
          30.37,
          49.91,
          -9.39,
          -12.75,
          37.51,
          19.36,
          -5.54,
          5.02,
          -10.16,
          -5.21,
          14.9,
          86.37,
          75.66
         ],
         "yaxis": "y2"
        },
        {
         "name": "y/y income net sector dynamic [%]",
         "type": "scatter",
         "x": [
          "2005(gru 05)",
          "2006(gru 06)",
          "2007(cze 08)",
          "2008(cze 09)",
          "2009(cze 10)",
          "2010(cze 11)",
          "2011(cze 12)",
          "2012(cze 13)",
          "2013(cze 14)",
          "2014(cze 15)",
          "2015(cze 16)",
          "2016(cze 17)",
          "2017(cze 18)",
          "2018(cze 19)",
          "2019(cze 20)",
          "2020(cze 21)",
          "O4K(wrz 21)*"
         ],
         "xaxis": "x",
         "y": [
          0,
          59.72,
          29.43,
          -60.48,
          8.85,
          49.91,
          36.82,
          -39.01,
          33.54,
          11.16,
          -1.23,
          19.4,
          -3.68,
          6.52,
          17.42,
          51.53,
          78.98
         ],
         "yaxis": "y2"
        }
       ],
       "layout": {
        "bargap": 0.15,
        "bargroupgap": 0.1,
        "barmode": "group",
        "legend": {
         "bgcolor": "rgba(255, 255, 255, 0)",
         "bordercolor": "rgba(255, 255, 255, 0)",
         "x": 0,
         "y": 1
        },
        "template": {
         "data": {
          "bar": [
           {
            "error_x": {
             "color": "#2a3f5f"
            },
            "error_y": {
             "color": "#2a3f5f"
            },
            "marker": {
             "line": {
              "color": "#E5ECF6",
              "width": 0.5
             },
             "pattern": {
              "fillmode": "overlay",
              "size": 10,
              "solidity": 0.2
             }
            },
            "type": "bar"
           }
          ],
          "barpolar": [
           {
            "marker": {
             "line": {
              "color": "#E5ECF6",
              "width": 0.5
             },
             "pattern": {
              "fillmode": "overlay",
              "size": 10,
              "solidity": 0.2
             }
            },
            "type": "barpolar"
           }
          ],
          "carpet": [
           {
            "aaxis": {
             "endlinecolor": "#2a3f5f",
             "gridcolor": "white",
             "linecolor": "white",
             "minorgridcolor": "white",
             "startlinecolor": "#2a3f5f"
            },
            "baxis": {
             "endlinecolor": "#2a3f5f",
             "gridcolor": "white",
             "linecolor": "white",
             "minorgridcolor": "white",
             "startlinecolor": "#2a3f5f"
            },
            "type": "carpet"
           }
          ],
          "choropleth": [
           {
            "colorbar": {
             "outlinewidth": 0,
             "ticks": ""
            },
            "type": "choropleth"
           }
          ],
          "contour": [
           {
            "colorbar": {
             "outlinewidth": 0,
             "ticks": ""
            },
            "colorscale": [
             [
              0,
              "#0d0887"
             ],
             [
              0.1111111111111111,
              "#46039f"
             ],
             [
              0.2222222222222222,
              "#7201a8"
             ],
             [
              0.3333333333333333,
              "#9c179e"
             ],
             [
              0.4444444444444444,
              "#bd3786"
             ],
             [
              0.5555555555555556,
              "#d8576b"
             ],
             [
              0.6666666666666666,
              "#ed7953"
             ],
             [
              0.7777777777777778,
              "#fb9f3a"
             ],
             [
              0.8888888888888888,
              "#fdca26"
             ],
             [
              1,
              "#f0f921"
             ]
            ],
            "type": "contour"
           }
          ],
          "contourcarpet": [
           {
            "colorbar": {
             "outlinewidth": 0,
             "ticks": ""
            },
            "type": "contourcarpet"
           }
          ],
          "heatmap": [
           {
            "colorbar": {
             "outlinewidth": 0,
             "ticks": ""
            },
            "colorscale": [
             [
              0,
              "#0d0887"
             ],
             [
              0.1111111111111111,
              "#46039f"
             ],
             [
              0.2222222222222222,
              "#7201a8"
             ],
             [
              0.3333333333333333,
              "#9c179e"
             ],
             [
              0.4444444444444444,
              "#bd3786"
             ],
             [
              0.5555555555555556,
              "#d8576b"
             ],
             [
              0.6666666666666666,
              "#ed7953"
             ],
             [
              0.7777777777777778,
              "#fb9f3a"
             ],
             [
              0.8888888888888888,
              "#fdca26"
             ],
             [
              1,
              "#f0f921"
             ]
            ],
            "type": "heatmap"
           }
          ],
          "heatmapgl": [
           {
            "colorbar": {
             "outlinewidth": 0,
             "ticks": ""
            },
            "colorscale": [
             [
              0,
              "#0d0887"
             ],
             [
              0.1111111111111111,
              "#46039f"
             ],
             [
              0.2222222222222222,
              "#7201a8"
             ],
             [
              0.3333333333333333,
              "#9c179e"
             ],
             [
              0.4444444444444444,
              "#bd3786"
             ],
             [
              0.5555555555555556,
              "#d8576b"
             ],
             [
              0.6666666666666666,
              "#ed7953"
             ],
             [
              0.7777777777777778,
              "#fb9f3a"
             ],
             [
              0.8888888888888888,
              "#fdca26"
             ],
             [
              1,
              "#f0f921"
             ]
            ],
            "type": "heatmapgl"
           }
          ],
          "histogram": [
           {
            "marker": {
             "pattern": {
              "fillmode": "overlay",
              "size": 10,
              "solidity": 0.2
             }
            },
            "type": "histogram"
           }
          ],
          "histogram2d": [
           {
            "colorbar": {
             "outlinewidth": 0,
             "ticks": ""
            },
            "colorscale": [
             [
              0,
              "#0d0887"
             ],
             [
              0.1111111111111111,
              "#46039f"
             ],
             [
              0.2222222222222222,
              "#7201a8"
             ],
             [
              0.3333333333333333,
              "#9c179e"
             ],
             [
              0.4444444444444444,
              "#bd3786"
             ],
             [
              0.5555555555555556,
              "#d8576b"
             ],
             [
              0.6666666666666666,
              "#ed7953"
             ],
             [
              0.7777777777777778,
              "#fb9f3a"
             ],
             [
              0.8888888888888888,
              "#fdca26"
             ],
             [
              1,
              "#f0f921"
             ]
            ],
            "type": "histogram2d"
           }
          ],
          "histogram2dcontour": [
           {
            "colorbar": {
             "outlinewidth": 0,
             "ticks": ""
            },
            "colorscale": [
             [
              0,
              "#0d0887"
             ],
             [
              0.1111111111111111,
              "#46039f"
             ],
             [
              0.2222222222222222,
              "#7201a8"
             ],
             [
              0.3333333333333333,
              "#9c179e"
             ],
             [
              0.4444444444444444,
              "#bd3786"
             ],
             [
              0.5555555555555556,
              "#d8576b"
             ],
             [
              0.6666666666666666,
              "#ed7953"
             ],
             [
              0.7777777777777778,
              "#fb9f3a"
             ],
             [
              0.8888888888888888,
              "#fdca26"
             ],
             [
              1,
              "#f0f921"
             ]
            ],
            "type": "histogram2dcontour"
           }
          ],
          "mesh3d": [
           {
            "colorbar": {
             "outlinewidth": 0,
             "ticks": ""
            },
            "type": "mesh3d"
           }
          ],
          "parcoords": [
           {
            "line": {
             "colorbar": {
              "outlinewidth": 0,
              "ticks": ""
             }
            },
            "type": "parcoords"
           }
          ],
          "pie": [
           {
            "automargin": true,
            "type": "pie"
           }
          ],
          "scatter": [
           {
            "marker": {
             "colorbar": {
              "outlinewidth": 0,
              "ticks": ""
             }
            },
            "type": "scatter"
           }
          ],
          "scatter3d": [
           {
            "line": {
             "colorbar": {
              "outlinewidth": 0,
              "ticks": ""
             }
            },
            "marker": {
             "colorbar": {
              "outlinewidth": 0,
              "ticks": ""
             }
            },
            "type": "scatter3d"
           }
          ],
          "scattercarpet": [
           {
            "marker": {
             "colorbar": {
              "outlinewidth": 0,
              "ticks": ""
             }
            },
            "type": "scattercarpet"
           }
          ],
          "scattergeo": [
           {
            "marker": {
             "colorbar": {
              "outlinewidth": 0,
              "ticks": ""
             }
            },
            "type": "scattergeo"
           }
          ],
          "scattergl": [
           {
            "marker": {
             "colorbar": {
              "outlinewidth": 0,
              "ticks": ""
             }
            },
            "type": "scattergl"
           }
          ],
          "scattermapbox": [
           {
            "marker": {
             "colorbar": {
              "outlinewidth": 0,
              "ticks": ""
             }
            },
            "type": "scattermapbox"
           }
          ],
          "scatterpolar": [
           {
            "marker": {
             "colorbar": {
              "outlinewidth": 0,
              "ticks": ""
             }
            },
            "type": "scatterpolar"
           }
          ],
          "scatterpolargl": [
           {
            "marker": {
             "colorbar": {
              "outlinewidth": 0,
              "ticks": ""
             }
            },
            "type": "scatterpolargl"
           }
          ],
          "scatterternary": [
           {
            "marker": {
             "colorbar": {
              "outlinewidth": 0,
              "ticks": ""
             }
            },
            "type": "scatterternary"
           }
          ],
          "surface": [
           {
            "colorbar": {
             "outlinewidth": 0,
             "ticks": ""
            },
            "colorscale": [
             [
              0,
              "#0d0887"
             ],
             [
              0.1111111111111111,
              "#46039f"
             ],
             [
              0.2222222222222222,
              "#7201a8"
             ],
             [
              0.3333333333333333,
              "#9c179e"
             ],
             [
              0.4444444444444444,
              "#bd3786"
             ],
             [
              0.5555555555555556,
              "#d8576b"
             ],
             [
              0.6666666666666666,
              "#ed7953"
             ],
             [
              0.7777777777777778,
              "#fb9f3a"
             ],
             [
              0.8888888888888888,
              "#fdca26"
             ],
             [
              1,
              "#f0f921"
             ]
            ],
            "type": "surface"
           }
          ],
          "table": [
           {
            "cells": {
             "fill": {
              "color": "#EBF0F8"
             },
             "line": {
              "color": "white"
             }
            },
            "header": {
             "fill": {
              "color": "#C8D4E3"
             },
             "line": {
              "color": "white"
             }
            },
            "type": "table"
           }
          ]
         },
         "layout": {
          "annotationdefaults": {
           "arrowcolor": "#2a3f5f",
           "arrowhead": 0,
           "arrowwidth": 1
          },
          "autotypenumbers": "strict",
          "coloraxis": {
           "colorbar": {
            "outlinewidth": 0,
            "ticks": ""
           }
          },
          "colorscale": {
           "diverging": [
            [
             0,
             "#8e0152"
            ],
            [
             0.1,
             "#c51b7d"
            ],
            [
             0.2,
             "#de77ae"
            ],
            [
             0.3,
             "#f1b6da"
            ],
            [
             0.4,
             "#fde0ef"
            ],
            [
             0.5,
             "#f7f7f7"
            ],
            [
             0.6,
             "#e6f5d0"
            ],
            [
             0.7,
             "#b8e186"
            ],
            [
             0.8,
             "#7fbc41"
            ],
            [
             0.9,
             "#4d9221"
            ],
            [
             1,
             "#276419"
            ]
           ],
           "sequential": [
            [
             0,
             "#0d0887"
            ],
            [
             0.1111111111111111,
             "#46039f"
            ],
            [
             0.2222222222222222,
             "#7201a8"
            ],
            [
             0.3333333333333333,
             "#9c179e"
            ],
            [
             0.4444444444444444,
             "#bd3786"
            ],
            [
             0.5555555555555556,
             "#d8576b"
            ],
            [
             0.6666666666666666,
             "#ed7953"
            ],
            [
             0.7777777777777778,
             "#fb9f3a"
            ],
            [
             0.8888888888888888,
             "#fdca26"
            ],
            [
             1,
             "#f0f921"
            ]
           ],
           "sequentialminus": [
            [
             0,
             "#0d0887"
            ],
            [
             0.1111111111111111,
             "#46039f"
            ],
            [
             0.2222222222222222,
             "#7201a8"
            ],
            [
             0.3333333333333333,
             "#9c179e"
            ],
            [
             0.4444444444444444,
             "#bd3786"
            ],
            [
             0.5555555555555556,
             "#d8576b"
            ],
            [
             0.6666666666666666,
             "#ed7953"
            ],
            [
             0.7777777777777778,
             "#fb9f3a"
            ],
            [
             0.8888888888888888,
             "#fdca26"
            ],
            [
             1,
             "#f0f921"
            ]
           ]
          },
          "colorway": [
           "#636efa",
           "#EF553B",
           "#00cc96",
           "#ab63fa",
           "#FFA15A",
           "#19d3f3",
           "#FF6692",
           "#B6E880",
           "#FF97FF",
           "#FECB52"
          ],
          "font": {
           "color": "#2a3f5f"
          },
          "geo": {
           "bgcolor": "white",
           "lakecolor": "white",
           "landcolor": "#E5ECF6",
           "showlakes": true,
           "showland": true,
           "subunitcolor": "white"
          },
          "hoverlabel": {
           "align": "left"
          },
          "hovermode": "closest",
          "mapbox": {
           "style": "light"
          },
          "paper_bgcolor": "white",
          "plot_bgcolor": "#E5ECF6",
          "polar": {
           "angularaxis": {
            "gridcolor": "white",
            "linecolor": "white",
            "ticks": ""
           },
           "bgcolor": "#E5ECF6",
           "radialaxis": {
            "gridcolor": "white",
            "linecolor": "white",
            "ticks": ""
           }
          },
          "scene": {
           "xaxis": {
            "backgroundcolor": "#E5ECF6",
            "gridcolor": "white",
            "gridwidth": 2,
            "linecolor": "white",
            "showbackground": true,
            "ticks": "",
            "zerolinecolor": "white"
           },
           "yaxis": {
            "backgroundcolor": "#E5ECF6",
            "gridcolor": "white",
            "gridwidth": 2,
            "linecolor": "white",
            "showbackground": true,
            "ticks": "",
            "zerolinecolor": "white"
           },
           "zaxis": {
            "backgroundcolor": "#E5ECF6",
            "gridcolor": "white",
            "gridwidth": 2,
            "linecolor": "white",
            "showbackground": true,
            "ticks": "",
            "zerolinecolor": "white"
           }
          },
          "shapedefaults": {
           "line": {
            "color": "#2a3f5f"
           }
          },
          "ternary": {
           "aaxis": {
            "gridcolor": "white",
            "linecolor": "white",
            "ticks": ""
           },
           "baxis": {
            "gridcolor": "white",
            "linecolor": "white",
            "ticks": ""
           },
           "bgcolor": "#E5ECF6",
           "caxis": {
            "gridcolor": "white",
            "linecolor": "white",
            "ticks": ""
           }
          },
          "title": {
           "x": 0.05
          },
          "xaxis": {
           "automargin": true,
           "gridcolor": "white",
           "linecolor": "white",
           "ticks": "",
           "title": {
            "standoff": 15
           },
           "zerolinecolor": "white",
           "zerolinewidth": 2
          },
          "yaxis": {
           "automargin": true,
           "gridcolor": "white",
           "linecolor": "white",
           "ticks": "",
           "title": {
            "standoff": 15
           },
           "zerolinecolor": "white",
           "zerolinewidth": 2
          }
         }
        },
        "title": {
         "text": "Income net and dynamics"
        },
        "xaxis": {
         "anchor": "y",
         "domain": [
          0,
          0.94
         ],
         "tickfont": {
          "size": 14
         }
        },
        "yaxis": {
         "anchor": "x",
         "domain": [
          0,
          1
         ],
         "tickfont": {
          "size": 14
         },
         "title": {
          "font": {
           "size": 16
          },
          "text": "PLN"
         }
        },
        "yaxis2": {
         "anchor": "x",
         "overlaying": "y",
         "side": "right"
        }
       }
      },
      "text/html": [
       "<div>                            <div id=\"01ba05a3-7753-41d0-a4fd-6b85c6574134\" class=\"plotly-graph-div\" style=\"height:525px; width:100%;\"></div>            <script type=\"text/javascript\">                require([\"plotly\"], function(Plotly) {                    window.PLOTLYENV=window.PLOTLYENV || {};                                    if (document.getElementById(\"01ba05a3-7753-41d0-a4fd-6b85c6574134\")) {                    Plotly.newPlot(                        \"01ba05a3-7753-41d0-a4fd-6b85c6574134\",                        [{\"name\":\"net income\",\"x\":[\"2005(gru 05)\",\"2006(gru 06)\",\"2007(cze 08)\",\"2008(cze 09)\",\"2009(cze 10)\",\"2010(cze 11)\",\"2011(cze 12)\",\"2012(cze 13)\",\"2013(cze 14)\",\"2014(cze 15)\",\"2015(cze 16)\",\"2016(cze 17)\",\"2017(cze 18)\",\"2018(cze 19)\",\"2019(cze 20)\",\"2020(cze 21)\",\"O4K(wrz 21)*\"],\"y\":[6033.0,9636.0,17122.0,26969.0,35160.0,52707.0,47757.0,41668.0,57297.0,68392.0,64603.0,67848.0,60952.0,57775.0,66383.0,123720.0,129541.0],\"type\":\"bar\",\"xaxis\":\"x\",\"yaxis\":\"y\"},{\"name\":\"y/y income net dynamic [%]\",\"x\":[\"2005(gru 05)\",\"2006(gru 06)\",\"2007(cze 08)\",\"2008(cze 09)\",\"2009(cze 10)\",\"2010(cze 11)\",\"2011(cze 12)\",\"2012(cze 13)\",\"2013(cze 14)\",\"2014(cze 15)\",\"2015(cze 16)\",\"2016(cze 17)\",\"2017(cze 18)\",\"2018(cze 19)\",\"2019(cze 20)\",\"2020(cze 21)\",\"O4K(wrz 21)*\"],\"y\":[0.0,59.72,77.69,57.51,30.37,49.91,-9.39,-12.75,37.51,19.36,-5.54,5.02,-10.16,-5.21,14.9,86.37,75.66],\"type\":\"scatter\",\"xaxis\":\"x\",\"yaxis\":\"y2\"},{\"name\":\"y/y income net sector dynamic [%]\",\"x\":[\"2005(gru 05)\",\"2006(gru 06)\",\"2007(cze 08)\",\"2008(cze 09)\",\"2009(cze 10)\",\"2010(cze 11)\",\"2011(cze 12)\",\"2012(cze 13)\",\"2013(cze 14)\",\"2014(cze 15)\",\"2015(cze 16)\",\"2016(cze 17)\",\"2017(cze 18)\",\"2018(cze 19)\",\"2019(cze 20)\",\"2020(cze 21)\",\"O4K(wrz 21)*\"],\"y\":[0.0,59.72,29.43,-60.48,8.85,49.91,36.82,-39.01,33.54,11.16,-1.23,19.4,-3.68,6.52,17.42,51.53,78.98],\"type\":\"scatter\",\"xaxis\":\"x\",\"yaxis\":\"y2\"}],                        {\"template\":{\"data\":{\"bar\":[{\"error_x\":{\"color\":\"#2a3f5f\"},\"error_y\":{\"color\":\"#2a3f5f\"},\"marker\":{\"line\":{\"color\":\"#E5ECF6\",\"width\":0.5},\"pattern\":{\"fillmode\":\"overlay\",\"size\":10,\"solidity\":0.2}},\"type\":\"bar\"}],\"barpolar\":[{\"marker\":{\"line\":{\"color\":\"#E5ECF6\",\"width\":0.5},\"pattern\":{\"fillmode\":\"overlay\",\"size\":10,\"solidity\":0.2}},\"type\":\"barpolar\"}],\"carpet\":[{\"aaxis\":{\"endlinecolor\":\"#2a3f5f\",\"gridcolor\":\"white\",\"linecolor\":\"white\",\"minorgridcolor\":\"white\",\"startlinecolor\":\"#2a3f5f\"},\"baxis\":{\"endlinecolor\":\"#2a3f5f\",\"gridcolor\":\"white\",\"linecolor\":\"white\",\"minorgridcolor\":\"white\",\"startlinecolor\":\"#2a3f5f\"},\"type\":\"carpet\"}],\"choropleth\":[{\"colorbar\":{\"outlinewidth\":0,\"ticks\":\"\"},\"type\":\"choropleth\"}],\"contour\":[{\"colorbar\":{\"outlinewidth\":0,\"ticks\":\"\"},\"colorscale\":[[0.0,\"#0d0887\"],[0.1111111111111111,\"#46039f\"],[0.2222222222222222,\"#7201a8\"],[0.3333333333333333,\"#9c179e\"],[0.4444444444444444,\"#bd3786\"],[0.5555555555555556,\"#d8576b\"],[0.6666666666666666,\"#ed7953\"],[0.7777777777777778,\"#fb9f3a\"],[0.8888888888888888,\"#fdca26\"],[1.0,\"#f0f921\"]],\"type\":\"contour\"}],\"contourcarpet\":[{\"colorbar\":{\"outlinewidth\":0,\"ticks\":\"\"},\"type\":\"contourcarpet\"}],\"heatmap\":[{\"colorbar\":{\"outlinewidth\":0,\"ticks\":\"\"},\"colorscale\":[[0.0,\"#0d0887\"],[0.1111111111111111,\"#46039f\"],[0.2222222222222222,\"#7201a8\"],[0.3333333333333333,\"#9c179e\"],[0.4444444444444444,\"#bd3786\"],[0.5555555555555556,\"#d8576b\"],[0.6666666666666666,\"#ed7953\"],[0.7777777777777778,\"#fb9f3a\"],[0.8888888888888888,\"#fdca26\"],[1.0,\"#f0f921\"]],\"type\":\"heatmap\"}],\"heatmapgl\":[{\"colorbar\":{\"outlinewidth\":0,\"ticks\":\"\"},\"colorscale\":[[0.0,\"#0d0887\"],[0.1111111111111111,\"#46039f\"],[0.2222222222222222,\"#7201a8\"],[0.3333333333333333,\"#9c179e\"],[0.4444444444444444,\"#bd3786\"],[0.5555555555555556,\"#d8576b\"],[0.6666666666666666,\"#ed7953\"],[0.7777777777777778,\"#fb9f3a\"],[0.8888888888888888,\"#fdca26\"],[1.0,\"#f0f921\"]],\"type\":\"heatmapgl\"}],\"histogram\":[{\"marker\":{\"pattern\":{\"fillmode\":\"overlay\",\"size\":10,\"solidity\":0.2}},\"type\":\"histogram\"}],\"histogram2d\":[{\"colorbar\":{\"outlinewidth\":0,\"ticks\":\"\"},\"colorscale\":[[0.0,\"#0d0887\"],[0.1111111111111111,\"#46039f\"],[0.2222222222222222,\"#7201a8\"],[0.3333333333333333,\"#9c179e\"],[0.4444444444444444,\"#bd3786\"],[0.5555555555555556,\"#d8576b\"],[0.6666666666666666,\"#ed7953\"],[0.7777777777777778,\"#fb9f3a\"],[0.8888888888888888,\"#fdca26\"],[1.0,\"#f0f921\"]],\"type\":\"histogram2d\"}],\"histogram2dcontour\":[{\"colorbar\":{\"outlinewidth\":0,\"ticks\":\"\"},\"colorscale\":[[0.0,\"#0d0887\"],[0.1111111111111111,\"#46039f\"],[0.2222222222222222,\"#7201a8\"],[0.3333333333333333,\"#9c179e\"],[0.4444444444444444,\"#bd3786\"],[0.5555555555555556,\"#d8576b\"],[0.6666666666666666,\"#ed7953\"],[0.7777777777777778,\"#fb9f3a\"],[0.8888888888888888,\"#fdca26\"],[1.0,\"#f0f921\"]],\"type\":\"histogram2dcontour\"}],\"mesh3d\":[{\"colorbar\":{\"outlinewidth\":0,\"ticks\":\"\"},\"type\":\"mesh3d\"}],\"parcoords\":[{\"line\":{\"colorbar\":{\"outlinewidth\":0,\"ticks\":\"\"}},\"type\":\"parcoords\"}],\"pie\":[{\"automargin\":true,\"type\":\"pie\"}],\"scatter\":[{\"marker\":{\"colorbar\":{\"outlinewidth\":0,\"ticks\":\"\"}},\"type\":\"scatter\"}],\"scatter3d\":[{\"line\":{\"colorbar\":{\"outlinewidth\":0,\"ticks\":\"\"}},\"marker\":{\"colorbar\":{\"outlinewidth\":0,\"ticks\":\"\"}},\"type\":\"scatter3d\"}],\"scattercarpet\":[{\"marker\":{\"colorbar\":{\"outlinewidth\":0,\"ticks\":\"\"}},\"type\":\"scattercarpet\"}],\"scattergeo\":[{\"marker\":{\"colorbar\":{\"outlinewidth\":0,\"ticks\":\"\"}},\"type\":\"scattergeo\"}],\"scattergl\":[{\"marker\":{\"colorbar\":{\"outlinewidth\":0,\"ticks\":\"\"}},\"type\":\"scattergl\"}],\"scattermapbox\":[{\"marker\":{\"colorbar\":{\"outlinewidth\":0,\"ticks\":\"\"}},\"type\":\"scattermapbox\"}],\"scatterpolar\":[{\"marker\":{\"colorbar\":{\"outlinewidth\":0,\"ticks\":\"\"}},\"type\":\"scatterpolar\"}],\"scatterpolargl\":[{\"marker\":{\"colorbar\":{\"outlinewidth\":0,\"ticks\":\"\"}},\"type\":\"scatterpolargl\"}],\"scatterternary\":[{\"marker\":{\"colorbar\":{\"outlinewidth\":0,\"ticks\":\"\"}},\"type\":\"scatterternary\"}],\"surface\":[{\"colorbar\":{\"outlinewidth\":0,\"ticks\":\"\"},\"colorscale\":[[0.0,\"#0d0887\"],[0.1111111111111111,\"#46039f\"],[0.2222222222222222,\"#7201a8\"],[0.3333333333333333,\"#9c179e\"],[0.4444444444444444,\"#bd3786\"],[0.5555555555555556,\"#d8576b\"],[0.6666666666666666,\"#ed7953\"],[0.7777777777777778,\"#fb9f3a\"],[0.8888888888888888,\"#fdca26\"],[1.0,\"#f0f921\"]],\"type\":\"surface\"}],\"table\":[{\"cells\":{\"fill\":{\"color\":\"#EBF0F8\"},\"line\":{\"color\":\"white\"}},\"header\":{\"fill\":{\"color\":\"#C8D4E3\"},\"line\":{\"color\":\"white\"}},\"type\":\"table\"}]},\"layout\":{\"annotationdefaults\":{\"arrowcolor\":\"#2a3f5f\",\"arrowhead\":0,\"arrowwidth\":1},\"autotypenumbers\":\"strict\",\"coloraxis\":{\"colorbar\":{\"outlinewidth\":0,\"ticks\":\"\"}},\"colorscale\":{\"diverging\":[[0,\"#8e0152\"],[0.1,\"#c51b7d\"],[0.2,\"#de77ae\"],[0.3,\"#f1b6da\"],[0.4,\"#fde0ef\"],[0.5,\"#f7f7f7\"],[0.6,\"#e6f5d0\"],[0.7,\"#b8e186\"],[0.8,\"#7fbc41\"],[0.9,\"#4d9221\"],[1,\"#276419\"]],\"sequential\":[[0.0,\"#0d0887\"],[0.1111111111111111,\"#46039f\"],[0.2222222222222222,\"#7201a8\"],[0.3333333333333333,\"#9c179e\"],[0.4444444444444444,\"#bd3786\"],[0.5555555555555556,\"#d8576b\"],[0.6666666666666666,\"#ed7953\"],[0.7777777777777778,\"#fb9f3a\"],[0.8888888888888888,\"#fdca26\"],[1.0,\"#f0f921\"]],\"sequentialminus\":[[0.0,\"#0d0887\"],[0.1111111111111111,\"#46039f\"],[0.2222222222222222,\"#7201a8\"],[0.3333333333333333,\"#9c179e\"],[0.4444444444444444,\"#bd3786\"],[0.5555555555555556,\"#d8576b\"],[0.6666666666666666,\"#ed7953\"],[0.7777777777777778,\"#fb9f3a\"],[0.8888888888888888,\"#fdca26\"],[1.0,\"#f0f921\"]]},\"colorway\":[\"#636efa\",\"#EF553B\",\"#00cc96\",\"#ab63fa\",\"#FFA15A\",\"#19d3f3\",\"#FF6692\",\"#B6E880\",\"#FF97FF\",\"#FECB52\"],\"font\":{\"color\":\"#2a3f5f\"},\"geo\":{\"bgcolor\":\"white\",\"lakecolor\":\"white\",\"landcolor\":\"#E5ECF6\",\"showlakes\":true,\"showland\":true,\"subunitcolor\":\"white\"},\"hoverlabel\":{\"align\":\"left\"},\"hovermode\":\"closest\",\"mapbox\":{\"style\":\"light\"},\"paper_bgcolor\":\"white\",\"plot_bgcolor\":\"#E5ECF6\",\"polar\":{\"angularaxis\":{\"gridcolor\":\"white\",\"linecolor\":\"white\",\"ticks\":\"\"},\"bgcolor\":\"#E5ECF6\",\"radialaxis\":{\"gridcolor\":\"white\",\"linecolor\":\"white\",\"ticks\":\"\"}},\"scene\":{\"xaxis\":{\"backgroundcolor\":\"#E5ECF6\",\"gridcolor\":\"white\",\"gridwidth\":2,\"linecolor\":\"white\",\"showbackground\":true,\"ticks\":\"\",\"zerolinecolor\":\"white\"},\"yaxis\":{\"backgroundcolor\":\"#E5ECF6\",\"gridcolor\":\"white\",\"gridwidth\":2,\"linecolor\":\"white\",\"showbackground\":true,\"ticks\":\"\",\"zerolinecolor\":\"white\"},\"zaxis\":{\"backgroundcolor\":\"#E5ECF6\",\"gridcolor\":\"white\",\"gridwidth\":2,\"linecolor\":\"white\",\"showbackground\":true,\"ticks\":\"\",\"zerolinecolor\":\"white\"}},\"shapedefaults\":{\"line\":{\"color\":\"#2a3f5f\"}},\"ternary\":{\"aaxis\":{\"gridcolor\":\"white\",\"linecolor\":\"white\",\"ticks\":\"\"},\"baxis\":{\"gridcolor\":\"white\",\"linecolor\":\"white\",\"ticks\":\"\"},\"bgcolor\":\"#E5ECF6\",\"caxis\":{\"gridcolor\":\"white\",\"linecolor\":\"white\",\"ticks\":\"\"}},\"title\":{\"x\":0.05},\"xaxis\":{\"automargin\":true,\"gridcolor\":\"white\",\"linecolor\":\"white\",\"ticks\":\"\",\"title\":{\"standoff\":15},\"zerolinecolor\":\"white\",\"zerolinewidth\":2},\"yaxis\":{\"automargin\":true,\"gridcolor\":\"white\",\"linecolor\":\"white\",\"ticks\":\"\",\"title\":{\"standoff\":15},\"zerolinecolor\":\"white\",\"zerolinewidth\":2}}},\"xaxis\":{\"anchor\":\"y\",\"domain\":[0.0,0.94],\"tickfont\":{\"size\":14}},\"yaxis\":{\"anchor\":\"x\",\"domain\":[0.0,1.0],\"title\":{\"text\":\"PLN\",\"font\":{\"size\":16}},\"tickfont\":{\"size\":14}},\"yaxis2\":{\"anchor\":\"x\",\"overlaying\":\"y\",\"side\":\"right\"},\"legend\":{\"x\":0,\"y\":1.0,\"bgcolor\":\"rgba(255, 255, 255, 0)\",\"bordercolor\":\"rgba(255, 255, 255, 0)\"},\"title\":{\"text\":\"Income net and dynamics\"},\"barmode\":\"group\",\"bargap\":0.15,\"bargroupgap\":0.1},                        {\"responsive\": true}                    ).then(function(){\n",
       "                            \n",
       "var gd = document.getElementById('01ba05a3-7753-41d0-a4fd-6b85c6574134');\n",
       "var x = new MutationObserver(function (mutations, observer) {{\n",
       "        var display = window.getComputedStyle(gd).display;\n",
       "        if (!display || display === 'none') {{\n",
       "            console.log([gd, 'removed!']);\n",
       "            Plotly.purge(gd);\n",
       "            observer.disconnect();\n",
       "        }}\n",
       "}});\n",
       "\n",
       "// Listen for the removal of the full notebook cells\n",
       "var notebookContainer = gd.closest('#notebook-container');\n",
       "if (notebookContainer) {{\n",
       "    x.observe(notebookContainer, {childList: true});\n",
       "}}\n",
       "\n",
       "// Listen for the clearing of the current output cell\n",
       "var outputEl = gd.closest('.output');\n",
       "if (outputEl) {{\n",
       "    x.observe(outputEl, {childList: true});\n",
       "}}\n",
       "\n",
       "                        })                };                });            </script>        </div>"
      ]
     },
     "metadata": {},
     "output_type": "display_data"
    },
    {
     "data": {
      "application/vnd.plotly.v1+json": {
       "config": {
        "plotlyServerURL": "https://plot.ly"
       },
       "data": [
        {
         "name": "EBIT income",
         "type": "bar",
         "x": [
          "2005(gru 05)",
          "2006(gru 06)",
          "2007(cze 08)",
          "2008(cze 09)",
          "2009(cze 10)",
          "2010(cze 11)",
          "2011(cze 12)",
          "2012(cze 13)",
          "2013(cze 14)",
          "2014(cze 15)",
          "2015(cze 16)",
          "2016(cze 17)",
          "2017(cze 18)",
          "2018(cze 19)",
          "2019(cze 20)",
          "2020(cze 21)",
          "O4K(wrz 21)*"
         ],
         "xaxis": "x",
         "y": [
          10463,
          15939,
          35412,
          76509,
          58276,
          61411,
          81314,
          64155,
          85306,
          100151,
          98634,
          101753,
          98030,
          85240,
          95542,
          165835,
          172515
         ],
         "yaxis": "y"
        },
        {
         "name": "y/y income EBIT dynamic [%]",
         "type": "scatter",
         "x": [
          "2005(gru 05)",
          "2006(gru 06)",
          "2007(cze 08)",
          "2008(cze 09)",
          "2009(cze 10)",
          "2010(cze 11)",
          "2011(cze 12)",
          "2012(cze 13)",
          "2013(cze 14)",
          "2014(cze 15)",
          "2015(cze 16)",
          "2016(cze 17)",
          "2017(cze 18)",
          "2018(cze 19)",
          "2019(cze 20)",
          "2020(cze 21)",
          "O4K(wrz 21)*"
         ],
         "xaxis": "x",
         "y": [
          0,
          52.34,
          122.17,
          116.05,
          -23.83,
          5.38,
          32.41,
          -21.1,
          32.97,
          17.4,
          -1.51,
          3.16,
          -3.66,
          -13.05,
          12.09,
          73.57,
          65
         ],
         "yaxis": "y2"
        },
        {
         "name": "y/y income EBIT sector dynamic [%]",
         "type": "scatter",
         "x": [
          "2005(gru 05)",
          "2006(gru 06)",
          "2007(cze 08)",
          "2008(cze 09)",
          "2009(cze 10)",
          "2010(cze 11)",
          "2011(cze 12)",
          "2012(cze 13)",
          "2013(cze 14)",
          "2014(cze 15)",
          "2015(cze 16)",
          "2016(cze 17)",
          "2017(cze 18)",
          "2018(cze 19)",
          "2019(cze 20)",
          "2020(cze 21)",
          "O4K(wrz 21)*"
         ],
         "xaxis": "x",
         "y": [
          0,
          55.75,
          34.42,
          -17.76,
          -27.72,
          14.26,
          22.92,
          -32.23,
          14.44,
          -10.87,
          2.54,
          26.16,
          -0.61,
          5.98,
          12.86,
          41.26,
          63.6
         ],
         "yaxis": "y2"
        }
       ],
       "layout": {
        "bargap": 0.15,
        "bargroupgap": 0.1,
        "barmode": "group",
        "legend": {
         "bgcolor": "rgba(255, 255, 255, 0)",
         "bordercolor": "rgba(255, 255, 255, 0)",
         "x": 0,
         "y": 1
        },
        "template": {
         "data": {
          "bar": [
           {
            "error_x": {
             "color": "#2a3f5f"
            },
            "error_y": {
             "color": "#2a3f5f"
            },
            "marker": {
             "line": {
              "color": "#E5ECF6",
              "width": 0.5
             },
             "pattern": {
              "fillmode": "overlay",
              "size": 10,
              "solidity": 0.2
             }
            },
            "type": "bar"
           }
          ],
          "barpolar": [
           {
            "marker": {
             "line": {
              "color": "#E5ECF6",
              "width": 0.5
             },
             "pattern": {
              "fillmode": "overlay",
              "size": 10,
              "solidity": 0.2
             }
            },
            "type": "barpolar"
           }
          ],
          "carpet": [
           {
            "aaxis": {
             "endlinecolor": "#2a3f5f",
             "gridcolor": "white",
             "linecolor": "white",
             "minorgridcolor": "white",
             "startlinecolor": "#2a3f5f"
            },
            "baxis": {
             "endlinecolor": "#2a3f5f",
             "gridcolor": "white",
             "linecolor": "white",
             "minorgridcolor": "white",
             "startlinecolor": "#2a3f5f"
            },
            "type": "carpet"
           }
          ],
          "choropleth": [
           {
            "colorbar": {
             "outlinewidth": 0,
             "ticks": ""
            },
            "type": "choropleth"
           }
          ],
          "contour": [
           {
            "colorbar": {
             "outlinewidth": 0,
             "ticks": ""
            },
            "colorscale": [
             [
              0,
              "#0d0887"
             ],
             [
              0.1111111111111111,
              "#46039f"
             ],
             [
              0.2222222222222222,
              "#7201a8"
             ],
             [
              0.3333333333333333,
              "#9c179e"
             ],
             [
              0.4444444444444444,
              "#bd3786"
             ],
             [
              0.5555555555555556,
              "#d8576b"
             ],
             [
              0.6666666666666666,
              "#ed7953"
             ],
             [
              0.7777777777777778,
              "#fb9f3a"
             ],
             [
              0.8888888888888888,
              "#fdca26"
             ],
             [
              1,
              "#f0f921"
             ]
            ],
            "type": "contour"
           }
          ],
          "contourcarpet": [
           {
            "colorbar": {
             "outlinewidth": 0,
             "ticks": ""
            },
            "type": "contourcarpet"
           }
          ],
          "heatmap": [
           {
            "colorbar": {
             "outlinewidth": 0,
             "ticks": ""
            },
            "colorscale": [
             [
              0,
              "#0d0887"
             ],
             [
              0.1111111111111111,
              "#46039f"
             ],
             [
              0.2222222222222222,
              "#7201a8"
             ],
             [
              0.3333333333333333,
              "#9c179e"
             ],
             [
              0.4444444444444444,
              "#bd3786"
             ],
             [
              0.5555555555555556,
              "#d8576b"
             ],
             [
              0.6666666666666666,
              "#ed7953"
             ],
             [
              0.7777777777777778,
              "#fb9f3a"
             ],
             [
              0.8888888888888888,
              "#fdca26"
             ],
             [
              1,
              "#f0f921"
             ]
            ],
            "type": "heatmap"
           }
          ],
          "heatmapgl": [
           {
            "colorbar": {
             "outlinewidth": 0,
             "ticks": ""
            },
            "colorscale": [
             [
              0,
              "#0d0887"
             ],
             [
              0.1111111111111111,
              "#46039f"
             ],
             [
              0.2222222222222222,
              "#7201a8"
             ],
             [
              0.3333333333333333,
              "#9c179e"
             ],
             [
              0.4444444444444444,
              "#bd3786"
             ],
             [
              0.5555555555555556,
              "#d8576b"
             ],
             [
              0.6666666666666666,
              "#ed7953"
             ],
             [
              0.7777777777777778,
              "#fb9f3a"
             ],
             [
              0.8888888888888888,
              "#fdca26"
             ],
             [
              1,
              "#f0f921"
             ]
            ],
            "type": "heatmapgl"
           }
          ],
          "histogram": [
           {
            "marker": {
             "pattern": {
              "fillmode": "overlay",
              "size": 10,
              "solidity": 0.2
             }
            },
            "type": "histogram"
           }
          ],
          "histogram2d": [
           {
            "colorbar": {
             "outlinewidth": 0,
             "ticks": ""
            },
            "colorscale": [
             [
              0,
              "#0d0887"
             ],
             [
              0.1111111111111111,
              "#46039f"
             ],
             [
              0.2222222222222222,
              "#7201a8"
             ],
             [
              0.3333333333333333,
              "#9c179e"
             ],
             [
              0.4444444444444444,
              "#bd3786"
             ],
             [
              0.5555555555555556,
              "#d8576b"
             ],
             [
              0.6666666666666666,
              "#ed7953"
             ],
             [
              0.7777777777777778,
              "#fb9f3a"
             ],
             [
              0.8888888888888888,
              "#fdca26"
             ],
             [
              1,
              "#f0f921"
             ]
            ],
            "type": "histogram2d"
           }
          ],
          "histogram2dcontour": [
           {
            "colorbar": {
             "outlinewidth": 0,
             "ticks": ""
            },
            "colorscale": [
             [
              0,
              "#0d0887"
             ],
             [
              0.1111111111111111,
              "#46039f"
             ],
             [
              0.2222222222222222,
              "#7201a8"
             ],
             [
              0.3333333333333333,
              "#9c179e"
             ],
             [
              0.4444444444444444,
              "#bd3786"
             ],
             [
              0.5555555555555556,
              "#d8576b"
             ],
             [
              0.6666666666666666,
              "#ed7953"
             ],
             [
              0.7777777777777778,
              "#fb9f3a"
             ],
             [
              0.8888888888888888,
              "#fdca26"
             ],
             [
              1,
              "#f0f921"
             ]
            ],
            "type": "histogram2dcontour"
           }
          ],
          "mesh3d": [
           {
            "colorbar": {
             "outlinewidth": 0,
             "ticks": ""
            },
            "type": "mesh3d"
           }
          ],
          "parcoords": [
           {
            "line": {
             "colorbar": {
              "outlinewidth": 0,
              "ticks": ""
             }
            },
            "type": "parcoords"
           }
          ],
          "pie": [
           {
            "automargin": true,
            "type": "pie"
           }
          ],
          "scatter": [
           {
            "marker": {
             "colorbar": {
              "outlinewidth": 0,
              "ticks": ""
             }
            },
            "type": "scatter"
           }
          ],
          "scatter3d": [
           {
            "line": {
             "colorbar": {
              "outlinewidth": 0,
              "ticks": ""
             }
            },
            "marker": {
             "colorbar": {
              "outlinewidth": 0,
              "ticks": ""
             }
            },
            "type": "scatter3d"
           }
          ],
          "scattercarpet": [
           {
            "marker": {
             "colorbar": {
              "outlinewidth": 0,
              "ticks": ""
             }
            },
            "type": "scattercarpet"
           }
          ],
          "scattergeo": [
           {
            "marker": {
             "colorbar": {
              "outlinewidth": 0,
              "ticks": ""
             }
            },
            "type": "scattergeo"
           }
          ],
          "scattergl": [
           {
            "marker": {
             "colorbar": {
              "outlinewidth": 0,
              "ticks": ""
             }
            },
            "type": "scattergl"
           }
          ],
          "scattermapbox": [
           {
            "marker": {
             "colorbar": {
              "outlinewidth": 0,
              "ticks": ""
             }
            },
            "type": "scattermapbox"
           }
          ],
          "scatterpolar": [
           {
            "marker": {
             "colorbar": {
              "outlinewidth": 0,
              "ticks": ""
             }
            },
            "type": "scatterpolar"
           }
          ],
          "scatterpolargl": [
           {
            "marker": {
             "colorbar": {
              "outlinewidth": 0,
              "ticks": ""
             }
            },
            "type": "scatterpolargl"
           }
          ],
          "scatterternary": [
           {
            "marker": {
             "colorbar": {
              "outlinewidth": 0,
              "ticks": ""
             }
            },
            "type": "scatterternary"
           }
          ],
          "surface": [
           {
            "colorbar": {
             "outlinewidth": 0,
             "ticks": ""
            },
            "colorscale": [
             [
              0,
              "#0d0887"
             ],
             [
              0.1111111111111111,
              "#46039f"
             ],
             [
              0.2222222222222222,
              "#7201a8"
             ],
             [
              0.3333333333333333,
              "#9c179e"
             ],
             [
              0.4444444444444444,
              "#bd3786"
             ],
             [
              0.5555555555555556,
              "#d8576b"
             ],
             [
              0.6666666666666666,
              "#ed7953"
             ],
             [
              0.7777777777777778,
              "#fb9f3a"
             ],
             [
              0.8888888888888888,
              "#fdca26"
             ],
             [
              1,
              "#f0f921"
             ]
            ],
            "type": "surface"
           }
          ],
          "table": [
           {
            "cells": {
             "fill": {
              "color": "#EBF0F8"
             },
             "line": {
              "color": "white"
             }
            },
            "header": {
             "fill": {
              "color": "#C8D4E3"
             },
             "line": {
              "color": "white"
             }
            },
            "type": "table"
           }
          ]
         },
         "layout": {
          "annotationdefaults": {
           "arrowcolor": "#2a3f5f",
           "arrowhead": 0,
           "arrowwidth": 1
          },
          "autotypenumbers": "strict",
          "coloraxis": {
           "colorbar": {
            "outlinewidth": 0,
            "ticks": ""
           }
          },
          "colorscale": {
           "diverging": [
            [
             0,
             "#8e0152"
            ],
            [
             0.1,
             "#c51b7d"
            ],
            [
             0.2,
             "#de77ae"
            ],
            [
             0.3,
             "#f1b6da"
            ],
            [
             0.4,
             "#fde0ef"
            ],
            [
             0.5,
             "#f7f7f7"
            ],
            [
             0.6,
             "#e6f5d0"
            ],
            [
             0.7,
             "#b8e186"
            ],
            [
             0.8,
             "#7fbc41"
            ],
            [
             0.9,
             "#4d9221"
            ],
            [
             1,
             "#276419"
            ]
           ],
           "sequential": [
            [
             0,
             "#0d0887"
            ],
            [
             0.1111111111111111,
             "#46039f"
            ],
            [
             0.2222222222222222,
             "#7201a8"
            ],
            [
             0.3333333333333333,
             "#9c179e"
            ],
            [
             0.4444444444444444,
             "#bd3786"
            ],
            [
             0.5555555555555556,
             "#d8576b"
            ],
            [
             0.6666666666666666,
             "#ed7953"
            ],
            [
             0.7777777777777778,
             "#fb9f3a"
            ],
            [
             0.8888888888888888,
             "#fdca26"
            ],
            [
             1,
             "#f0f921"
            ]
           ],
           "sequentialminus": [
            [
             0,
             "#0d0887"
            ],
            [
             0.1111111111111111,
             "#46039f"
            ],
            [
             0.2222222222222222,
             "#7201a8"
            ],
            [
             0.3333333333333333,
             "#9c179e"
            ],
            [
             0.4444444444444444,
             "#bd3786"
            ],
            [
             0.5555555555555556,
             "#d8576b"
            ],
            [
             0.6666666666666666,
             "#ed7953"
            ],
            [
             0.7777777777777778,
             "#fb9f3a"
            ],
            [
             0.8888888888888888,
             "#fdca26"
            ],
            [
             1,
             "#f0f921"
            ]
           ]
          },
          "colorway": [
           "#636efa",
           "#EF553B",
           "#00cc96",
           "#ab63fa",
           "#FFA15A",
           "#19d3f3",
           "#FF6692",
           "#B6E880",
           "#FF97FF",
           "#FECB52"
          ],
          "font": {
           "color": "#2a3f5f"
          },
          "geo": {
           "bgcolor": "white",
           "lakecolor": "white",
           "landcolor": "#E5ECF6",
           "showlakes": true,
           "showland": true,
           "subunitcolor": "white"
          },
          "hoverlabel": {
           "align": "left"
          },
          "hovermode": "closest",
          "mapbox": {
           "style": "light"
          },
          "paper_bgcolor": "white",
          "plot_bgcolor": "#E5ECF6",
          "polar": {
           "angularaxis": {
            "gridcolor": "white",
            "linecolor": "white",
            "ticks": ""
           },
           "bgcolor": "#E5ECF6",
           "radialaxis": {
            "gridcolor": "white",
            "linecolor": "white",
            "ticks": ""
           }
          },
          "scene": {
           "xaxis": {
            "backgroundcolor": "#E5ECF6",
            "gridcolor": "white",
            "gridwidth": 2,
            "linecolor": "white",
            "showbackground": true,
            "ticks": "",
            "zerolinecolor": "white"
           },
           "yaxis": {
            "backgroundcolor": "#E5ECF6",
            "gridcolor": "white",
            "gridwidth": 2,
            "linecolor": "white",
            "showbackground": true,
            "ticks": "",
            "zerolinecolor": "white"
           },
           "zaxis": {
            "backgroundcolor": "#E5ECF6",
            "gridcolor": "white",
            "gridwidth": 2,
            "linecolor": "white",
            "showbackground": true,
            "ticks": "",
            "zerolinecolor": "white"
           }
          },
          "shapedefaults": {
           "line": {
            "color": "#2a3f5f"
           }
          },
          "ternary": {
           "aaxis": {
            "gridcolor": "white",
            "linecolor": "white",
            "ticks": ""
           },
           "baxis": {
            "gridcolor": "white",
            "linecolor": "white",
            "ticks": ""
           },
           "bgcolor": "#E5ECF6",
           "caxis": {
            "gridcolor": "white",
            "linecolor": "white",
            "ticks": ""
           }
          },
          "title": {
           "x": 0.05
          },
          "xaxis": {
           "automargin": true,
           "gridcolor": "white",
           "linecolor": "white",
           "ticks": "",
           "title": {
            "standoff": 15
           },
           "zerolinecolor": "white",
           "zerolinewidth": 2
          },
          "yaxis": {
           "automargin": true,
           "gridcolor": "white",
           "linecolor": "white",
           "ticks": "",
           "title": {
            "standoff": 15
           },
           "zerolinecolor": "white",
           "zerolinewidth": 2
          }
         }
        },
        "title": {
         "text": "EBIT income and dynamics"
        },
        "xaxis": {
         "anchor": "y",
         "domain": [
          0,
          0.94
         ],
         "tickfont": {
          "size": 14
         }
        },
        "yaxis": {
         "anchor": "x",
         "domain": [
          0,
          1
         ],
         "tickfont": {
          "size": 14
         },
         "title": {
          "font": {
           "size": 16
          },
          "text": "PLN"
         }
        },
        "yaxis2": {
         "anchor": "x",
         "overlaying": "y",
         "side": "right"
        }
       }
      },
      "text/html": [
       "<div>                            <div id=\"fca44408-f922-4906-aa68-55f2dacfd2b5\" class=\"plotly-graph-div\" style=\"height:525px; width:100%;\"></div>            <script type=\"text/javascript\">                require([\"plotly\"], function(Plotly) {                    window.PLOTLYENV=window.PLOTLYENV || {};                                    if (document.getElementById(\"fca44408-f922-4906-aa68-55f2dacfd2b5\")) {                    Plotly.newPlot(                        \"fca44408-f922-4906-aa68-55f2dacfd2b5\",                        [{\"name\":\"EBIT income\",\"x\":[\"2005(gru 05)\",\"2006(gru 06)\",\"2007(cze 08)\",\"2008(cze 09)\",\"2009(cze 10)\",\"2010(cze 11)\",\"2011(cze 12)\",\"2012(cze 13)\",\"2013(cze 14)\",\"2014(cze 15)\",\"2015(cze 16)\",\"2016(cze 17)\",\"2017(cze 18)\",\"2018(cze 19)\",\"2019(cze 20)\",\"2020(cze 21)\",\"O4K(wrz 21)*\"],\"y\":[10463.0,15939.0,35412.0,76509.0,58276.0,61411.0,81314.0,64155.0,85306.0,100151.0,98634.0,101753.0,98030.0,85240.0,95542.0,165835.0,172515.0],\"type\":\"bar\",\"xaxis\":\"x\",\"yaxis\":\"y\"},{\"name\":\"y/y income EBIT dynamic [%]\",\"x\":[\"2005(gru 05)\",\"2006(gru 06)\",\"2007(cze 08)\",\"2008(cze 09)\",\"2009(cze 10)\",\"2010(cze 11)\",\"2011(cze 12)\",\"2012(cze 13)\",\"2013(cze 14)\",\"2014(cze 15)\",\"2015(cze 16)\",\"2016(cze 17)\",\"2017(cze 18)\",\"2018(cze 19)\",\"2019(cze 20)\",\"2020(cze 21)\",\"O4K(wrz 21)*\"],\"y\":[0.0,52.34,122.17,116.05,-23.83,5.38,32.41,-21.1,32.97,17.4,-1.51,3.16,-3.66,-13.05,12.09,73.57,65.0],\"type\":\"scatter\",\"xaxis\":\"x\",\"yaxis\":\"y2\"},{\"name\":\"y/y income EBIT sector dynamic [%]\",\"x\":[\"2005(gru 05)\",\"2006(gru 06)\",\"2007(cze 08)\",\"2008(cze 09)\",\"2009(cze 10)\",\"2010(cze 11)\",\"2011(cze 12)\",\"2012(cze 13)\",\"2013(cze 14)\",\"2014(cze 15)\",\"2015(cze 16)\",\"2016(cze 17)\",\"2017(cze 18)\",\"2018(cze 19)\",\"2019(cze 20)\",\"2020(cze 21)\",\"O4K(wrz 21)*\"],\"y\":[0.0,55.75,34.42,-17.76,-27.72,14.26,22.92,-32.23,14.44,-10.87,2.54,26.16,-0.61,5.98,12.86,41.26,63.6],\"type\":\"scatter\",\"xaxis\":\"x\",\"yaxis\":\"y2\"}],                        {\"template\":{\"data\":{\"bar\":[{\"error_x\":{\"color\":\"#2a3f5f\"},\"error_y\":{\"color\":\"#2a3f5f\"},\"marker\":{\"line\":{\"color\":\"#E5ECF6\",\"width\":0.5},\"pattern\":{\"fillmode\":\"overlay\",\"size\":10,\"solidity\":0.2}},\"type\":\"bar\"}],\"barpolar\":[{\"marker\":{\"line\":{\"color\":\"#E5ECF6\",\"width\":0.5},\"pattern\":{\"fillmode\":\"overlay\",\"size\":10,\"solidity\":0.2}},\"type\":\"barpolar\"}],\"carpet\":[{\"aaxis\":{\"endlinecolor\":\"#2a3f5f\",\"gridcolor\":\"white\",\"linecolor\":\"white\",\"minorgridcolor\":\"white\",\"startlinecolor\":\"#2a3f5f\"},\"baxis\":{\"endlinecolor\":\"#2a3f5f\",\"gridcolor\":\"white\",\"linecolor\":\"white\",\"minorgridcolor\":\"white\",\"startlinecolor\":\"#2a3f5f\"},\"type\":\"carpet\"}],\"choropleth\":[{\"colorbar\":{\"outlinewidth\":0,\"ticks\":\"\"},\"type\":\"choropleth\"}],\"contour\":[{\"colorbar\":{\"outlinewidth\":0,\"ticks\":\"\"},\"colorscale\":[[0.0,\"#0d0887\"],[0.1111111111111111,\"#46039f\"],[0.2222222222222222,\"#7201a8\"],[0.3333333333333333,\"#9c179e\"],[0.4444444444444444,\"#bd3786\"],[0.5555555555555556,\"#d8576b\"],[0.6666666666666666,\"#ed7953\"],[0.7777777777777778,\"#fb9f3a\"],[0.8888888888888888,\"#fdca26\"],[1.0,\"#f0f921\"]],\"type\":\"contour\"}],\"contourcarpet\":[{\"colorbar\":{\"outlinewidth\":0,\"ticks\":\"\"},\"type\":\"contourcarpet\"}],\"heatmap\":[{\"colorbar\":{\"outlinewidth\":0,\"ticks\":\"\"},\"colorscale\":[[0.0,\"#0d0887\"],[0.1111111111111111,\"#46039f\"],[0.2222222222222222,\"#7201a8\"],[0.3333333333333333,\"#9c179e\"],[0.4444444444444444,\"#bd3786\"],[0.5555555555555556,\"#d8576b\"],[0.6666666666666666,\"#ed7953\"],[0.7777777777777778,\"#fb9f3a\"],[0.8888888888888888,\"#fdca26\"],[1.0,\"#f0f921\"]],\"type\":\"heatmap\"}],\"heatmapgl\":[{\"colorbar\":{\"outlinewidth\":0,\"ticks\":\"\"},\"colorscale\":[[0.0,\"#0d0887\"],[0.1111111111111111,\"#46039f\"],[0.2222222222222222,\"#7201a8\"],[0.3333333333333333,\"#9c179e\"],[0.4444444444444444,\"#bd3786\"],[0.5555555555555556,\"#d8576b\"],[0.6666666666666666,\"#ed7953\"],[0.7777777777777778,\"#fb9f3a\"],[0.8888888888888888,\"#fdca26\"],[1.0,\"#f0f921\"]],\"type\":\"heatmapgl\"}],\"histogram\":[{\"marker\":{\"pattern\":{\"fillmode\":\"overlay\",\"size\":10,\"solidity\":0.2}},\"type\":\"histogram\"}],\"histogram2d\":[{\"colorbar\":{\"outlinewidth\":0,\"ticks\":\"\"},\"colorscale\":[[0.0,\"#0d0887\"],[0.1111111111111111,\"#46039f\"],[0.2222222222222222,\"#7201a8\"],[0.3333333333333333,\"#9c179e\"],[0.4444444444444444,\"#bd3786\"],[0.5555555555555556,\"#d8576b\"],[0.6666666666666666,\"#ed7953\"],[0.7777777777777778,\"#fb9f3a\"],[0.8888888888888888,\"#fdca26\"],[1.0,\"#f0f921\"]],\"type\":\"histogram2d\"}],\"histogram2dcontour\":[{\"colorbar\":{\"outlinewidth\":0,\"ticks\":\"\"},\"colorscale\":[[0.0,\"#0d0887\"],[0.1111111111111111,\"#46039f\"],[0.2222222222222222,\"#7201a8\"],[0.3333333333333333,\"#9c179e\"],[0.4444444444444444,\"#bd3786\"],[0.5555555555555556,\"#d8576b\"],[0.6666666666666666,\"#ed7953\"],[0.7777777777777778,\"#fb9f3a\"],[0.8888888888888888,\"#fdca26\"],[1.0,\"#f0f921\"]],\"type\":\"histogram2dcontour\"}],\"mesh3d\":[{\"colorbar\":{\"outlinewidth\":0,\"ticks\":\"\"},\"type\":\"mesh3d\"}],\"parcoords\":[{\"line\":{\"colorbar\":{\"outlinewidth\":0,\"ticks\":\"\"}},\"type\":\"parcoords\"}],\"pie\":[{\"automargin\":true,\"type\":\"pie\"}],\"scatter\":[{\"marker\":{\"colorbar\":{\"outlinewidth\":0,\"ticks\":\"\"}},\"type\":\"scatter\"}],\"scatter3d\":[{\"line\":{\"colorbar\":{\"outlinewidth\":0,\"ticks\":\"\"}},\"marker\":{\"colorbar\":{\"outlinewidth\":0,\"ticks\":\"\"}},\"type\":\"scatter3d\"}],\"scattercarpet\":[{\"marker\":{\"colorbar\":{\"outlinewidth\":0,\"ticks\":\"\"}},\"type\":\"scattercarpet\"}],\"scattergeo\":[{\"marker\":{\"colorbar\":{\"outlinewidth\":0,\"ticks\":\"\"}},\"type\":\"scattergeo\"}],\"scattergl\":[{\"marker\":{\"colorbar\":{\"outlinewidth\":0,\"ticks\":\"\"}},\"type\":\"scattergl\"}],\"scattermapbox\":[{\"marker\":{\"colorbar\":{\"outlinewidth\":0,\"ticks\":\"\"}},\"type\":\"scattermapbox\"}],\"scatterpolar\":[{\"marker\":{\"colorbar\":{\"outlinewidth\":0,\"ticks\":\"\"}},\"type\":\"scatterpolar\"}],\"scatterpolargl\":[{\"marker\":{\"colorbar\":{\"outlinewidth\":0,\"ticks\":\"\"}},\"type\":\"scatterpolargl\"}],\"scatterternary\":[{\"marker\":{\"colorbar\":{\"outlinewidth\":0,\"ticks\":\"\"}},\"type\":\"scatterternary\"}],\"surface\":[{\"colorbar\":{\"outlinewidth\":0,\"ticks\":\"\"},\"colorscale\":[[0.0,\"#0d0887\"],[0.1111111111111111,\"#46039f\"],[0.2222222222222222,\"#7201a8\"],[0.3333333333333333,\"#9c179e\"],[0.4444444444444444,\"#bd3786\"],[0.5555555555555556,\"#d8576b\"],[0.6666666666666666,\"#ed7953\"],[0.7777777777777778,\"#fb9f3a\"],[0.8888888888888888,\"#fdca26\"],[1.0,\"#f0f921\"]],\"type\":\"surface\"}],\"table\":[{\"cells\":{\"fill\":{\"color\":\"#EBF0F8\"},\"line\":{\"color\":\"white\"}},\"header\":{\"fill\":{\"color\":\"#C8D4E3\"},\"line\":{\"color\":\"white\"}},\"type\":\"table\"}]},\"layout\":{\"annotationdefaults\":{\"arrowcolor\":\"#2a3f5f\",\"arrowhead\":0,\"arrowwidth\":1},\"autotypenumbers\":\"strict\",\"coloraxis\":{\"colorbar\":{\"outlinewidth\":0,\"ticks\":\"\"}},\"colorscale\":{\"diverging\":[[0,\"#8e0152\"],[0.1,\"#c51b7d\"],[0.2,\"#de77ae\"],[0.3,\"#f1b6da\"],[0.4,\"#fde0ef\"],[0.5,\"#f7f7f7\"],[0.6,\"#e6f5d0\"],[0.7,\"#b8e186\"],[0.8,\"#7fbc41\"],[0.9,\"#4d9221\"],[1,\"#276419\"]],\"sequential\":[[0.0,\"#0d0887\"],[0.1111111111111111,\"#46039f\"],[0.2222222222222222,\"#7201a8\"],[0.3333333333333333,\"#9c179e\"],[0.4444444444444444,\"#bd3786\"],[0.5555555555555556,\"#d8576b\"],[0.6666666666666666,\"#ed7953\"],[0.7777777777777778,\"#fb9f3a\"],[0.8888888888888888,\"#fdca26\"],[1.0,\"#f0f921\"]],\"sequentialminus\":[[0.0,\"#0d0887\"],[0.1111111111111111,\"#46039f\"],[0.2222222222222222,\"#7201a8\"],[0.3333333333333333,\"#9c179e\"],[0.4444444444444444,\"#bd3786\"],[0.5555555555555556,\"#d8576b\"],[0.6666666666666666,\"#ed7953\"],[0.7777777777777778,\"#fb9f3a\"],[0.8888888888888888,\"#fdca26\"],[1.0,\"#f0f921\"]]},\"colorway\":[\"#636efa\",\"#EF553B\",\"#00cc96\",\"#ab63fa\",\"#FFA15A\",\"#19d3f3\",\"#FF6692\",\"#B6E880\",\"#FF97FF\",\"#FECB52\"],\"font\":{\"color\":\"#2a3f5f\"},\"geo\":{\"bgcolor\":\"white\",\"lakecolor\":\"white\",\"landcolor\":\"#E5ECF6\",\"showlakes\":true,\"showland\":true,\"subunitcolor\":\"white\"},\"hoverlabel\":{\"align\":\"left\"},\"hovermode\":\"closest\",\"mapbox\":{\"style\":\"light\"},\"paper_bgcolor\":\"white\",\"plot_bgcolor\":\"#E5ECF6\",\"polar\":{\"angularaxis\":{\"gridcolor\":\"white\",\"linecolor\":\"white\",\"ticks\":\"\"},\"bgcolor\":\"#E5ECF6\",\"radialaxis\":{\"gridcolor\":\"white\",\"linecolor\":\"white\",\"ticks\":\"\"}},\"scene\":{\"xaxis\":{\"backgroundcolor\":\"#E5ECF6\",\"gridcolor\":\"white\",\"gridwidth\":2,\"linecolor\":\"white\",\"showbackground\":true,\"ticks\":\"\",\"zerolinecolor\":\"white\"},\"yaxis\":{\"backgroundcolor\":\"#E5ECF6\",\"gridcolor\":\"white\",\"gridwidth\":2,\"linecolor\":\"white\",\"showbackground\":true,\"ticks\":\"\",\"zerolinecolor\":\"white\"},\"zaxis\":{\"backgroundcolor\":\"#E5ECF6\",\"gridcolor\":\"white\",\"gridwidth\":2,\"linecolor\":\"white\",\"showbackground\":true,\"ticks\":\"\",\"zerolinecolor\":\"white\"}},\"shapedefaults\":{\"line\":{\"color\":\"#2a3f5f\"}},\"ternary\":{\"aaxis\":{\"gridcolor\":\"white\",\"linecolor\":\"white\",\"ticks\":\"\"},\"baxis\":{\"gridcolor\":\"white\",\"linecolor\":\"white\",\"ticks\":\"\"},\"bgcolor\":\"#E5ECF6\",\"caxis\":{\"gridcolor\":\"white\",\"linecolor\":\"white\",\"ticks\":\"\"}},\"title\":{\"x\":0.05},\"xaxis\":{\"automargin\":true,\"gridcolor\":\"white\",\"linecolor\":\"white\",\"ticks\":\"\",\"title\":{\"standoff\":15},\"zerolinecolor\":\"white\",\"zerolinewidth\":2},\"yaxis\":{\"automargin\":true,\"gridcolor\":\"white\",\"linecolor\":\"white\",\"ticks\":\"\",\"title\":{\"standoff\":15},\"zerolinecolor\":\"white\",\"zerolinewidth\":2}}},\"xaxis\":{\"anchor\":\"y\",\"domain\":[0.0,0.94],\"tickfont\":{\"size\":14}},\"yaxis\":{\"anchor\":\"x\",\"domain\":[0.0,1.0],\"title\":{\"text\":\"PLN\",\"font\":{\"size\":16}},\"tickfont\":{\"size\":14}},\"yaxis2\":{\"anchor\":\"x\",\"overlaying\":\"y\",\"side\":\"right\"},\"legend\":{\"x\":0,\"y\":1.0,\"bgcolor\":\"rgba(255, 255, 255, 0)\",\"bordercolor\":\"rgba(255, 255, 255, 0)\"},\"title\":{\"text\":\"EBIT income and dynamics\"},\"barmode\":\"group\",\"bargap\":0.15,\"bargroupgap\":0.1},                        {\"responsive\": true}                    ).then(function(){\n",
       "                            \n",
       "var gd = document.getElementById('fca44408-f922-4906-aa68-55f2dacfd2b5');\n",
       "var x = new MutationObserver(function (mutations, observer) {{\n",
       "        var display = window.getComputedStyle(gd).display;\n",
       "        if (!display || display === 'none') {{\n",
       "            console.log([gd, 'removed!']);\n",
       "            Plotly.purge(gd);\n",
       "            observer.disconnect();\n",
       "        }}\n",
       "}});\n",
       "\n",
       "// Listen for the removal of the full notebook cells\n",
       "var notebookContainer = gd.closest('#notebook-container');\n",
       "if (notebookContainer) {{\n",
       "    x.observe(notebookContainer, {childList: true});\n",
       "}}\n",
       "\n",
       "// Listen for the clearing of the current output cell\n",
       "var outputEl = gd.closest('.output');\n",
       "if (outputEl) {{\n",
       "    x.observe(outputEl, {childList: true});\n",
       "}}\n",
       "\n",
       "                        })                };                });            </script>        </div>"
      ]
     },
     "metadata": {},
     "output_type": "display_data"
    }
   ],
   "source": [
    "# Here we will take insight to net and EBIT incomes\n",
    "\n",
    "ebit = soup.find(class_=\"report-table\").find_all(\"tr\", {\"data-field\": \"IncomeEBIT\"})\n",
    "income_net = soup.find(class_=\"report-table\").find_all(\"tr\", {\"data-field\": \"IncomeNetProfit\"})\n",
    "\n",
    "for record in ebit: \n",
    "    ebit_values, ebit_changes = record.find_all(class_=\"value\"), record.find_all(class_=\"changeyy\")    \n",
    "    \n",
    "ebit_values = [value.text.strip() for value in ebit_values]\n",
    "ebit_changes = [change.text.strip() for change in ebit_changes]\n",
    "ebit_changes = [change.split(sep=\"~sektor\") for change in ebit_changes]\n",
    "\n",
    "ebit_dynamic = [change[0] for change in ebit_changes]\n",
    "ebit_sector_dynamic = [change[1] for change in ebit_changes]\n",
    "\n",
    "ebit_dynamic.insert(0, '0')\n",
    "ebit_sector_dynamic.insert(0, '0')\n",
    "\n",
    "for record in income_net: \n",
    "    income_net_values, income_net_changes = record.find_all(class_=\"value\"), record.find_all(class_=\"changeyy\")    \n",
    "    \n",
    "income_net_values = [value.text.strip() for value in income_net_values]\n",
    "income_net_changes = [change.text.strip() for change in income_net_changes]\n",
    "income_net_changes = [change.split(sep=\"~sektor\") for change in income_net_changes]\n",
    "\n",
    "income_net_dynamic = [change[0] for change in income_net_changes]\n",
    "income_net_sector_dynamic = [change[1] for change in income_net_changes]\n",
    "\n",
    "income_net_dynamic.insert(0, '0')\n",
    "income_net_sector_dynamic.insert(0, '0')\n",
    "\n",
    "incomes = zip(years, income_net_values, income_net_dynamic, income_net_sector_dynamic, ebit_values, ebit_dynamic, ebit_sector_dynamic)\n",
    "\n",
    "df = pd.DataFrame(incomes)\n",
    "\n",
    "# Let's replace unnecessary strings\n",
    "\n",
    "df[1] = df[1].str.replace(r'\\s+', '', regex=True)\n",
    "df[2] = df[2].str.replace(r'[\\s+r*\\/%+]', '', regex=True)\n",
    "df[3] = df[3].str.replace(r'[\\s+%+]', '', regex=True)\n",
    "df[4] = df[4].str.replace(r'\\s+', '', regex=True)\n",
    "df[5] = df[5].str.replace(r'[\\s+r*\\/%+]', '', regex=True)\n",
    "df[6] = df[6].str.replace(r'[\\s+%+]', '', regex=True)\n",
    "\n",
    "# And change our data types from object to float\n",
    "\n",
    "df[1] = df[1].astype(float)\n",
    "df[2] = df[2].astype(float)\n",
    "df[3] = df[3].astype(float)\n",
    "df[4] = df[4].astype(float)\n",
    "df[5] = df[5].astype(float)\n",
    "df[6] = df[6].astype(float)\n",
    "\n",
    "# Let's plot diagrams\n",
    "\n",
    "fig = go.Figure()\n",
    "\n",
    "fig.add_trace(go.Bar(x=df[0], y=df[1], name=\"net income\"))\n",
    "fig.add_trace(go.Bar(x=df[0], y=df[4], name=\"EBIT income\"))\n",
    "\n",
    "fig.update_layout(\n",
    "    title='Net and EBIT income',\n",
    "    xaxis_tickfont_size=14,\n",
    "    yaxis=dict(\n",
    "        title='PLN',\n",
    "        titlefont_size=16,\n",
    "        tickfont_size=14,\n",
    "    ),\n",
    "    legend=dict(\n",
    "        x=0,\n",
    "        y=1.0,\n",
    "        bgcolor='rgba(255, 255, 255, 0)',\n",
    "        bordercolor='rgba(255, 255, 255, 0)'\n",
    "    ),\n",
    "    barmode='group',\n",
    "    bargap=0.15,\n",
    "    bargroupgap=0.1\n",
    ")\n",
    "\n",
    "fig2 = make_subplots(specs=[[{\"secondary_y\": True}]])\n",
    "\n",
    "fig2.add_trace(\n",
    "    go.Bar(x=df[0], y=df[1], name=\"net income\"),\n",
    "    secondary_y=False,\n",
    ")\n",
    "\n",
    "fig2.add_trace(\n",
    "    go.Line(x=df[0], y=df[2], name=\"y/y income net dynamic [%]\"),\n",
    "    secondary_y=True,\n",
    ")\n",
    "\n",
    "fig2.add_trace(\n",
    "    go.Line(x=df[0], y=df[3], name=\"y/y income net sector dynamic [%]\"),\n",
    "    secondary_y=True,\n",
    ")\n",
    "\n",
    "fig2.update_layout(\n",
    "    title='Income net and dynamics',\n",
    "    xaxis_tickfont_size=14,\n",
    "    yaxis=dict(\n",
    "        title='PLN',\n",
    "        titlefont_size=16,\n",
    "        tickfont_size=14,\n",
    "    ),\n",
    "    legend=dict(\n",
    "        x=0,\n",
    "        y=1.0,\n",
    "        bgcolor='rgba(255, 255, 255, 0)',\n",
    "        bordercolor='rgba(255, 255, 255, 0)'\n",
    "    ),\n",
    "    barmode='group',\n",
    "    bargap=0.15,\n",
    "    bargroupgap=0.1\n",
    ")\n",
    "\n",
    "fig3 = make_subplots(specs=[[{\"secondary_y\": True}]])\n",
    "\n",
    "fig3.add_trace(\n",
    "    go.Bar(x=df[0], y=df[4], name=\"EBIT income\"),\n",
    "    secondary_y=False,\n",
    ")\n",
    "\n",
    "fig3.add_trace(\n",
    "    go.Line(x=df[0], y=df[5], name=\"y/y income EBIT dynamic [%]\"),\n",
    "    secondary_y=True,\n",
    ")\n",
    "\n",
    "fig3.add_trace(\n",
    "    go.Line(x=df[0], y=df[6], name=\"y/y income EBIT sector dynamic [%]\"),\n",
    "    secondary_y=True,\n",
    ")\n",
    "\n",
    "fig3.update_layout(\n",
    "    title='EBIT income and dynamics',\n",
    "    xaxis_tickfont_size=14,\n",
    "    yaxis=dict(\n",
    "        title='PLN',\n",
    "        titlefont_size=16,\n",
    "        tickfont_size=14,\n",
    "    ),\n",
    "    legend=dict(\n",
    "        x=0,\n",
    "        y=1.0,\n",
    "        bgcolor='rgba(255, 255, 255, 0)',\n",
    "        bordercolor='rgba(255, 255, 255, 0)'\n",
    "    ),\n",
    "    barmode='group',\n",
    "    bargap=0.15,\n",
    "    bargroupgap=0.1\n",
    ")\n",
    "\n",
    "fig.show()\n",
    "fig2.show()\n",
    "fig3.show()"
   ]
  },
  {
   "cell_type": "code",
   "execution_count": 31,
   "metadata": {},
   "outputs": [],
   "source": [
    "# Now let's take insight to return on equity\n",
    "\n",
    "response_company_roe = session.get(f\"https://www.biznesradar.pl/wskazniki-rentownosci/{company}\")\n",
    "soup = BeautifulSoup(response_company_roe.text, 'html.parser')"
   ]
  },
  {
   "cell_type": "code",
   "execution_count": 32,
   "metadata": {},
   "outputs": [
    {
     "data": {
      "application/vnd.plotly.v1+json": {
       "config": {
        "plotlyServerURL": "https://plot.ly"
       },
       "data": [
        {
         "name": "ROE",
         "type": "scatter",
         "x": [
          "2005/Q4",
          "2006/Q4",
          "2007/Q1",
          "2007/Q2",
          "2007/Q3",
          "2007/Q4",
          "2008/Q1",
          "2008/Q2",
          "2008/Q3",
          "2008/Q4",
          "2009/Q1",
          "2009/Q2",
          "2009/Q3",
          "2009/Q4",
          "2010/Q1",
          "2010/Q2",
          "2010/Q3",
          "2010/Q4",
          "2011/Q1",
          "2011/Q2",
          "2011/Q3",
          "2011/Q4",
          "2012/Q1",
          "2012/Q2",
          "2012/Q3",
          "2012/Q4",
          "2013/Q1",
          "2013/Q2",
          "2013/Q3",
          "2013/Q4",
          "2014/Q1",
          "2014/Q2",
          "2014/Q3",
          "2014/Q4",
          "2015/Q1",
          "2015/Q2",
          "2015/Q3",
          "2015/Q4",
          "2016/Q1",
          "2016/Q2",
          "2016/Q3",
          "2016/Q4",
          "2017/Q1",
          "2017/Q2",
          "2017/Q3",
          "2017/Q4",
          "2018/Q1",
          "2018/Q2",
          "2018/Q3",
          "2018/Q4",
          "2019/Q1",
          "2019/Q2",
          "2019/Q3",
          "2019/Q4",
          "2020/Q1",
          "2020/Q2",
          "2020/Q3",
          "2020/Q4",
          "2021/Q1"
         ],
         "y": [
          12.24,
          12.7,
          20.3,
          13.04,
          11.45,
          8.52,
          10.24,
          14.02,
          15.23,
          10.2,
          10.66,
          10.92,
          11.36,
          12.39,
          13.08,
          15.88,
          15.83,
          15.8,
          15.6,
          13.15,
          13.03,
          12.49,
          11.98,
          10.29,
          9.76,
          9.91,
          10.4,
          11.34,
          12.02,
          12.35,
          12.45,
          12.99,
          13.33,
          13.16,
          12.39,
          11.87,
          11.3,
          11.05,
          10.97,
          10.87,
          10.8,
          10.22,
          9.84,
          9.16,
          8.62,
          8.48,
          8.09,
          7.54,
          7.48,
          7.31,
          7.26,
          7.35,
          7.77,
          7.81,
          8.57,
          10.74,
          11.84,
          12.46,
          12.71
         ]
        }
       ],
       "layout": {
        "bargap": 0.15,
        "bargroupgap": 0.1,
        "barmode": "group",
        "legend": {
         "bgcolor": "rgba(255, 255, 255, 0)",
         "bordercolor": "rgba(255, 255, 255, 0)",
         "x": 0,
         "y": 1
        },
        "template": {
         "data": {
          "bar": [
           {
            "error_x": {
             "color": "#2a3f5f"
            },
            "error_y": {
             "color": "#2a3f5f"
            },
            "marker": {
             "line": {
              "color": "#E5ECF6",
              "width": 0.5
             },
             "pattern": {
              "fillmode": "overlay",
              "size": 10,
              "solidity": 0.2
             }
            },
            "type": "bar"
           }
          ],
          "barpolar": [
           {
            "marker": {
             "line": {
              "color": "#E5ECF6",
              "width": 0.5
             },
             "pattern": {
              "fillmode": "overlay",
              "size": 10,
              "solidity": 0.2
             }
            },
            "type": "barpolar"
           }
          ],
          "carpet": [
           {
            "aaxis": {
             "endlinecolor": "#2a3f5f",
             "gridcolor": "white",
             "linecolor": "white",
             "minorgridcolor": "white",
             "startlinecolor": "#2a3f5f"
            },
            "baxis": {
             "endlinecolor": "#2a3f5f",
             "gridcolor": "white",
             "linecolor": "white",
             "minorgridcolor": "white",
             "startlinecolor": "#2a3f5f"
            },
            "type": "carpet"
           }
          ],
          "choropleth": [
           {
            "colorbar": {
             "outlinewidth": 0,
             "ticks": ""
            },
            "type": "choropleth"
           }
          ],
          "contour": [
           {
            "colorbar": {
             "outlinewidth": 0,
             "ticks": ""
            },
            "colorscale": [
             [
              0,
              "#0d0887"
             ],
             [
              0.1111111111111111,
              "#46039f"
             ],
             [
              0.2222222222222222,
              "#7201a8"
             ],
             [
              0.3333333333333333,
              "#9c179e"
             ],
             [
              0.4444444444444444,
              "#bd3786"
             ],
             [
              0.5555555555555556,
              "#d8576b"
             ],
             [
              0.6666666666666666,
              "#ed7953"
             ],
             [
              0.7777777777777778,
              "#fb9f3a"
             ],
             [
              0.8888888888888888,
              "#fdca26"
             ],
             [
              1,
              "#f0f921"
             ]
            ],
            "type": "contour"
           }
          ],
          "contourcarpet": [
           {
            "colorbar": {
             "outlinewidth": 0,
             "ticks": ""
            },
            "type": "contourcarpet"
           }
          ],
          "heatmap": [
           {
            "colorbar": {
             "outlinewidth": 0,
             "ticks": ""
            },
            "colorscale": [
             [
              0,
              "#0d0887"
             ],
             [
              0.1111111111111111,
              "#46039f"
             ],
             [
              0.2222222222222222,
              "#7201a8"
             ],
             [
              0.3333333333333333,
              "#9c179e"
             ],
             [
              0.4444444444444444,
              "#bd3786"
             ],
             [
              0.5555555555555556,
              "#d8576b"
             ],
             [
              0.6666666666666666,
              "#ed7953"
             ],
             [
              0.7777777777777778,
              "#fb9f3a"
             ],
             [
              0.8888888888888888,
              "#fdca26"
             ],
             [
              1,
              "#f0f921"
             ]
            ],
            "type": "heatmap"
           }
          ],
          "heatmapgl": [
           {
            "colorbar": {
             "outlinewidth": 0,
             "ticks": ""
            },
            "colorscale": [
             [
              0,
              "#0d0887"
             ],
             [
              0.1111111111111111,
              "#46039f"
             ],
             [
              0.2222222222222222,
              "#7201a8"
             ],
             [
              0.3333333333333333,
              "#9c179e"
             ],
             [
              0.4444444444444444,
              "#bd3786"
             ],
             [
              0.5555555555555556,
              "#d8576b"
             ],
             [
              0.6666666666666666,
              "#ed7953"
             ],
             [
              0.7777777777777778,
              "#fb9f3a"
             ],
             [
              0.8888888888888888,
              "#fdca26"
             ],
             [
              1,
              "#f0f921"
             ]
            ],
            "type": "heatmapgl"
           }
          ],
          "histogram": [
           {
            "marker": {
             "pattern": {
              "fillmode": "overlay",
              "size": 10,
              "solidity": 0.2
             }
            },
            "type": "histogram"
           }
          ],
          "histogram2d": [
           {
            "colorbar": {
             "outlinewidth": 0,
             "ticks": ""
            },
            "colorscale": [
             [
              0,
              "#0d0887"
             ],
             [
              0.1111111111111111,
              "#46039f"
             ],
             [
              0.2222222222222222,
              "#7201a8"
             ],
             [
              0.3333333333333333,
              "#9c179e"
             ],
             [
              0.4444444444444444,
              "#bd3786"
             ],
             [
              0.5555555555555556,
              "#d8576b"
             ],
             [
              0.6666666666666666,
              "#ed7953"
             ],
             [
              0.7777777777777778,
              "#fb9f3a"
             ],
             [
              0.8888888888888888,
              "#fdca26"
             ],
             [
              1,
              "#f0f921"
             ]
            ],
            "type": "histogram2d"
           }
          ],
          "histogram2dcontour": [
           {
            "colorbar": {
             "outlinewidth": 0,
             "ticks": ""
            },
            "colorscale": [
             [
              0,
              "#0d0887"
             ],
             [
              0.1111111111111111,
              "#46039f"
             ],
             [
              0.2222222222222222,
              "#7201a8"
             ],
             [
              0.3333333333333333,
              "#9c179e"
             ],
             [
              0.4444444444444444,
              "#bd3786"
             ],
             [
              0.5555555555555556,
              "#d8576b"
             ],
             [
              0.6666666666666666,
              "#ed7953"
             ],
             [
              0.7777777777777778,
              "#fb9f3a"
             ],
             [
              0.8888888888888888,
              "#fdca26"
             ],
             [
              1,
              "#f0f921"
             ]
            ],
            "type": "histogram2dcontour"
           }
          ],
          "mesh3d": [
           {
            "colorbar": {
             "outlinewidth": 0,
             "ticks": ""
            },
            "type": "mesh3d"
           }
          ],
          "parcoords": [
           {
            "line": {
             "colorbar": {
              "outlinewidth": 0,
              "ticks": ""
             }
            },
            "type": "parcoords"
           }
          ],
          "pie": [
           {
            "automargin": true,
            "type": "pie"
           }
          ],
          "scatter": [
           {
            "marker": {
             "colorbar": {
              "outlinewidth": 0,
              "ticks": ""
             }
            },
            "type": "scatter"
           }
          ],
          "scatter3d": [
           {
            "line": {
             "colorbar": {
              "outlinewidth": 0,
              "ticks": ""
             }
            },
            "marker": {
             "colorbar": {
              "outlinewidth": 0,
              "ticks": ""
             }
            },
            "type": "scatter3d"
           }
          ],
          "scattercarpet": [
           {
            "marker": {
             "colorbar": {
              "outlinewidth": 0,
              "ticks": ""
             }
            },
            "type": "scattercarpet"
           }
          ],
          "scattergeo": [
           {
            "marker": {
             "colorbar": {
              "outlinewidth": 0,
              "ticks": ""
             }
            },
            "type": "scattergeo"
           }
          ],
          "scattergl": [
           {
            "marker": {
             "colorbar": {
              "outlinewidth": 0,
              "ticks": ""
             }
            },
            "type": "scattergl"
           }
          ],
          "scattermapbox": [
           {
            "marker": {
             "colorbar": {
              "outlinewidth": 0,
              "ticks": ""
             }
            },
            "type": "scattermapbox"
           }
          ],
          "scatterpolar": [
           {
            "marker": {
             "colorbar": {
              "outlinewidth": 0,
              "ticks": ""
             }
            },
            "type": "scatterpolar"
           }
          ],
          "scatterpolargl": [
           {
            "marker": {
             "colorbar": {
              "outlinewidth": 0,
              "ticks": ""
             }
            },
            "type": "scatterpolargl"
           }
          ],
          "scatterternary": [
           {
            "marker": {
             "colorbar": {
              "outlinewidth": 0,
              "ticks": ""
             }
            },
            "type": "scatterternary"
           }
          ],
          "surface": [
           {
            "colorbar": {
             "outlinewidth": 0,
             "ticks": ""
            },
            "colorscale": [
             [
              0,
              "#0d0887"
             ],
             [
              0.1111111111111111,
              "#46039f"
             ],
             [
              0.2222222222222222,
              "#7201a8"
             ],
             [
              0.3333333333333333,
              "#9c179e"
             ],
             [
              0.4444444444444444,
              "#bd3786"
             ],
             [
              0.5555555555555556,
              "#d8576b"
             ],
             [
              0.6666666666666666,
              "#ed7953"
             ],
             [
              0.7777777777777778,
              "#fb9f3a"
             ],
             [
              0.8888888888888888,
              "#fdca26"
             ],
             [
              1,
              "#f0f921"
             ]
            ],
            "type": "surface"
           }
          ],
          "table": [
           {
            "cells": {
             "fill": {
              "color": "#EBF0F8"
             },
             "line": {
              "color": "white"
             }
            },
            "header": {
             "fill": {
              "color": "#C8D4E3"
             },
             "line": {
              "color": "white"
             }
            },
            "type": "table"
           }
          ]
         },
         "layout": {
          "annotationdefaults": {
           "arrowcolor": "#2a3f5f",
           "arrowhead": 0,
           "arrowwidth": 1
          },
          "autotypenumbers": "strict",
          "coloraxis": {
           "colorbar": {
            "outlinewidth": 0,
            "ticks": ""
           }
          },
          "colorscale": {
           "diverging": [
            [
             0,
             "#8e0152"
            ],
            [
             0.1,
             "#c51b7d"
            ],
            [
             0.2,
             "#de77ae"
            ],
            [
             0.3,
             "#f1b6da"
            ],
            [
             0.4,
             "#fde0ef"
            ],
            [
             0.5,
             "#f7f7f7"
            ],
            [
             0.6,
             "#e6f5d0"
            ],
            [
             0.7,
             "#b8e186"
            ],
            [
             0.8,
             "#7fbc41"
            ],
            [
             0.9,
             "#4d9221"
            ],
            [
             1,
             "#276419"
            ]
           ],
           "sequential": [
            [
             0,
             "#0d0887"
            ],
            [
             0.1111111111111111,
             "#46039f"
            ],
            [
             0.2222222222222222,
             "#7201a8"
            ],
            [
             0.3333333333333333,
             "#9c179e"
            ],
            [
             0.4444444444444444,
             "#bd3786"
            ],
            [
             0.5555555555555556,
             "#d8576b"
            ],
            [
             0.6666666666666666,
             "#ed7953"
            ],
            [
             0.7777777777777778,
             "#fb9f3a"
            ],
            [
             0.8888888888888888,
             "#fdca26"
            ],
            [
             1,
             "#f0f921"
            ]
           ],
           "sequentialminus": [
            [
             0,
             "#0d0887"
            ],
            [
             0.1111111111111111,
             "#46039f"
            ],
            [
             0.2222222222222222,
             "#7201a8"
            ],
            [
             0.3333333333333333,
             "#9c179e"
            ],
            [
             0.4444444444444444,
             "#bd3786"
            ],
            [
             0.5555555555555556,
             "#d8576b"
            ],
            [
             0.6666666666666666,
             "#ed7953"
            ],
            [
             0.7777777777777778,
             "#fb9f3a"
            ],
            [
             0.8888888888888888,
             "#fdca26"
            ],
            [
             1,
             "#f0f921"
            ]
           ]
          },
          "colorway": [
           "#636efa",
           "#EF553B",
           "#00cc96",
           "#ab63fa",
           "#FFA15A",
           "#19d3f3",
           "#FF6692",
           "#B6E880",
           "#FF97FF",
           "#FECB52"
          ],
          "font": {
           "color": "#2a3f5f"
          },
          "geo": {
           "bgcolor": "white",
           "lakecolor": "white",
           "landcolor": "#E5ECF6",
           "showlakes": true,
           "showland": true,
           "subunitcolor": "white"
          },
          "hoverlabel": {
           "align": "left"
          },
          "hovermode": "closest",
          "mapbox": {
           "style": "light"
          },
          "paper_bgcolor": "white",
          "plot_bgcolor": "#E5ECF6",
          "polar": {
           "angularaxis": {
            "gridcolor": "white",
            "linecolor": "white",
            "ticks": ""
           },
           "bgcolor": "#E5ECF6",
           "radialaxis": {
            "gridcolor": "white",
            "linecolor": "white",
            "ticks": ""
           }
          },
          "scene": {
           "xaxis": {
            "backgroundcolor": "#E5ECF6",
            "gridcolor": "white",
            "gridwidth": 2,
            "linecolor": "white",
            "showbackground": true,
            "ticks": "",
            "zerolinecolor": "white"
           },
           "yaxis": {
            "backgroundcolor": "#E5ECF6",
            "gridcolor": "white",
            "gridwidth": 2,
            "linecolor": "white",
            "showbackground": true,
            "ticks": "",
            "zerolinecolor": "white"
           },
           "zaxis": {
            "backgroundcolor": "#E5ECF6",
            "gridcolor": "white",
            "gridwidth": 2,
            "linecolor": "white",
            "showbackground": true,
            "ticks": "",
            "zerolinecolor": "white"
           }
          },
          "shapedefaults": {
           "line": {
            "color": "#2a3f5f"
           }
          },
          "ternary": {
           "aaxis": {
            "gridcolor": "white",
            "linecolor": "white",
            "ticks": ""
           },
           "baxis": {
            "gridcolor": "white",
            "linecolor": "white",
            "ticks": ""
           },
           "bgcolor": "#E5ECF6",
           "caxis": {
            "gridcolor": "white",
            "linecolor": "white",
            "ticks": ""
           }
          },
          "title": {
           "x": 0.05
          },
          "xaxis": {
           "automargin": true,
           "gridcolor": "white",
           "linecolor": "white",
           "ticks": "",
           "title": {
            "standoff": 15
           },
           "zerolinecolor": "white",
           "zerolinewidth": 2
          },
          "yaxis": {
           "automargin": true,
           "gridcolor": "white",
           "linecolor": "white",
           "ticks": "",
           "title": {
            "standoff": 15
           },
           "zerolinecolor": "white",
           "zerolinewidth": 2
          }
         }
        },
        "title": {
         "text": "Return on equity [ROE]"
        },
        "xaxis": {
         "tickfont": {
          "size": 14
         }
        },
        "yaxis": {
         "tickfont": {
          "size": 14
         },
         "title": {
          "font": {
           "size": 16
          },
          "text": "[%]"
         }
        }
       }
      },
      "text/html": [
       "<div>                            <div id=\"39f6706a-8748-402a-b5c2-627eb32cd7a9\" class=\"plotly-graph-div\" style=\"height:525px; width:100%;\"></div>            <script type=\"text/javascript\">                require([\"plotly\"], function(Plotly) {                    window.PLOTLYENV=window.PLOTLYENV || {};                                    if (document.getElementById(\"39f6706a-8748-402a-b5c2-627eb32cd7a9\")) {                    Plotly.newPlot(                        \"39f6706a-8748-402a-b5c2-627eb32cd7a9\",                        [{\"name\":\"ROE\",\"x\":[\"2005/Q4\",\"2006/Q4\",\"2007/Q1\",\"2007/Q2\",\"2007/Q3\",\"2007/Q4\",\"2008/Q1\",\"2008/Q2\",\"2008/Q3\",\"2008/Q4\",\"2009/Q1\",\"2009/Q2\",\"2009/Q3\",\"2009/Q4\",\"2010/Q1\",\"2010/Q2\",\"2010/Q3\",\"2010/Q4\",\"2011/Q1\",\"2011/Q2\",\"2011/Q3\",\"2011/Q4\",\"2012/Q1\",\"2012/Q2\",\"2012/Q3\",\"2012/Q4\",\"2013/Q1\",\"2013/Q2\",\"2013/Q3\",\"2013/Q4\",\"2014/Q1\",\"2014/Q2\",\"2014/Q3\",\"2014/Q4\",\"2015/Q1\",\"2015/Q2\",\"2015/Q3\",\"2015/Q4\",\"2016/Q1\",\"2016/Q2\",\"2016/Q3\",\"2016/Q4\",\"2017/Q1\",\"2017/Q2\",\"2017/Q3\",\"2017/Q4\",\"2018/Q1\",\"2018/Q2\",\"2018/Q3\",\"2018/Q4\",\"2019/Q1\",\"2019/Q2\",\"2019/Q3\",\"2019/Q4\",\"2020/Q1\",\"2020/Q2\",\"2020/Q3\",\"2020/Q4\",\"2021/Q1\"],\"y\":[12.24,12.7,20.3,13.04,11.45,8.52,10.24,14.02,15.23,10.2,10.66,10.92,11.36,12.39,13.08,15.88,15.83,15.8,15.6,13.15,13.03,12.49,11.98,10.29,9.76,9.91,10.4,11.34,12.02,12.35,12.45,12.99,13.33,13.16,12.39,11.87,11.3,11.05,10.97,10.87,10.8,10.22,9.84,9.16,8.62,8.48,8.09,7.54,7.48,7.31,7.26,7.35,7.77,7.81,8.57,10.74,11.84,12.46,12.71],\"type\":\"scatter\"}],                        {\"template\":{\"data\":{\"bar\":[{\"error_x\":{\"color\":\"#2a3f5f\"},\"error_y\":{\"color\":\"#2a3f5f\"},\"marker\":{\"line\":{\"color\":\"#E5ECF6\",\"width\":0.5},\"pattern\":{\"fillmode\":\"overlay\",\"size\":10,\"solidity\":0.2}},\"type\":\"bar\"}],\"barpolar\":[{\"marker\":{\"line\":{\"color\":\"#E5ECF6\",\"width\":0.5},\"pattern\":{\"fillmode\":\"overlay\",\"size\":10,\"solidity\":0.2}},\"type\":\"barpolar\"}],\"carpet\":[{\"aaxis\":{\"endlinecolor\":\"#2a3f5f\",\"gridcolor\":\"white\",\"linecolor\":\"white\",\"minorgridcolor\":\"white\",\"startlinecolor\":\"#2a3f5f\"},\"baxis\":{\"endlinecolor\":\"#2a3f5f\",\"gridcolor\":\"white\",\"linecolor\":\"white\",\"minorgridcolor\":\"white\",\"startlinecolor\":\"#2a3f5f\"},\"type\":\"carpet\"}],\"choropleth\":[{\"colorbar\":{\"outlinewidth\":0,\"ticks\":\"\"},\"type\":\"choropleth\"}],\"contour\":[{\"colorbar\":{\"outlinewidth\":0,\"ticks\":\"\"},\"colorscale\":[[0.0,\"#0d0887\"],[0.1111111111111111,\"#46039f\"],[0.2222222222222222,\"#7201a8\"],[0.3333333333333333,\"#9c179e\"],[0.4444444444444444,\"#bd3786\"],[0.5555555555555556,\"#d8576b\"],[0.6666666666666666,\"#ed7953\"],[0.7777777777777778,\"#fb9f3a\"],[0.8888888888888888,\"#fdca26\"],[1.0,\"#f0f921\"]],\"type\":\"contour\"}],\"contourcarpet\":[{\"colorbar\":{\"outlinewidth\":0,\"ticks\":\"\"},\"type\":\"contourcarpet\"}],\"heatmap\":[{\"colorbar\":{\"outlinewidth\":0,\"ticks\":\"\"},\"colorscale\":[[0.0,\"#0d0887\"],[0.1111111111111111,\"#46039f\"],[0.2222222222222222,\"#7201a8\"],[0.3333333333333333,\"#9c179e\"],[0.4444444444444444,\"#bd3786\"],[0.5555555555555556,\"#d8576b\"],[0.6666666666666666,\"#ed7953\"],[0.7777777777777778,\"#fb9f3a\"],[0.8888888888888888,\"#fdca26\"],[1.0,\"#f0f921\"]],\"type\":\"heatmap\"}],\"heatmapgl\":[{\"colorbar\":{\"outlinewidth\":0,\"ticks\":\"\"},\"colorscale\":[[0.0,\"#0d0887\"],[0.1111111111111111,\"#46039f\"],[0.2222222222222222,\"#7201a8\"],[0.3333333333333333,\"#9c179e\"],[0.4444444444444444,\"#bd3786\"],[0.5555555555555556,\"#d8576b\"],[0.6666666666666666,\"#ed7953\"],[0.7777777777777778,\"#fb9f3a\"],[0.8888888888888888,\"#fdca26\"],[1.0,\"#f0f921\"]],\"type\":\"heatmapgl\"}],\"histogram\":[{\"marker\":{\"pattern\":{\"fillmode\":\"overlay\",\"size\":10,\"solidity\":0.2}},\"type\":\"histogram\"}],\"histogram2d\":[{\"colorbar\":{\"outlinewidth\":0,\"ticks\":\"\"},\"colorscale\":[[0.0,\"#0d0887\"],[0.1111111111111111,\"#46039f\"],[0.2222222222222222,\"#7201a8\"],[0.3333333333333333,\"#9c179e\"],[0.4444444444444444,\"#bd3786\"],[0.5555555555555556,\"#d8576b\"],[0.6666666666666666,\"#ed7953\"],[0.7777777777777778,\"#fb9f3a\"],[0.8888888888888888,\"#fdca26\"],[1.0,\"#f0f921\"]],\"type\":\"histogram2d\"}],\"histogram2dcontour\":[{\"colorbar\":{\"outlinewidth\":0,\"ticks\":\"\"},\"colorscale\":[[0.0,\"#0d0887\"],[0.1111111111111111,\"#46039f\"],[0.2222222222222222,\"#7201a8\"],[0.3333333333333333,\"#9c179e\"],[0.4444444444444444,\"#bd3786\"],[0.5555555555555556,\"#d8576b\"],[0.6666666666666666,\"#ed7953\"],[0.7777777777777778,\"#fb9f3a\"],[0.8888888888888888,\"#fdca26\"],[1.0,\"#f0f921\"]],\"type\":\"histogram2dcontour\"}],\"mesh3d\":[{\"colorbar\":{\"outlinewidth\":0,\"ticks\":\"\"},\"type\":\"mesh3d\"}],\"parcoords\":[{\"line\":{\"colorbar\":{\"outlinewidth\":0,\"ticks\":\"\"}},\"type\":\"parcoords\"}],\"pie\":[{\"automargin\":true,\"type\":\"pie\"}],\"scatter\":[{\"marker\":{\"colorbar\":{\"outlinewidth\":0,\"ticks\":\"\"}},\"type\":\"scatter\"}],\"scatter3d\":[{\"line\":{\"colorbar\":{\"outlinewidth\":0,\"ticks\":\"\"}},\"marker\":{\"colorbar\":{\"outlinewidth\":0,\"ticks\":\"\"}},\"type\":\"scatter3d\"}],\"scattercarpet\":[{\"marker\":{\"colorbar\":{\"outlinewidth\":0,\"ticks\":\"\"}},\"type\":\"scattercarpet\"}],\"scattergeo\":[{\"marker\":{\"colorbar\":{\"outlinewidth\":0,\"ticks\":\"\"}},\"type\":\"scattergeo\"}],\"scattergl\":[{\"marker\":{\"colorbar\":{\"outlinewidth\":0,\"ticks\":\"\"}},\"type\":\"scattergl\"}],\"scattermapbox\":[{\"marker\":{\"colorbar\":{\"outlinewidth\":0,\"ticks\":\"\"}},\"type\":\"scattermapbox\"}],\"scatterpolar\":[{\"marker\":{\"colorbar\":{\"outlinewidth\":0,\"ticks\":\"\"}},\"type\":\"scatterpolar\"}],\"scatterpolargl\":[{\"marker\":{\"colorbar\":{\"outlinewidth\":0,\"ticks\":\"\"}},\"type\":\"scatterpolargl\"}],\"scatterternary\":[{\"marker\":{\"colorbar\":{\"outlinewidth\":0,\"ticks\":\"\"}},\"type\":\"scatterternary\"}],\"surface\":[{\"colorbar\":{\"outlinewidth\":0,\"ticks\":\"\"},\"colorscale\":[[0.0,\"#0d0887\"],[0.1111111111111111,\"#46039f\"],[0.2222222222222222,\"#7201a8\"],[0.3333333333333333,\"#9c179e\"],[0.4444444444444444,\"#bd3786\"],[0.5555555555555556,\"#d8576b\"],[0.6666666666666666,\"#ed7953\"],[0.7777777777777778,\"#fb9f3a\"],[0.8888888888888888,\"#fdca26\"],[1.0,\"#f0f921\"]],\"type\":\"surface\"}],\"table\":[{\"cells\":{\"fill\":{\"color\":\"#EBF0F8\"},\"line\":{\"color\":\"white\"}},\"header\":{\"fill\":{\"color\":\"#C8D4E3\"},\"line\":{\"color\":\"white\"}},\"type\":\"table\"}]},\"layout\":{\"annotationdefaults\":{\"arrowcolor\":\"#2a3f5f\",\"arrowhead\":0,\"arrowwidth\":1},\"autotypenumbers\":\"strict\",\"coloraxis\":{\"colorbar\":{\"outlinewidth\":0,\"ticks\":\"\"}},\"colorscale\":{\"diverging\":[[0,\"#8e0152\"],[0.1,\"#c51b7d\"],[0.2,\"#de77ae\"],[0.3,\"#f1b6da\"],[0.4,\"#fde0ef\"],[0.5,\"#f7f7f7\"],[0.6,\"#e6f5d0\"],[0.7,\"#b8e186\"],[0.8,\"#7fbc41\"],[0.9,\"#4d9221\"],[1,\"#276419\"]],\"sequential\":[[0.0,\"#0d0887\"],[0.1111111111111111,\"#46039f\"],[0.2222222222222222,\"#7201a8\"],[0.3333333333333333,\"#9c179e\"],[0.4444444444444444,\"#bd3786\"],[0.5555555555555556,\"#d8576b\"],[0.6666666666666666,\"#ed7953\"],[0.7777777777777778,\"#fb9f3a\"],[0.8888888888888888,\"#fdca26\"],[1.0,\"#f0f921\"]],\"sequentialminus\":[[0.0,\"#0d0887\"],[0.1111111111111111,\"#46039f\"],[0.2222222222222222,\"#7201a8\"],[0.3333333333333333,\"#9c179e\"],[0.4444444444444444,\"#bd3786\"],[0.5555555555555556,\"#d8576b\"],[0.6666666666666666,\"#ed7953\"],[0.7777777777777778,\"#fb9f3a\"],[0.8888888888888888,\"#fdca26\"],[1.0,\"#f0f921\"]]},\"colorway\":[\"#636efa\",\"#EF553B\",\"#00cc96\",\"#ab63fa\",\"#FFA15A\",\"#19d3f3\",\"#FF6692\",\"#B6E880\",\"#FF97FF\",\"#FECB52\"],\"font\":{\"color\":\"#2a3f5f\"},\"geo\":{\"bgcolor\":\"white\",\"lakecolor\":\"white\",\"landcolor\":\"#E5ECF6\",\"showlakes\":true,\"showland\":true,\"subunitcolor\":\"white\"},\"hoverlabel\":{\"align\":\"left\"},\"hovermode\":\"closest\",\"mapbox\":{\"style\":\"light\"},\"paper_bgcolor\":\"white\",\"plot_bgcolor\":\"#E5ECF6\",\"polar\":{\"angularaxis\":{\"gridcolor\":\"white\",\"linecolor\":\"white\",\"ticks\":\"\"},\"bgcolor\":\"#E5ECF6\",\"radialaxis\":{\"gridcolor\":\"white\",\"linecolor\":\"white\",\"ticks\":\"\"}},\"scene\":{\"xaxis\":{\"backgroundcolor\":\"#E5ECF6\",\"gridcolor\":\"white\",\"gridwidth\":2,\"linecolor\":\"white\",\"showbackground\":true,\"ticks\":\"\",\"zerolinecolor\":\"white\"},\"yaxis\":{\"backgroundcolor\":\"#E5ECF6\",\"gridcolor\":\"white\",\"gridwidth\":2,\"linecolor\":\"white\",\"showbackground\":true,\"ticks\":\"\",\"zerolinecolor\":\"white\"},\"zaxis\":{\"backgroundcolor\":\"#E5ECF6\",\"gridcolor\":\"white\",\"gridwidth\":2,\"linecolor\":\"white\",\"showbackground\":true,\"ticks\":\"\",\"zerolinecolor\":\"white\"}},\"shapedefaults\":{\"line\":{\"color\":\"#2a3f5f\"}},\"ternary\":{\"aaxis\":{\"gridcolor\":\"white\",\"linecolor\":\"white\",\"ticks\":\"\"},\"baxis\":{\"gridcolor\":\"white\",\"linecolor\":\"white\",\"ticks\":\"\"},\"bgcolor\":\"#E5ECF6\",\"caxis\":{\"gridcolor\":\"white\",\"linecolor\":\"white\",\"ticks\":\"\"}},\"title\":{\"x\":0.05},\"xaxis\":{\"automargin\":true,\"gridcolor\":\"white\",\"linecolor\":\"white\",\"ticks\":\"\",\"title\":{\"standoff\":15},\"zerolinecolor\":\"white\",\"zerolinewidth\":2},\"yaxis\":{\"automargin\":true,\"gridcolor\":\"white\",\"linecolor\":\"white\",\"ticks\":\"\",\"title\":{\"standoff\":15},\"zerolinecolor\":\"white\",\"zerolinewidth\":2}}},\"xaxis\":{\"tickfont\":{\"size\":14}},\"yaxis\":{\"title\":{\"text\":\"[%]\",\"font\":{\"size\":16}},\"tickfont\":{\"size\":14}},\"legend\":{\"x\":0,\"y\":1.0,\"bgcolor\":\"rgba(255, 255, 255, 0)\",\"bordercolor\":\"rgba(255, 255, 255, 0)\"},\"title\":{\"text\":\"Return on equity [ROE]\"},\"barmode\":\"group\",\"bargap\":0.15,\"bargroupgap\":0.1},                        {\"responsive\": true}                    ).then(function(){\n",
       "                            \n",
       "var gd = document.getElementById('39f6706a-8748-402a-b5c2-627eb32cd7a9');\n",
       "var x = new MutationObserver(function (mutations, observer) {{\n",
       "        var display = window.getComputedStyle(gd).display;\n",
       "        if (!display || display === 'none') {{\n",
       "            console.log([gd, 'removed!']);\n",
       "            Plotly.purge(gd);\n",
       "            observer.disconnect();\n",
       "        }}\n",
       "}});\n",
       "\n",
       "// Listen for the removal of the full notebook cells\n",
       "var notebookContainer = gd.closest('#notebook-container');\n",
       "if (notebookContainer) {{\n",
       "    x.observe(notebookContainer, {childList: true});\n",
       "}}\n",
       "\n",
       "// Listen for the clearing of the current output cell\n",
       "var outputEl = gd.closest('.output');\n",
       "if (outputEl) {{\n",
       "    x.observe(outputEl, {childList: true});\n",
       "}}\n",
       "\n",
       "                        })                };                });            </script>        </div>"
      ]
     },
     "metadata": {},
     "output_type": "display_data"
    }
   ],
   "source": [
    "dates = soup.find(class_=\"report-table\").find_all(class_=[\"thq h\", \"thq h newest\"])\n",
    "dates = [record.text.strip() for record in dates]\n",
    "dates = [record.replace(\"\\n\", \"\") for record in dates]\n",
    "dates = [record.replace(\"\\t\", \"\") for record in dates]\n",
    "dates = [record[0:7] for record in dates]\n",
    "\n",
    "roe = soup.find(class_=\"report-table\").find_all(\"tr\", {\"data-field\": \"ROE\"})\n",
    "\n",
    "for record in roe: \n",
    "    values = record.find_all(class_=\"value\")  \n",
    "    \n",
    "values = [value.text.strip() for value in values]\n",
    "\n",
    "roe = zip(dates, values)\n",
    "\n",
    "df = pd.DataFrame(roe)\n",
    "df[1] = df[1].str.replace(r'[\\s+%+]', '', regex=True)\n",
    "df[1] = df[1].astype(float)\n",
    "\n",
    "# Let's plot\n",
    "\n",
    "fig = go.Figure()\n",
    "\n",
    "fig.add_trace(go.Line(x=df[0], y=df[1], name=\"ROE\"))\n",
    "\n",
    "fig.update_layout(\n",
    "    title='Return on equity [ROE]',\n",
    "    xaxis_tickfont_size=14,\n",
    "    yaxis=dict(\n",
    "        title='[%]',\n",
    "        titlefont_size=16,\n",
    "        tickfont_size=14,\n",
    "    ),\n",
    "    legend=dict(\n",
    "        x=0,\n",
    "        y=1.0,\n",
    "        bgcolor='rgba(255, 255, 255, 0)',\n",
    "        bordercolor='rgba(255, 255, 255, 0)'\n",
    "    ),\n",
    "    barmode='group',\n",
    "    bargap=0.15,\n",
    "    bargroupgap=0.1\n",
    ")\n",
    "\n",
    "fig.show() "
   ]
  },
  {
   "cell_type": "code",
   "execution_count": 16,
   "metadata": {},
   "outputs": [
    {
     "name": "stdout",
     "output_type": "stream",
     "text": [
      "Book value per share: 9.17 pln. Report quarter 2021/Q3.\n"
     ]
    },
    {
     "data": {
      "text/html": [
       "<div>\n",
       "<style scoped>\n",
       "    .dataframe tbody tr th:only-of-type {\n",
       "        vertical-align: middle;\n",
       "    }\n",
       "\n",
       "    .dataframe tbody tr th {\n",
       "        vertical-align: top;\n",
       "    }\n",
       "\n",
       "    .dataframe thead th {\n",
       "        text-align: right;\n",
       "    }\n",
       "</style>\n",
       "<table border=\"1\" class=\"dataframe\">\n",
       "  <thead>\n",
       "    <tr style=\"text-align: right;\">\n",
       "      <th></th>\n",
       "      <th>1</th>\n",
       "    </tr>\n",
       "    <tr>\n",
       "      <th>0</th>\n",
       "      <th></th>\n",
       "    </tr>\n",
       "  </thead>\n",
       "  <tbody>\n",
       "    <tr>\n",
       "      <th>ISIN:</th>\n",
       "      <td>PLINPRO00015</td>\n",
       "    </tr>\n",
       "    <tr>\n",
       "      <th>Data debiutu:</th>\n",
       "      <td>22.03.2011</td>\n",
       "    </tr>\n",
       "    <tr>\n",
       "      <th>Liczba akcji:</th>\n",
       "      <td>40040000</td>\n",
       "    </tr>\n",
       "    <tr>\n",
       "      <th>Kapitalizacja:</th>\n",
       "      <td>304304000</td>\n",
       "    </tr>\n",
       "    <tr>\n",
       "      <th>Sektor:</th>\n",
       "      <td>GPW:Deweloperzy</td>\n",
       "    </tr>\n",
       "    <tr>\n",
       "      <th>Branża:</th>\n",
       "      <td>Nieruchomości</td>\n",
       "    </tr>\n",
       "    <tr>\n",
       "      <th>BV per share 2021/Q3</th>\n",
       "      <td>9.17</td>\n",
       "    </tr>\n",
       "    <tr>\n",
       "      <th>Book Value</th>\n",
       "      <td>367166800.0</td>\n",
       "    </tr>\n",
       "  </tbody>\n",
       "</table>\n",
       "</div>"
      ],
      "text/plain": [
       "                                    1\n",
       "0                                    \n",
       "ISIN:                    PLINPRO00015\n",
       "Data debiutu:              22.03.2011\n",
       "Liczba akcji:                40040000\n",
       "Kapitalizacja:              304304000\n",
       "Sektor:               GPW:Deweloperzy\n",
       "Branża:                 Nieruchomości\n",
       "BV per share 2021/Q3             9.17\n",
       "Book Value                367166800.0"
      ]
     },
     "execution_count": 16,
     "metadata": {},
     "output_type": "execute_result"
    }
   ],
   "source": [
    "# Now let's find out about capitalization and book value\n",
    "\n",
    "response_company = session.get(f\"https://www.biznesradar.pl/wskazniki-wartosci-rynkowej/{company}\")\n",
    "soup = BeautifulSoup(response_company.text, 'html.parser')\n",
    "\n",
    "th = soup.find(class_=\"report-table\").find_all(class_=\"thq h newest\")\n",
    "tr = soup.find(class_=\"report-table\").find_all(\"tr\", {\"data-field\": \"WK\"})\n",
    "td = soup.find(class_=\"report-table\").find_all(class_=\"value\")\n",
    "\n",
    "# We get book value per stock from recent report \n",
    "\n",
    "def book_value_per_stock(data):\n",
    "    values = []\n",
    "    for record in tr:\n",
    "        records = record.find_all(class_=\"value\")\n",
    "        for record in records:\n",
    "            values.append(record.text.strip())\n",
    "    return values[-1]\n",
    "\n",
    "book_value_per_stock = book_value_per_stock(tr)\n",
    "last_report_date = th[-1].text.strip()[0:7]\n",
    "\n",
    "print(f\"Book value per share: {book_value_per_stock} pln. Report quarter {last_report_date}.\")\n",
    "\n",
    "# Here we want to find out about company market capitalization\n",
    "\n",
    "th = soup.find(class_=\"profileSummary\").find_all('th')\n",
    "td = soup.find(class_=\"profileSummary\").find_all('td')\n",
    "\n",
    "\n",
    "th_strip = [record.text.strip() for record in th]\n",
    "td_strip = [record.text.strip() for record in td]\n",
    "\n",
    "summary = zip(th_strip, td_strip)\n",
    "\n",
    "df = pd.DataFrame(summary)\n",
    "\n",
    "# Add book value per stock to DataFrame\n",
    "df = df.append({0: f\"BV per share {last_report_date}\", 1: book_value_per_stock}, ignore_index=True)\n",
    "\n",
    "# Replace unnecessary types and calculate book value by multiplying number of stocks and book value per stock\n",
    "df[1] = df[1].str.replace(' ','')\n",
    "book_value = float(book_value_per_stock) * float(df[1][2])\n",
    "df = df.append({0: 'Book Value', 1: book_value}, ignore_index=True)\n",
    "df = df.set_index(0)\n",
    "\n",
    "df.head(10)"
   ]
  },
  {
   "cell_type": "code",
   "execution_count": 17,
   "metadata": {},
   "outputs": [],
   "source": [
    "# Here we download last news about company\n",
    "\n",
    "#company = 'NTT'\n",
    "response_news = session.get(f\"https://www.biznesradar.pl/wiadomosci/{company}\")\n",
    "soup = BeautifulSoup(response_news.text, 'html.parser')\n"
   ]
  },
  {
   "cell_type": "code",
   "execution_count": 18,
   "metadata": {},
   "outputs": [
    {
     "data": {
      "text/html": [
       "<style type=\"text/css\">\n",
       "</style>\n",
       "<table id=\"T_34640_\">\n",
       "  <thead>\n",
       "    <tr>\n",
       "      <th class=\"blank level0\" >&nbsp;</th>\n",
       "      <th class=\"col_heading level0 col0\" >1</th>\n",
       "      <th class=\"col_heading level0 col1\" >2</th>\n",
       "      <th class=\"col_heading level0 col2\" >3</th>\n",
       "    </tr>\n",
       "    <tr>\n",
       "      <th class=\"index_name level0\" >0</th>\n",
       "      <th class=\"blank col0\" >&nbsp;</th>\n",
       "      <th class=\"blank col1\" >&nbsp;</th>\n",
       "      <th class=\"blank col2\" >&nbsp;</th>\n",
       "    </tr>\n",
       "  </thead>\n",
       "  <tbody>\n",
       "    <tr>\n",
       "      <th id=\"T_34640_level0_row0\" class=\"row_heading level0 row0\" >2021-11-24 15:54:57</th>\n",
       "      <td id=\"T_34640_row0_col0\" class=\"data row0 col0\" >Grupa INPRO poprawia rentowność</td>\n",
       "      <td id=\"T_34640_row0_col1\" class=\"data row0 col1\" >Grupa INP (INPRO) podsumowała wyniki finansowe za trzy kwartały 2021 roku. W tym okresie uzyskała skonsolidowane przychody netto ze sprzedaży na poziomie 194,1 mln zł oraz wypracowała 28,2...</td>\n",
       "      <td id=\"T_34640_row0_col2\" class=\"data row0 col2\" ><a href=\"/a/105397,grupa-inpro-poprawia-rentownosc\">105397,grupa-inpro-poprawia-rentownosc</a></td>\n",
       "    </tr>\n",
       "    <tr>\n",
       "      <th id=\"T_34640_level0_row1\" class=\"row_heading level0 row1\" >2021-11-24 07:30:46</th>\n",
       "      <td id=\"T_34640_row1_col0\" class=\"data row1 col0\" >INPRO SA Raport okresowy kwartalny skonsolidowany 3/2021 QSr</td>\n",
       "      <td id=\"T_34640_row1_col1\" class=\"data row1 col1\" >Raport okresowy kwartalny skonsolidowany 3/2021 QSr</td>\n",
       "      <td id=\"T_34640_row1_col2\" class=\"data row1 col2\" ><a href=\"https://infostrefa.com/infostrefa/pl/wiadomosci/40927892,inpro-sa-raport-okresowy-kwartalny-skonsolidowany-3-2021-qsr\">40927892,inpro-sa-raport-okresowy-kwartalny-skonsolidowany-3-2021-qsr</a></td>\n",
       "    </tr>\n",
       "    <tr>\n",
       "      <th id=\"T_34640_level0_row2\" class=\"row_heading level0 row2\" >2021-11-16 14:37:53</th>\n",
       "      <td id=\"T_34640_row2_col0\" class=\"data row2 col0\" >INPRO SA (31/2021) Informacja o odwołaniu Wiceprezesa Zarządu Spółki Pana Piotra Stefaniaka i zmianie ilości osobowej składu Zarządu Spółki.</td>\n",
       "      <td id=\"T_34640_row2_col1\" class=\"data row2 col1\" >Raport bieżący 31/2021</td>\n",
       "      <td id=\"T_34640_row2_col2\" class=\"data row2 col2\" ><a href=\"https://infostrefa.com/infostrefa/pl/wiadomosci/40859961,inpro-sa-31-2021-informacja-o-odwolaniu-wiceprezesa-zarzadu-spolki-pana-piotra-stefaniaka-i-zmianie-ilosci-osobowej-skladu-zarzadu-spolki\">40859961,inpro-sa-31-2021-informacja-o-odwolaniu-wiceprezesa-zarzadu-spolki-pana-piotra-stefaniaka-i-zmianie-ilosci-osobowej-skladu-zarzadu-spolki</a></td>\n",
       "    </tr>\n",
       "    <tr>\n",
       "      <th id=\"T_34640_level0_row3\" class=\"row_heading level0 row3\" >2021-11-15 12:12:46</th>\n",
       "      <td id=\"T_34640_row3_col0\" class=\"data row3 col0\" >INPRO SA (30/2021) Podpisanie umowy znaczącej z Alior Bank SA.</td>\n",
       "      <td id=\"T_34640_row3_col1\" class=\"data row3 col1\" >Raport bieżący 30/2021</td>\n",
       "      <td id=\"T_34640_row3_col2\" class=\"data row3 col2\" ><a href=\"https://infostrefa.com/infostrefa/pl/wiadomosci/40847630,inpro-sa-30-2021-podpisanie-umowy-znaczacej-z-alior-bank-sa\">40847630,inpro-sa-30-2021-podpisanie-umowy-znaczacej-z-alior-bank-sa</a></td>\n",
       "    </tr>\n",
       "    <tr>\n",
       "      <th id=\"T_34640_level0_row4\" class=\"row_heading level0 row4\" >2021-10-22 14:18:32</th>\n",
       "      <td id=\"T_34640_row4_col0\" class=\"data row4 col0\" >INPRO SA (29/2021) Dokonanie wpisu hipoteki na nieruchomości, której Inpro SA jest właścicielem.</td>\n",
       "      <td id=\"T_34640_row4_col1\" class=\"data row4 col1\" >Raport bieżący 29/2021</td>\n",
       "      <td id=\"T_34640_row4_col2\" class=\"data row4 col2\" ><a href=\"https://infostrefa.com/infostrefa/pl/wiadomosci/40643929,inpro-sa-29-2021-dokonanie-wpisu-hipoteki-na-nieruchomosci-ktorej-inpro-sa-jest-wlascicielem\">40643929,inpro-sa-29-2021-dokonanie-wpisu-hipoteki-na-nieruchomosci-ktorej-inpro-sa-jest-wlascicielem</a></td>\n",
       "    </tr>\n",
       "    <tr>\n",
       "      <th id=\"T_34640_level0_row5\" class=\"row_heading level0 row5\" >2021-10-13 14:36:11</th>\n",
       "      <td id=\"T_34640_row5_col0\" class=\"data row5 col0\" >INPRO SA (28/2021) Wyznaczenie pierwszego dnia notowania obligacji w alternatywnym systemie obrotu na Catalyst.</td>\n",
       "      <td id=\"T_34640_row5_col1\" class=\"data row5 col1\" >Raport bieżący 28/2021</td>\n",
       "      <td id=\"T_34640_row5_col2\" class=\"data row5 col2\" ><a href=\"https://infostrefa.com/infostrefa/pl/wiadomosci/40561602,inpro-sa-28-2021-wyznaczenie-pierwszego-dnia-notowania-obligacji-w-alternatywnym-systemie-obrotu-na-catalyst\">40561602,inpro-sa-28-2021-wyznaczenie-pierwszego-dnia-notowania-obligacji-w-alternatywnym-systemie-obrotu-na-catalyst</a></td>\n",
       "    </tr>\n",
       "    <tr>\n",
       "      <th id=\"T_34640_level0_row6\" class=\"row_heading level0 row6\" >2021-10-07 13:58:43</th>\n",
       "      <td id=\"T_34640_row6_col0\" class=\"data row6 col0\" >INPRO SA (27/2021) Emisja obligacji serii C</td>\n",
       "      <td id=\"T_34640_row6_col1\" class=\"data row6 col1\" >Raport bieżący 27/2021</td>\n",
       "      <td id=\"T_34640_row6_col2\" class=\"data row6 col2\" ><a href=\"https://infostrefa.com/infostrefa/pl/wiadomosci/40513950,inpro-sa-27-2021-emisja-obligacji-serii-c\">40513950,inpro-sa-27-2021-emisja-obligacji-serii-c</a></td>\n",
       "    </tr>\n",
       "    <tr>\n",
       "      <th id=\"T_34640_level0_row7\" class=\"row_heading level0 row7\" >2021-10-06 15:59:34</th>\n",
       "      <td id=\"T_34640_row7_col0\" class=\"data row7 col0\" >Po trzech kwartałach 2021 r. Grupa INPRO zwiększyła sprzedaż o 22%</td>\n",
       "      <td id=\"T_34640_row7_col1\" class=\"data row7 col1\" >Grupa Kapitałowa INP (INPRO) podsumowała wyniki sprzedaży za III kwartał 2021 roku. Od czerwca do końca września bieżącego roku Grupa zrealizowała przedsprzedaż (rozumianą jako liczbę...</td>\n",
       "      <td id=\"T_34640_row7_col2\" class=\"data row7 col2\" ><a href=\"/a/103981,po-trzech-kwartalach-2021-r-grupa-inpro-zwiekszyla-sprzedaz-o-22\">103981,po-trzech-kwartalach-2021-r-grupa-inpro-zwiekszyla-sprzedaz-o-22</a></td>\n",
       "    </tr>\n",
       "    <tr>\n",
       "      <th id=\"T_34640_level0_row8\" class=\"row_heading level0 row8\" >2021-10-06 12:40:19</th>\n",
       "      <td id=\"T_34640_row8_col0\" class=\"data row8 col0\" >INPRO SA (26/2021) Informacja nt. liczby zawartych umów przedwstępnych sprzedaży lokali w III kwartale 2021 roku.</td>\n",
       "      <td id=\"T_34640_row8_col1\" class=\"data row8 col1\" >Raport bieżący 26/2021</td>\n",
       "      <td id=\"T_34640_row8_col2\" class=\"data row8 col2\" ><a href=\"https://infostrefa.com/infostrefa/pl/wiadomosci/40503095,inpro-sa-26-2021-informacja-nt-liczby-zawartych-umow-przedwstepnych-sprzedazy-lokali-w-iii-kwartale-2021-roku\">40503095,inpro-sa-26-2021-informacja-nt-liczby-zawartych-umow-przedwstepnych-sprzedazy-lokali-w-iii-kwartale-2021-roku</a></td>\n",
       "    </tr>\n",
       "    <tr>\n",
       "      <th id=\"T_34640_level0_row9\" class=\"row_heading level0 row9\" >2021-10-01 13:06:58</th>\n",
       "      <td id=\"T_34640_row9_col0\" class=\"data row9 col0\" >INPRO SA (25/2021) Nabycie obligacji własnych Emitenta w celu umorzenia</td>\n",
       "      <td id=\"T_34640_row9_col1\" class=\"data row9 col1\" >Raport bieżący 25/2021</td>\n",
       "      <td id=\"T_34640_row9_col2\" class=\"data row9 col2\" ><a href=\"https://infostrefa.com/infostrefa/pl/wiadomosci/40462743,inpro-sa-25-2021-nabycie-obligacji-wlasnych-emitenta-w-celu-umorzenia\">40462743,inpro-sa-25-2021-nabycie-obligacji-wlasnych-emitenta-w-celu-umorzenia</a></td>\n",
       "    </tr>\n",
       "    <tr>\n",
       "      <th id=\"T_34640_level0_row10\" class=\"row_heading level0 row10\" >2021-09-29 12:01:16</th>\n",
       "      <td id=\"T_34640_row10_col0\" class=\"data row10 col0\" >INPRO SA (24/2021) Podpisanie umowy znaczącej z mBank SA.</td>\n",
       "      <td id=\"T_34640_row10_col1\" class=\"data row10 col1\" >Raport bieżący 24/2021</td>\n",
       "      <td id=\"T_34640_row10_col2\" class=\"data row10 col2\" ><a href=\"https://infostrefa.com/infostrefa/pl/wiadomosci/40441419,inpro-sa-24-2021-podpisanie-umowy-znaczacej-z-mbank-sa\">40441419,inpro-sa-24-2021-podpisanie-umowy-znaczacej-z-mbank-sa</a></td>\n",
       "    </tr>\n",
       "    <tr>\n",
       "      <th id=\"T_34640_level0_row11\" class=\"row_heading level0 row11\" >2021-09-30 14:52:26</th>\n",
       "      <td id=\"T_34640_row11_col0\" class=\"data row11 col0\" >[BR Premium] Nowe rekordy, czyli jakie będą dywidendy deweloperów</td>\n",
       "      <td id=\"T_34640_row11_col1\" class=\"data row11 col1\" >Spółki deweloperskie nie należały do głównych beneficjentów pandemii. Nie zostały też przez nią szczególnie dotknięte. Niemal bez względu na otoczenie, rynek mieszkaniowy nie traci...</td>\n",
       "      <td id=\"T_34640_row11_col2\" class=\"data row11 col2\" ><a href=\"/a/103618,br-premium-nowe-rekordy-czyli-jakie-beda-dywidendy-deweloperow\">103618,br-premium-nowe-rekordy-czyli-jakie-beda-dywidendy-deweloperow</a></td>\n",
       "    </tr>\n",
       "    <tr>\n",
       "      <th id=\"T_34640_level0_row12\" class=\"row_heading level0 row12\" >2021-09-15 14:05:56</th>\n",
       "      <td id=\"T_34640_row12_col0\" class=\"data row12 col0\" >INPRO SA (23/2021) Podjęcie uchwały w sprawie emisji obligacji.</td>\n",
       "      <td id=\"T_34640_row12_col1\" class=\"data row12 col1\" >Raport bieżący 23/2021</td>\n",
       "      <td id=\"T_34640_row12_col2\" class=\"data row12 col2\" ><a href=\"https://infostrefa.com/infostrefa/pl/wiadomosci/40323345,inpro-sa-23-2021-podjecie-uchwaly-w-sprawie-emisji-obligacji\">40323345,inpro-sa-23-2021-podjecie-uchwaly-w-sprawie-emisji-obligacji</a></td>\n",
       "    </tr>\n",
       "    <tr>\n",
       "      <th id=\"T_34640_level0_row13\" class=\"row_heading level0 row13\" >2021-09-14 11:16:52</th>\n",
       "      <td id=\"T_34640_row13_col0\" class=\"data row13 col0\" >Grupa INPRO wypracowała w I półroczu 14,9 mln zł zysku netto</td>\n",
       "      <td id=\"T_34640_row13_col1\" class=\"data row13 col1\" >Grupa INP (INPRO) podsumowała wyniki finansowe za I półrocze 2021 roku. W tym okresie uzyskała skonsolidowane przychody netto ze sprzedaży na poziomie 113,1 mln zł oraz wypracowała 14,9 mln...</td>\n",
       "      <td id=\"T_34640_row13_col2\" class=\"data row13 col2\" ><a href=\"/a/103330,grupa-inpro-wypracowala-w-i-polroczu-14-9-mln-zl-zysku-netto\">103330,grupa-inpro-wypracowala-w-i-polroczu-14-9-mln-zl-zysku-netto</a></td>\n",
       "    </tr>\n",
       "    <tr>\n",
       "      <th id=\"T_34640_level0_row14\" class=\"row_heading level0 row14\" >2021-09-14 07:37:07</th>\n",
       "      <td id=\"T_34640_row14_col0\" class=\"data row14 col0\" >INPRO SA Raport okresowy półroczny za 2021 PSr</td>\n",
       "      <td id=\"T_34640_row14_col1\" class=\"data row14 col1\" >Raport okresowy półroczny za 2021 PSr</td>\n",
       "      <td id=\"T_34640_row14_col2\" class=\"data row14 col2\" ><a href=\"https://infostrefa.com/infostrefa/pl/wiadomosci/40310486,inpro-sa-raport-okresowy-polroczny-za-2021-psr\">40310486,inpro-sa-raport-okresowy-polroczny-za-2021-psr</a></td>\n",
       "    </tr>\n",
       "    <tr>\n",
       "      <th id=\"T_34640_level0_row15\" class=\"row_heading level0 row15\" >2021-07-29 12:22:30</th>\n",
       "      <td id=\"T_34640_row15_col0\" class=\"data row15 col0\" >INPRO SA (22/2021) Postanowienie Sądu - informacja o statucie</td>\n",
       "      <td id=\"T_34640_row15_col1\" class=\"data row15 col1\" >Raport bieżący z plikiem 22/2021</td>\n",
       "      <td id=\"T_34640_row15_col2\" class=\"data row15 col2\" ><a href=\"https://infostrefa.com/infostrefa/pl/wiadomosci/39934099,inpro-sa-22-2021-postanowienie-sadu-informacja-o-statucie\">39934099,inpro-sa-22-2021-postanowienie-sadu-informacja-o-statucie</a></td>\n",
       "    </tr>\n",
       "    <tr>\n",
       "      <th id=\"T_34640_level0_row16\" class=\"row_heading level0 row16\" >2021-07-22 15:45:11</th>\n",
       "      <td id=\"T_34640_row16_col0\" class=\"data row16 col0\" >Inpro planuje emisję obligacji do kwoty 35 mln zł</td>\n",
       "      <td id=\"T_34640_row16_col1\" class=\"data row16 col1\" >Grupa Inpro podpisała z Michael / Ström Dom Maklerski umowę o organizację emisji obligacji na okaziciela do kwoty 35 mln zł z terminem zapadalności 48 miesięcy - podała spółka w komunikacie.</td>\n",
       "      <td id=\"T_34640_row16_col2\" class=\"data row16 col2\" ><a href=\"https://infostrefa.com/infostrefa/pl/wiadomosci/39872371,inpro-planuje-emisje-obligacji-do-kwoty-35-mln-zl\">39872371,inpro-planuje-emisje-obligacji-do-kwoty-35-mln-zl</a></td>\n",
       "    </tr>\n",
       "    <tr>\n",
       "      <th id=\"T_34640_level0_row17\" class=\"row_heading level0 row17\" >2021-07-22 14:36:32</th>\n",
       "      <td id=\"T_34640_row17_col0\" class=\"data row17 col0\" >INPRO SA (21/2021) Podpisanie umowy o organizację emisji obligacji.</td>\n",
       "      <td id=\"T_34640_row17_col1\" class=\"data row17 col1\" >Raport bieżący 21/2021</td>\n",
       "      <td id=\"T_34640_row17_col2\" class=\"data row17 col2\" ><a href=\"https://infostrefa.com/infostrefa/pl/wiadomosci/39872290,inpro-sa-21-2021-podpisanie-umowy-o-organizacje-emisji-obligacji\">39872290,inpro-sa-21-2021-podpisanie-umowy-o-organizacje-emisji-obligacji</a></td>\n",
       "    </tr>\n",
       "    <tr>\n",
       "      <th id=\"T_34640_level0_row18\" class=\"row_heading level0 row18\" >2021-07-05 10:43:22</th>\n",
       "      <td id=\"T_34640_row18_col0\" class=\"data row18 col0\" >INPRO S.A. rozpoczyna sprzedaż mieszkań na osiedlu RYTM w Gdańsku</td>\n",
       "      <td id=\"T_34640_row18_col1\" class=\"data row18 col1\" >INPRO S.A. rozpoczął sprzedaż mieszkań w gdańskiej inwestycji osiedle RYTM. Powstanie w niej 105 mieszkań o powierzchni od 38 do 118 m2...</td>\n",
       "      <td id=\"T_34640_row18_col2\" class=\"data row18 col2\" ><a href=\"https://www.nieruchomosci.egospodarka.pl/170956,INPRO-S-A-rozpoczyna-sprzedaz-mieszkan-na-osiedlu-RYTM-w-Gdansku,1,80,1.html\">170956,INPRO-S-A-rozpoczyna-sprzedaz-mieszkan-na-osiedlu-RYTM-w-Gdansku,1,80,1.html</a></td>\n",
       "    </tr>\n",
       "    <tr>\n",
       "      <th id=\"T_34640_level0_row19\" class=\"row_heading level0 row19\" >2021-07-02 13:12:11</th>\n",
       "      <td id=\"T_34640_row19_col0\" class=\"data row19 col0\" >Inpro sprzedało w II kw. 191 lokali wobec 91 lokali przed rokiem</td>\n",
       "      <td id=\"T_34640_row19_col1\" class=\"data row19 col1\" >Grupa Inpro sprzedała w II kwartale 191 lokali wobec 91 lokali przed rokiem - poinformował deweloper w komunikacie. Grupa przekazała w tym czasie klientom 121 lokali w porównaniu do 106 sztuk rok wcześniej.</td>\n",
       "      <td id=\"T_34640_row19_col2\" class=\"data row19 col2\" ><a href=\"http://infostrefa.com/infostrefa/pl/wiadomosci/39712706,inpro-sprzedalo-w-ii-kw-191-lokali-wobec-91-lokali-przed-rokiem\">39712706,inpro-sprzedalo-w-ii-kw-191-lokali-wobec-91-lokali-przed-rokiem</a></td>\n",
       "    </tr>\n",
       "  </tbody>\n",
       "</table>\n"
      ],
      "text/plain": [
       "<pandas.io.formats.style.Styler at 0x20dff3431c0>"
      ]
     },
     "execution_count": 18,
     "metadata": {},
     "output_type": "execute_result"
    }
   ],
   "source": [
    "# Let's parse website to dates, header, body and links\n",
    "\n",
    "record_header = soup.find_all(class_=\"record-header\")\n",
    "record_body = soup.find_all(class_=\"record-body\")\n",
    "record_date = soup.find_all(class_='record-date')\n",
    "\n",
    "dates = [date.text.strip() for date in record_date]\n",
    "headers = [header.text.strip() for header in record_header]\n",
    "bodies = [body.text.strip() for body in record_body]\n",
    "links = []\n",
    "\n",
    "# Here we get into record_header to get links\n",
    "for record in record_header:\n",
    "    hrefs = record.find_all(\"a\")\n",
    "    for href in hrefs:\n",
    "        links.append(href[\"href\"])\n",
    "\n",
    "# Now we zip header, body and links\n",
    "news = zip(dates, headers, bodies, links)\n",
    "\n",
    "# And create DataFrame\n",
    "df = pd.DataFrame(news)\n",
    "df = df.set_index(0)\n",
    "\n",
    "# Add function which allow links to be clickable\n",
    "def make_clickable(path):\n",
    "    \n",
    "    # returns the final component of a path\n",
    "    f_url = os.path.basename(path)\n",
    "      \n",
    "    # convert the path into clickable link\n",
    "    return '<a href=\"{}\">{}</a>'.format(path, f_url)\n",
    "  \n",
    "# Applying function make_clickable on column 3\n",
    "df = df.style.format({3: make_clickable})\n",
    "df\n"
   ]
  },
  {
   "cell_type": "code",
   "execution_count": null,
   "metadata": {},
   "outputs": [],
   "source": []
  }
 ],
 "metadata": {
  "kernelspec": {
   "display_name": "Python 3 (ipykernel)",
   "language": "python",
   "name": "python3"
  },
  "language_info": {
   "codemirror_mode": {
    "name": "ipython",
    "version": 3
   },
   "file_extension": ".py",
   "mimetype": "text/x-python",
   "name": "python",
   "nbconvert_exporter": "python",
   "pygments_lexer": "ipython3",
   "version": "3.9.7"
  }
 },
 "nbformat": 4,
 "nbformat_minor": 4
}
